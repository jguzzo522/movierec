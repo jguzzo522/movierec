{
 "cells": [
  {
   "cell_type": "markdown",
   "id": "eac12876-6503-4ddd-814a-ec7227bcd01d",
   "metadata": {},
   "source": [
    "# Business Understanding\n",
    "\n",
    "This project aims to create top 5 movie recommendations for each user of the streaming service. The reason to provide movie recommendations, is to enhace the users experience. It is important to keep the users happy while using this streaming service, because there are many streaming services to choose from. \n",
    "\n",
    "In addtion this project aims to solve the cold start problem. The cold start problem applies to new users who the company has no historical data about. This cold start problem makes it challenging for companies to personalize movie reccomendations, because there is no past history to base the reccomendations off of. Its important to solve the cold start problem, so new users are impressed with the streaming service, and enjoy their experience. \n"
   ]
  },
  {
   "cell_type": "markdown",
   "id": "c1ced891-2be2-4ebe-9064-0ee947b42096",
   "metadata": {},
   "source": [
    "# Data Understanding\n",
    "\n",
    "The dataset for this project can be accessed at https://grouplens.org/datasets/movielens/latest/. In this dataset are users movie ratings ranging from 0.5 to 5 stars. The data set also includes the following:\n",
    "\n",
    "\n",
    "| Column       | Description                                                   |\n",
    "|--------------|---------------------------------------------------------------|\n",
    "| movieId      | Unique identifier for each movie                              |\n",
    "| title        | Title of the movie along with the release year                |\n",
    "| genres       | Genres associated with the movie, separated by '|'             |\n",
    "| userId_x     | User ID of the user who provided the rating                   |\n",
    "| rating       | Rating given to the movie by the user                         |\n",
    "| timestamp_x  | Timestamp when the rating was given by the user               |\n",
    "| userId_y     | User ID of the user who applied the tag                       |\n",
    "| tag          | Tag applied to the movie by the user                          |\n",
    "| timestamp_y  | Timestamp when the tag was applied by the user                |\n",
    "| imdbId       | IMDb ID of the movie                                          |\n",
    "| tmdbId       | TMDb ID of the movie                                          |\n"
   ]
  },
  {
   "cell_type": "markdown",
   "id": "a2b5efd6-c647-43b4-8a1b-e89d8af24a4f",
   "metadata": {},
   "source": [
    "### Importing datasets and libraries needed for notebook\n",
    "\n",
    "Packages such as Pandas, Numpy, Matplotlib, Surprise, Scikit-learn, and Scipy were used to create models and evaluate performance for both movie recommendations and the cold start problem.\n",
    "\n",
    "Once the packages were loaded, the four datasets were imported, and an empty dictionary was created to store all four DataFrames. Evaluation of the datasets began by reviewing the number of rows and columns, as well as printing out the first 5 data points from each dataset.\n"
   ]
  },
  {
   "cell_type": "code",
   "execution_count": 1,
   "id": "ca26e06e-bdcf-42c5-8588-8034b1290205",
   "metadata": {},
   "outputs": [
    {
     "name": "stdout",
     "output_type": "stream",
     "text": [
      "DataFrame: movies, Number of Rows: 9742\n",
      "   movieId                               title  \\\n",
      "0        1                    Toy Story (1995)   \n",
      "1        2                      Jumanji (1995)   \n",
      "2        3             Grumpier Old Men (1995)   \n",
      "3        4            Waiting to Exhale (1995)   \n",
      "4        5  Father of the Bride Part II (1995)   \n",
      "\n",
      "                                        genres  \n",
      "0  Adventure|Animation|Children|Comedy|Fantasy  \n",
      "1                   Adventure|Children|Fantasy  \n",
      "2                               Comedy|Romance  \n",
      "3                         Comedy|Drama|Romance  \n",
      "4                                       Comedy  \n",
      "\n",
      "\n",
      "DataFrame: links, Number of Rows: 9742\n",
      "   movieId  imdbId   tmdbId\n",
      "0        1  114709    862.0\n",
      "1        2  113497   8844.0\n",
      "2        3  113228  15602.0\n",
      "3        4  114885  31357.0\n",
      "4        5  113041  11862.0\n",
      "\n",
      "\n",
      "DataFrame: ratings, Number of Rows: 100836\n",
      "   userId  movieId  rating  timestamp\n",
      "0       1        1     4.0  964982703\n",
      "1       1        3     4.0  964981247\n",
      "2       1        6     4.0  964982224\n",
      "3       1       47     5.0  964983815\n",
      "4       1       50     5.0  964982931\n",
      "\n",
      "\n",
      "DataFrame: tags, Number of Rows: 3683\n",
      "   userId  movieId              tag   timestamp\n",
      "0       2    60756            funny  1445714994\n",
      "1       2    60756  Highly quotable  1445714996\n",
      "2       2    60756     will ferrell  1445714992\n",
      "3       2    89774     Boxing story  1445715207\n",
      "4       2    89774              MMA  1445715200\n",
      "\n",
      "\n"
     ]
    }
   ],
   "source": [
    "import os\n",
    "import pandas as pd\n",
    "import numpy as np\n",
    "import matplotlib.pyplot as plt\n",
    "from surprise.model_selection import train_test_split\n",
    "from surprise import accuracy\n",
    "from surprise import SVDpp, Dataset, Reader\n",
    "from surprise.model_selection import cross_validate\n",
    "from collections import defaultdict\n",
    "from surprise.model_selection import GridSearchCV\n",
    "from surprise import SVD\n",
    "from surprise import Dataset, Reader\n",
    "from surprise import Reader, Dataset, SVD\n",
    "from surprise.model_selection import cross_validate\n",
    "from sklearn.decomposition import PCA\n",
    "from sklearn.cluster import KMeans\n",
    "from scipy.sparse import csr_matrix\n",
    "\n",
    "\n",
    "\n",
    "# Define the folder path for the \"movierec\" folder from Desktop\n",
    "folder_path = os.path.join(os.path.expanduser(\"~\"), \"Desktop\", \"movierec\")\n",
    "\n",
    "# Define file paths for each CSV file within the \"movierec\" folder\n",
    "file_paths = {\n",
    "    'movies': os.path.join(folder_path, 'movies.csv'),\n",
    "    'links': os.path.join(folder_path, 'links.csv'),\n",
    "    'ratings': os.path.join(folder_path, 'ratings.csv'),\n",
    "    'tags': os.path.join(folder_path, 'tags.csv')\n",
    "}\n",
    "\n",
    "# Create an empty dictionary to store DataFrames\n",
    "dfs = {}\n",
    "\n",
    "# Read each CSV file into a DataFrame and store it in the dictionary\n",
    "for key, path in file_paths.items():\n",
    "    dfs[key] = pd.read_csv(path)\n",
    "\n",
    "# Check the number of rows in each DataFrame and display the first few rows with column names\n",
    "for key, df in dfs.items():\n",
    "    print(f\"DataFrame: {key}, Number of Rows: {df.shape[0]}\")\n",
    "    print(df.head())  # Display the first few rows of the DataFrame with column names\n",
    "    print(\"\\n\")\n",
    "\n"
   ]
  },
  {
   "cell_type": "markdown",
   "id": "c2f6f499-f4b8-4af2-9347-c7f8400b5139",
   "metadata": {},
   "source": [
    "# Data Evaluation\n",
    "\n",
    "## Ratings\n",
    "The 'rating' column was reviewed for summary statistics. The mean rating is 3.5 out of 5, suggesting that users generally give positive ratings to movies. However, the standard deviation of 1.04 indicates considerable variability in user ratings, with some users rating movies significantly higher or lower than the average. \n",
    "\n",
    "The dataset comprises 610 unique users and 9,724 unique movies. There are no missing values in the 'userId', 'movieId', 'rating', or 'timestamp' columns.\n"
   ]
  },
  {
   "cell_type": "code",
   "execution_count": 2,
   "id": "bcda3cde-ccb4-4eda-8246-80c717bee001",
   "metadata": {},
   "outputs": [
    {
     "name": "stdout",
     "output_type": "stream",
     "text": [
      "Ratings Distribution:\n",
      " count    100836.000000\n",
      "mean          3.501557\n",
      "std           1.042529\n",
      "min           0.500000\n",
      "25%           3.000000\n",
      "50%           3.500000\n",
      "75%           4.000000\n",
      "max           5.000000\n",
      "Name: rating, dtype: float64\n",
      "\n",
      "Unique Users: 610\n",
      "Unique Movies: 9724\n",
      "\n",
      "Missing Values in Ratings DataFrame:\n",
      " userId       0\n",
      "movieId      0\n",
      "rating       0\n",
      "timestamp    0\n",
      "dtype: int64\n"
     ]
    }
   ],
   "source": [
    "print(\"Ratings Distribution:\\n\", dfs['ratings']['rating'].describe())\n",
    "\n",
    "print(\"\\nUnique Users:\", dfs['ratings']['userId'].nunique())\n",
    "print(\"Unique Movies:\", dfs['ratings']['movieId'].nunique())\n",
    "\n",
    "# Check for missing values\n",
    "print(\"\\nMissing Values in Ratings DataFrame:\\n\", dfs['ratings'].isnull().sum())\n"
   ]
  },
  {
   "cell_type": "markdown",
   "id": "66cb5a4a-0c5c-4760-9301-d6b4081c1dc9",
   "metadata": {},
   "source": [
    "# Ratings Analysis\n",
    "\n",
    "## Average Rating per User\n",
    "The average rating per user was calculated, resulting in a mean rating of 3.66 out of 5. The standard deviation of 0.48 indicates some variability in user ratings, with the minimum and maximum ratings being 1.28 and 5.0, respectively.\n",
    "\n",
    "### Distribution of Ratings per User\n",
    "The distribution of ratings showed a wide range in the number of ratings provided by each user. On average, each user provided approximately 165 ratings, with a standard deviation of 269.5. The minimum number of ratings per user was 20, while the maximum was 2698.\n",
    "\n",
    "## Average Rating per Movie\n",
    "The average rating per movie was computed, with a mean rating of 3.26 out of 5. Similar to the user ratings, there is some variability in movie ratings, as indicated by the standard deviation of 0.87. The minimum and maximum ratings for movies were 0.5 and 5.0, respectively.\n",
    "\n",
    "### Distribution of Ratings per Movie\n",
    "The distribution of ratings per movie was reviewed, revealing that most movies received a relatively low number of ratings. On average, each movie received approximately 10 ratings, with a standard deviation of 22.4. The minimum number of ratings per movie was 1, while the maximum was 329.\n"
   ]
  },
  {
   "cell_type": "code",
   "execution_count": 3,
   "id": "12ca88c4-1cfa-4bea-80f6-4a8ea46ba2fa",
   "metadata": {},
   "outputs": [
    {
     "name": "stdout",
     "output_type": "stream",
     "text": [
      "Average Rating per User:\n",
      " count    610.000000\n",
      "mean       3.657222\n",
      "std        0.480635\n",
      "min        1.275000\n",
      "25%        3.360000\n",
      "50%        3.694385\n",
      "75%        3.997500\n",
      "max        5.000000\n",
      "Name: rating, dtype: float64\n",
      "\n",
      "Distribution of Ratings per User:\n",
      " count     610.000000\n",
      "mean      165.304918\n",
      "std       269.480584\n",
      "min        20.000000\n",
      "25%        35.000000\n",
      "50%        70.500000\n",
      "75%       168.000000\n",
      "max      2698.000000\n",
      "Name: rating, dtype: float64\n",
      "\n",
      "Average Rating per Movie:\n",
      " count    9724.000000\n",
      "mean        3.262448\n",
      "std         0.869874\n",
      "min         0.500000\n",
      "25%         2.800000\n",
      "50%         3.416667\n",
      "75%         3.911765\n",
      "max         5.000000\n",
      "Name: rating, dtype: float64\n",
      "\n",
      "Distribution of Ratings per Movie:\n",
      " count    9724.000000\n",
      "mean       10.369807\n",
      "std        22.401005\n",
      "min         1.000000\n",
      "25%         1.000000\n",
      "50%         3.000000\n",
      "75%         9.000000\n",
      "max       329.000000\n",
      "Name: rating, dtype: float64\n"
     ]
    }
   ],
   "source": [
    "# Compute average rating per user\n",
    "average_ratings_per_user = dfs['ratings'].groupby('userId')['rating'].mean()\n",
    "\n",
    "# Explore distribution of number of ratings per user\n",
    "ratings_per_user_distribution = dfs['ratings'].groupby('userId')['rating'].count()\n",
    "\n",
    "# Compute average rating per movie\n",
    "average_ratings_per_movie = dfs['ratings'].groupby('movieId')['rating'].mean()\n",
    "\n",
    "# Explore distribution of ratings per movie\n",
    "ratings_per_movie_distribution = dfs['ratings'].groupby('movieId')['rating'].count()\n",
    "\n",
    "# Display results\n",
    "print(\"Average Rating per User:\\n\", average_ratings_per_user.describe())\n",
    "print(\"\\nDistribution of Ratings per User:\\n\", ratings_per_user_distribution.describe())\n",
    "print(\"\\nAverage Rating per Movie:\\n\", average_ratings_per_movie.describe())\n",
    "print(\"\\nDistribution of Ratings per Movie:\\n\", ratings_per_movie_distribution.describe())\n"
   ]
  },
  {
   "cell_type": "markdown",
   "id": "28dcd696-ab60-4083-880d-5d8cf256ab11",
   "metadata": {},
   "source": [
    "## Movie Analysis\n",
    "\n",
    "This dataset contains a total of 9,742 movies.\n",
    "\n",
    "### Genres\n",
    "Movies can belong to multiple genres. For example, 'Toy Story' is categorized as an adventure, animation, children, comedy, and fantasy movie.\n"
   ]
  },
  {
   "cell_type": "code",
   "execution_count": 4,
   "id": "ed2b9113-f906-4677-a55e-fc02080d735d",
   "metadata": {},
   "outputs": [
    {
     "name": "stdout",
     "output_type": "stream",
     "text": [
      "Total Movies: 9742\n",
      "\n",
      "Genres Sample:\n",
      " 0    Adventure|Animation|Children|Comedy|Fantasy\n",
      "1                     Adventure|Children|Fantasy\n",
      "2                                 Comedy|Romance\n",
      "3                           Comedy|Drama|Romance\n",
      "4                                         Comedy\n",
      "Name: genres, dtype: object\n",
      "\n",
      "Year of Release Sample:\n",
      "                                 title  year\n",
      "0                    Toy Story (1995)  1995\n",
      "1                      Jumanji (1995)  1995\n",
      "2             Grumpier Old Men (1995)  1995\n",
      "3            Waiting to Exhale (1995)  1995\n",
      "4  Father of the Bride Part II (1995)  1995\n"
     ]
    }
   ],
   "source": [
    "# Total Movies\n",
    "total_movies = len(dfs['movies'])\n",
    "\n",
    "# Genres\n",
    "# Inspect the first few rows to understand the genres format\n",
    "genres_sample = dfs['movies']['genres'].head()\n",
    "\n",
    "# Year of Release (if available)\n",
    "# Extract year from title (assuming title format: \"Title (Year)\")\n",
    "# Example: \"Toy Story (1995)\"\n",
    "dfs['movies']['year'] = dfs['movies']['title'].str.extract(r\"\\((\\d{4})\\)\")\n",
    "# Check the first few rows of the modified DataFrame\n",
    "year_sample = dfs['movies'][['title', 'year']].head()\n",
    "\n",
    "# Display results\n",
    "print(\"Total Movies:\", total_movies)\n",
    "print(\"\\nGenres Sample:\\n\", genres_sample)\n",
    "print(\"\\nYear of Release Sample:\\n\", year_sample)\n"
   ]
  },
  {
   "cell_type": "markdown",
   "id": "833a206c-3664-47b0-9cb9-e23b090356f2",
   "metadata": {},
   "source": [
    "# Data Merging\n",
    "\n",
    "In this section, the ratings and movies datasets were merged based on the 'movieId' column. The merging process was performed using an inner join to retain only the rows that have matching 'movieId' values in both datasets. This ensures that only ratings for movies present in the movies dataset are included in the merged dataframe.\n"
   ]
  },
  {
   "cell_type": "code",
   "execution_count": 5,
   "id": "afafa9c4-75fe-4b90-b22d-a3eeb0f326be",
   "metadata": {},
   "outputs": [
    {
     "name": "stdout",
     "output_type": "stream",
     "text": [
      "Merged DataFrame Sample:\n",
      "    userId  movieId  rating   timestamp             title  \\\n",
      "0       1        1     4.0   964982703  Toy Story (1995)   \n",
      "1       5        1     4.0   847434962  Toy Story (1995)   \n",
      "2       7        1     4.5  1106635946  Toy Story (1995)   \n",
      "3      15        1     2.5  1510577970  Toy Story (1995)   \n",
      "4      17        1     4.5  1305696483  Toy Story (1995)   \n",
      "\n",
      "                                        genres  year  \n",
      "0  Adventure|Animation|Children|Comedy|Fantasy  1995  \n",
      "1  Adventure|Animation|Children|Comedy|Fantasy  1995  \n",
      "2  Adventure|Animation|Children|Comedy|Fantasy  1995  \n",
      "3  Adventure|Animation|Children|Comedy|Fantasy  1995  \n",
      "4  Adventure|Animation|Children|Comedy|Fantasy  1995  \n",
      "\n",
      "Average Ratings by Genre:\n",
      " genres\n",
      "Fantasy|Mystery|Western                5.0\n",
      "Animation|Children|Mystery             5.0\n",
      "Comedy|Horror|Mystery                  5.0\n",
      "Animation|Drama|Fantasy|Mystery        5.0\n",
      "Drama|Horror|Romance                   5.0\n",
      "                                      ... \n",
      "Action|Adventure|Comedy|Sci-Fi|IMAX    0.5\n",
      "Children|Horror|Sci-Fi                 0.5\n",
      "Animation|Children|Comedy|Drama        0.5\n",
      "Crime|Horror|Sci-Fi                    0.5\n",
      "Adventure|Children|Comedy|Sci-Fi       0.5\n",
      "Name: rating, Length: 951, dtype: float64\n",
      "\n",
      "Average Ratings Over the Years:\n",
      " year\n",
      "1902    3.500000\n",
      "1903    2.500000\n",
      "1908    4.000000\n",
      "1915    2.000000\n",
      "1916    3.600000\n",
      "          ...   \n",
      "2014    3.512879\n",
      "2015    3.410386\n",
      "2016    3.387261\n",
      "2017    3.578091\n",
      "2018    3.483516\n",
      "Name: rating, Length: 106, dtype: float64\n"
     ]
    }
   ],
   "source": [
    "# Merge ratings and movies dataframes\n",
    "merged_df = pd.merge(dfs['ratings'], dfs['movies'], on='movieId', how='inner')\n",
    "\n",
    "# Display the first few rows of the merged dataframe\n",
    "print(\"Merged DataFrame Sample:\\n\", merged_df.head())\n",
    "\n",
    "\n",
    "# Example: Ratings by genre\n",
    "ratings_by_genre = merged_df.groupby('genres')['rating'].mean().sort_values(ascending=False)\n",
    "print(\"\\nAverage Ratings by Genre:\\n\", ratings_by_genre)\n",
    "\n",
    "# Example: Ratings trend over the years\n",
    "ratings_by_year = merged_df.groupby('year')['rating'].mean()\n",
    "print(\"\\nAverage Ratings Over the Years:\\n\", ratings_by_year)\n",
    "\n"
   ]
  },
  {
   "cell_type": "code",
   "execution_count": 6,
   "id": "3b515d5e-cd7a-4a80-865f-11ac45b023a7",
   "metadata": {},
   "outputs": [
    {
     "name": "stdout",
     "output_type": "stream",
     "text": [
      "['1995' '1996' '1994' '1977' '1993' '1990' '1989' '1991' '1940' '1939'\n",
      " '1941' '1938' '1947' '1975' '1968' '1945' '1963' '1971' '1951' '1979'\n",
      " '1992' '1986' '1982' '1980' '1987' '1981' '1983' '1960' '1952' '1984'\n",
      " '1933' '1985' '1974' '1922' '1997' '1998' '1930' '1976' '1942' '1967'\n",
      " '1959' '1946' '1978' '1973' '1988' '1999' '1931' '1964' '1962' '1965'\n",
      " '1969' '2000' '1970' '2003' '2004' '2006' '2008' '2009' '2010' '2011'\n",
      " '2012' '2013' '2014' '2015' '1955' '2002' '1961' '1954' '1957' '1943'\n",
      " '1956' '1966' '2001' '1937' '1972' '2005' '1950' '2007' '2016' '1926'\n",
      " '1944' '1949' '1936' '2017' '1958' '1935' '1927' '1953' '2018' '1923'\n",
      " '1902' '1920' '1948' '1928' nan '1934' '1916' '1908' '1932' '1921' '1925'\n",
      " '1929' '1917' '1915' '1924' '1903' '1919']\n"
     ]
    }
   ],
   "source": [
    "print(merged_df['year'].unique())\n"
   ]
  },
  {
   "cell_type": "markdown",
   "id": "ba31851b-f1b2-447d-b26f-f53a75936e42",
   "metadata": {},
   "source": [
    "# Data Transformation\n",
    "\n",
    "## Conversion of 'year' Column\n",
    "The 'year' column in the merged dataframe was converted to numeric format using the `pd.to_numeric()` function. Any 'nan' values were replaced with zeros and then converted to integer data type. This conversion allows for easier manipulation and analysis of movie release years.\n",
    "\n",
    "# Visualizations\n",
    "\n",
    "## Average Ratings per User Over Time (Decade)\n",
    "This line plot shows user engagement, showing the average ratings given by users for each decade. The trend revealed that average ratings were consistently above 3.6 after the 1920s, with a peak around 3.9 in the 1970s. A noticeable dip occurred in the 1980s, with average ratings descending to around 3.6. Post 1990's there has been an increase in ratings , that seems to be continuing to grow which indicates a postive shift in likeability of movies. \n",
    "\n",
    "## Average Ratings per Movie Over Time (Decade)\n",
    "\n"
   ]
  },
  {
   "cell_type": "code",
   "execution_count": 7,
   "id": "3d42637b-63bb-4c84-9580-30c60bcb76f4",
   "metadata": {},
   "outputs": [
    {
     "data": {
      "image/png": "[encoded data removed]",
      "text/plain": [
       "<Figure size 1200x600 with 1 Axes>"
      ]
     },
     "metadata": {},
     "output_type": "display_data"
    }
   ],
   "source": [
    "# Convert 'year' column to numeric, replacing 'nan' with zeros\n",
    "merged_df['year'] = pd.to_numeric(merged_df['year'], errors='coerce').fillna(0).astype(int)\n",
    "\n",
    "# Aggregate data by decade\n",
    "merged_df['decade'] = (merged_df['year'] // 10) * 10\n",
    "\n",
    "# Replace zeros with 'nan' values\n",
    "merged_df.loc[merged_df['year'] == 0, 'decade'] = np.nan\n",
    "\n",
    "## Correct calculation for average ratings per user per decade\n",
    "ratings_per_user_over_decade = merged_df.groupby(['decade', 'userId'])['rating'].mean().reset_index()\n",
    "\n",
    "plt.figure(figsize=(12, 6))\n",
    "plt.plot(ratings_per_user_over_decade.groupby('decade')['rating'].mean(), marker='o', linestyle='-')\n",
    "plt.title('Average Ratings per User Over Time (Decade)')\n",
    "plt.xlabel('Decade')\n",
    "plt.ylabel('Average Rating')  \n",
    "plt.grid(True)\n",
    "plt.xticks(rotation=45)\n",
    "plt.show()\n",
    "\n",
    "\n",
    "\n"
   ]
  },
  {
   "cell_type": "markdown",
   "id": "b5ded25a-e88c-43c9-a32d-118b54296bda",
   "metadata": {},
   "source": [
    "# Additional Data Merging\n",
    "\n",
    "## Tags Dataset Integration\n",
    "\n",
    "The tags dataset has been merged with the existing merged DataFrame to incorporate user-generated tags applied to movies. \n",
    "\n",
    "## Missing Values Check\n",
    "\n",
    "- **userId_y**: 52,549 missing values\n",
    "- **tag**: 52,549 missing values\n",
    "- **timestamp_y**: 52,549 missing values\n"
   ]
  },
  {
   "cell_type": "code",
   "execution_count": 8,
   "id": "93698f51-6d5e-41a4-a3bd-a8b31d33eb39",
   "metadata": {},
   "outputs": [
    {
     "name": "stdout",
     "output_type": "stream",
     "text": [
      "Links Dataset:\n",
      "    movieId  imdbId   tmdbId\n",
      "0        1  114709    862.0\n",
      "1        2  113497   8844.0\n",
      "2        3  113228  15602.0\n",
      "3        4  114885  31357.0\n",
      "4        5  113041  11862.0\n",
      "\n",
      "Tags Dataset:\n",
      "    userId  movieId              tag   timestamp\n",
      "0       2    60756            funny  1445714994\n",
      "1       2    60756  Highly quotable  1445714996\n",
      "2       2    60756     will ferrell  1445714992\n",
      "3       2    89774     Boxing story  1445715207\n",
      "4       2    89774              MMA  1445715200\n"
     ]
    }
   ],
   "source": [
    "# Load the remaining datasets\n",
    "links_df = pd.read_csv(file_paths['links'])\n",
    "tags_df = pd.read_csv(file_paths['tags'])\n",
    "\n",
    "# Display the first few rows of each dataset to understand their contents\n",
    "print(\"Links Dataset:\\n\", links_df.head())\n",
    "print(\"\\nTags Dataset:\\n\", tags_df.head())\n"
   ]
  },
  {
   "cell_type": "code",
   "execution_count": 9,
   "id": "c5cc4623-7bfa-441c-bfd7-4166d4267a24",
   "metadata": {},
   "outputs": [
    {
     "name": "stdout",
     "output_type": "stream",
     "text": [
      "Updated Merged DataFrame:\n",
      "    userId_x  movieId  rating  timestamp_x             title  \\\n",
      "0         1        1     4.0    964982703  Toy Story (1995)   \n",
      "1         1        1     4.0    964982703  Toy Story (1995)   \n",
      "2         1        1     4.0    964982703  Toy Story (1995)   \n",
      "3         5        1     4.0    847434962  Toy Story (1995)   \n",
      "4         5        1     4.0    847434962  Toy Story (1995)   \n",
      "\n",
      "                                        genres  year  decade  userId_y    tag  \\\n",
      "0  Adventure|Animation|Children|Comedy|Fantasy  1995  1990.0     336.0  pixar   \n",
      "1  Adventure|Animation|Children|Comedy|Fantasy  1995  1990.0     474.0  pixar   \n",
      "2  Adventure|Animation|Children|Comedy|Fantasy  1995  1990.0     567.0    fun   \n",
      "3  Adventure|Animation|Children|Comedy|Fantasy  1995  1990.0     336.0  pixar   \n",
      "4  Adventure|Animation|Children|Comedy|Fantasy  1995  1990.0     474.0  pixar   \n",
      "\n",
      "    timestamp_y  \n",
      "0  1.139046e+09  \n",
      "1  1.137207e+09  \n",
      "2  1.525286e+09  \n",
      "3  1.139046e+09  \n",
      "4  1.137207e+09  \n",
      "\n",
      "Missing Values in Merged DataFrame:\n",
      " userId_x           0\n",
      "movieId            0\n",
      "rating             0\n",
      "timestamp_x        0\n",
      "title              0\n",
      "genres             0\n",
      "year               0\n",
      "decade            20\n",
      "userId_y       52549\n",
      "tag            52549\n",
      "timestamp_y    52549\n",
      "dtype: int64\n"
     ]
    }
   ],
   "source": [
    "# Load the remaining datasets\n",
    "links_df = pd.read_csv(file_paths['links'])\n",
    "tags_df = pd.read_csv(file_paths['tags'])\n",
    "\n",
    "# Merge tags dataset\n",
    "merged_df = pd.merge(merged_df, tags_df, on='movieId', how='left')\n",
    "\n",
    "# Display the first few rows of the updated merged DataFrame\n",
    "print(\"Updated Merged DataFrame:\\n\", merged_df.head())\n",
    "\n",
    "# Check for any missing values after merging\n",
    "print(\"\\nMissing Values in Merged DataFrame:\\n\", merged_df.isnull().sum())\n"
   ]
  },
  {
   "cell_type": "markdown",
   "id": "0856733b-f3b2-4a54-a82c-9cc9e740ebd0",
   "metadata": {},
   "source": [
    "### Discription Table\n",
    "\n",
    "The below shows the columns and their discription. "
   ]
  },
  {
   "cell_type": "code",
   "execution_count": 10,
   "id": "4e6aaa78-a9cf-46d2-ac22-d8147ac911e3",
   "metadata": {},
   "outputs": [
    {
     "name": "stdout",
     "output_type": "stream",
     "text": [
      "Index(['userId_x', 'movieId', 'rating', 'timestamp_x', 'title', 'genres',\n",
      "       'year', 'decade', 'userId_y', 'tag', 'timestamp_y'],\n",
      "      dtype='object')\n"
     ]
    }
   ],
   "source": [
    "# Print all the columns of the merged DataFrame\n",
    "print(merged_df.columns)"
   ]
  },
  {
   "cell_type": "markdown",
   "id": "453652c8-2d26-42fa-ab63-19c73c587d76",
   "metadata": {},
   "source": [
    "| Column                | Description                                                    |\n",
    "|-----------------------|----------------------------------------------------------------|\n",
    "| movieId               | Unique identifier for each movie                               |\n",
    "| title                 | Title of the movie along with the release year                 |\n",
    "| genres                | Genres associated with the movie, separated by '|'            |\n",
    "| userId_x              | User ID of the user who provided the rating                    |\n",
    "| rating                | Rating given to the movie by the user                          |\n",
    "| timestamp_x           | Timestamp when the rating was given by the user                |\n",
    "| userId_y              | User ID of the user who applied the tag                        |\n",
    "| tag                   | Tag applied to the movie by the user                           |\n",
    "| timestamp_y           | Timestamp when the tag was applied by the user                 |\n",
    "| imdbId                | IMDb ID of the movie                                            |\n",
    "| tmdbId                | TMDb ID of the movie                                            |\n"
   ]
  },
  {
   "cell_type": "markdown",
   "id": "f753eeaa-1cf3-4b05-a60d-c9dc51e1bf4a",
   "metadata": {},
   "source": [
    "# Handling Missing Values\n",
    "\n",
    "Before handling missing values, the DataFrame had **285,762** rows. After handling missing values:\n",
    "\n",
    "- The 'tag' column was filled with 'Unknown' for missing values.\n",
    "- Rows with missing values in the 'userId_y' and 'timestamp_y' columns were dropped.\n",
    "\n",
    "As a result, the DataFrame now contains **233,213** rows.\n"
   ]
  },
  {
   "cell_type": "code",
   "execution_count": 11,
   "id": "9285813f-4319-44f1-b4e5-0e7af1ffeb49",
   "metadata": {
    "scrolled": true
   },
   "outputs": [
    {
     "name": "stdout",
     "output_type": "stream",
     "text": [
      "Number of Rows Before Handling Missing Values: 285762\n",
      "Number of Rows After Handling Missing Values: 233213\n"
     ]
    }
   ],
   "source": [
    "# Before handling missing values\n",
    "num_rows_before_handling = merged_df.shape[0]\n",
    "\n",
    "# Handling missing values\n",
    "# Fill missing values in the 'tag' column with 'Unknown'\n",
    "merged_df['tag'].fillna('Unknown', inplace=True)\n",
    "# Drop rows with missing values in 'userId_y' and 'timestamp_y' columns\n",
    "merged_df.dropna(subset=['userId_y', 'timestamp_y'], inplace=True)\n",
    "\n",
    "# After handling missing values\n",
    "num_rows_after_handling = merged_df.shape[0]\n",
    "\n",
    "# Print the number of rows before and after handling missing values\n",
    "print(\"Number of Rows Before Handling Missing Values:\", num_rows_before_handling)\n",
    "print(\"Number of Rows After Handling Missing Values:\", num_rows_after_handling)\n"
   ]
  },
  {
   "cell_type": "code",
   "execution_count": 12,
   "id": "977b40d2-70b8-4435-8b5e-786da1908990",
   "metadata": {},
   "outputs": [
    {
     "name": "stdout",
     "output_type": "stream",
     "text": [
      "            userId_x        movieId         rating   timestamp_x  \\\n",
      "count  233213.000000  233213.000000  233213.000000  2.332130e+05   \n",
      "mean      309.688191   12319.999443       3.966535  1.213524e+09   \n",
      "std       178.206387   28243.919401       0.968637  2.250448e+08   \n",
      "min         1.000000       1.000000       0.500000  8.281246e+08   \n",
      "25%       156.000000     296.000000       3.500000  1.017365e+09   \n",
      "50%       309.000000    1198.000000       4.000000  1.217325e+09   \n",
      "75%       460.000000    4638.000000       5.000000  1.443201e+09   \n",
      "max       610.000000  193565.000000       5.000000  1.537799e+09   \n",
      "\n",
      "                year         decade       userId_y   timestamp_y  \n",
      "count  233213.000000  233210.000000  233213.000000  2.332130e+05  \n",
      "mean     1994.409235    1989.839329     470.683564  1.384774e+09  \n",
      "std        13.725812      12.033468     153.329632  1.534621e+08  \n",
      "min         0.000000    1920.000000       2.000000  1.137179e+09  \n",
      "25%      1994.000000    1990.000000     424.000000  1.242494e+09  \n",
      "50%      1994.000000    1990.000000     477.000000  1.457901e+09  \n",
      "75%      2000.000000    2000.000000     599.000000  1.498457e+09  \n",
      "max      2018.000000    2010.000000     610.000000  1.537099e+09  \n"
     ]
    }
   ],
   "source": [
    "# Summary Statistics\n",
    "summary_statistics = merged_df.describe()\n",
    "print(summary_statistics)\n"
   ]
  },
  {
   "cell_type": "markdown",
   "id": "b290814f-c1ed-4879-bdf5-f47e8f5d68c8",
   "metadata": {},
   "source": [
    "## Visualization of Distribution of Ratings\n",
    "\n",
    "This bar graph clearly shows that most users are giving movies 3-5 star ratings. The number of 3-star ratings is close to 30k, while anything below 3 is well below the 10k mark. The highest frequency of ratings is 4 stars, and the second highest frequency is 5 stars. The lowest frequency is for movies rated 1.5 stars. This data indicates that users tend to rate movies positively, and the data is skewed towards higher ratings.\n",
    "\n"
   ]
  },
  {
   "cell_type": "code",
   "execution_count": 13,
   "id": "798793ef-a1b1-478e-a997-05575352584f",
   "metadata": {},
   "outputs": [
    {
     "data": {
      "image/png": "[encoded data removed]",
      "text/plain": [
       "<Figure size 800x600 with 1 Axes>"
      ]
     },
     "metadata": {},
     "output_type": "display_data"
    }
   ],
   "source": [
    "import matplotlib.pyplot as plt\n",
    "\n",
    "# Histogram of Ratings\n",
    "plt.figure(figsize=(8, 6))\n",
    "plt.hist(merged_df['rating'], bins=20, color='skyblue', edgecolor='black')\n",
    "plt.title('Distribution of Ratings')\n",
    "plt.xlabel('Rating')\n",
    "plt.ylabel('Frequency')\n",
    "plt.grid(True)\n",
    "plt.show()\n"
   ]
  },
  {
   "cell_type": "code",
   "execution_count": 14,
   "id": "630103a7-8f3d-4727-9d31-e3ea4f1bc1fe",
   "metadata": {},
   "outputs": [
    {
     "data": {
      "image/png": "[encoded data removed]",
      "text/plain": [
       "<Figure size 800x600 with 1 Axes>"
      ]
     },
     "metadata": {},
     "output_type": "display_data"
    }
   ],
   "source": [
    "# Box Plot of Ratings\n",
    "plt.figure(figsize=(8, 6))\n",
    "plt.boxplot(merged_df['rating'])\n",
    "plt.title('Box Plot of Ratings')\n",
    "plt.ylabel('Rating')\n",
    "plt.grid(True)\n",
    "plt.show()\n"
   ]
  },
  {
   "cell_type": "markdown",
   "id": "026eb227-4ad1-49f6-b759-f9d265ae99bf",
   "metadata": {},
   "source": [
    "## Check for Missing Values\n",
    "The dataset was examined for missing values. The 'decade' column had 3 missing values.\n",
    "\n",
    "# Fill missing values in 'decade' column based on 'year' information\n",
    "The missing values in the 'decade' column were filled by deriving decade information from the 'year' column.\n",
    "\n",
    "No rows were found with missing 'decade' values after filling them.\n",
    "\n",
    "There are now 0 missing values in the 'decade' column.\n"
   ]
  },
  {
   "cell_type": "code",
   "execution_count": 15,
   "id": "d47ff99e-b14f-46e9-b3fa-adb31242bc5d",
   "metadata": {},
   "outputs": [
    {
     "name": "stdout",
     "output_type": "stream",
     "text": [
      "Missing Values:\n",
      " userId_x       0\n",
      "movieId        0\n",
      "rating         0\n",
      "timestamp_x    0\n",
      "title          0\n",
      "genres         0\n",
      "year           0\n",
      "decade         3\n",
      "userId_y       0\n",
      "tag            0\n",
      "timestamp_y    0\n",
      "dtype: int64\n"
     ]
    }
   ],
   "source": [
    "# Check for Missing Values\n",
    "missing_values = merged_df.isnull().sum()\n",
    "print(\"Missing Values:\\n\", missing_values)\n"
   ]
  },
  {
   "cell_type": "code",
   "execution_count": 16,
   "id": "4f57c531-0787-4ac8-9ced-eaa4fa260efb",
   "metadata": {},
   "outputs": [
    {
     "name": "stdout",
     "output_type": "stream",
     "text": [
      "Empty DataFrame\n",
      "Columns: [userId_x, movieId, rating, timestamp_x, title, genres, year, decade, userId_y, tag, timestamp_y]\n",
      "Index: []\n"
     ]
    }
   ],
   "source": [
    "# Fill missing values in 'decade' column based on 'year' information\n",
    "merged_df['decade'] = (merged_df['year'] // 10) * 10\n",
    "# Display rows with missing 'decade' values\n",
    "missing_decade_rows = merged_df[merged_df['decade'].isnull()]\n",
    "print(missing_decade_rows)\n"
   ]
  },
  {
   "cell_type": "code",
   "execution_count": 17,
   "id": "fc5bf9ac-2f28-4858-87b8-5306b6a4a26d",
   "metadata": {},
   "outputs": [
    {
     "name": "stdout",
     "output_type": "stream",
     "text": [
      "0\n"
     ]
    }
   ],
   "source": [
    "print(merged_df['decade'].isnull().sum())\n"
   ]
  },
  {
   "cell_type": "markdown",
   "id": "1e9ddfda-f82c-4712-aab1-7270bb41f542",
   "metadata": {},
   "source": [
    "## Analysis of Genres\n",
    "\n",
    "### Unique Genres\n",
    "The dataset was analyzed to identify unique genres. The following genres were found: {'Film-Noir', 'Crime', 'Sci-Fi', 'Mystery', 'Documentary', 'Comedy', 'Horror', 'Animation', '(no genres listed)', 'Drama', 'IMAX', 'Western', 'Romance', 'Musical', 'Fantasy', 'Action', 'War', 'Adventure', 'Thriller', 'Children'}.\n",
    "\n",
    "### Movies with \"(no genres listed)\"\n",
    "There were 3 movies with the label '(no genres listed)', accounting for 0.00% of the total movies in the dataset.\n",
    "\n",
    "### Removal of Movies with \"(no genres listed)\"\n",
    "The movies with the label '(no genres listed)' were removed from the dataset. After removal, the updated DataFrame contained the following unique genres: ['Film-Noir' 'Crime' 'Thriller' 'Mystery' 'Documentary' 'Comedy' 'Horror'\n",
    " 'Animation' 'Drama' 'Sci-Fi' 'IMAX' 'Western' 'Romance' 'Musical'\n",
    " 'Fantasy' 'Action' 'War' 'Adventure' 'Children'].\n",
    "\n",
    "The updated DataFrame shape is (233210, 11).\n"
   ]
  },
  {
   "cell_type": "code",
   "execution_count": 18,
   "id": "76c9b8bc-fdae-4b1a-948e-033706cb63f6",
   "metadata": {},
   "outputs": [
    {
     "name": "stdout",
     "output_type": "stream",
     "text": [
      "Unique Genres: {'Thriller', 'Film-Noir', 'Action', 'Western', 'Animation', 'Fantasy', 'Romance', 'Horror', 'Musical', 'IMAX', 'War', 'Drama', '(no genres listed)', 'Documentary', 'Mystery', 'Sci-Fi', 'Comedy', 'Children', 'Crime', 'Adventure'}\n"
     ]
    }
   ],
   "source": [
    "# Extract unique genres\n",
    "unique_genres = set()\n",
    "\n",
    "for genres in merged_df['genres']:\n",
    "    unique_genres.update(genres.split('|'))\n",
    "\n",
    "print(\"Unique Genres:\", unique_genres)\n"
   ]
  },
  {
   "cell_type": "code",
   "execution_count": 19,
   "id": "7b24d1c6-a3c2-4d26-a7f5-ddcc4c02b5c0",
   "metadata": {},
   "outputs": [
    {
     "name": "stdout",
     "output_type": "stream",
     "text": [
      "Number of movies with '(no genres listed)': 3\n",
      "Percentage of movies with '(no genres listed)': 0.00%\n"
     ]
    }
   ],
   "source": [
    "# Count occurrences of \"(no genres listed)\"\n",
    "no_genre_count = merged_df[merged_df['genres'] == '(no genres listed)'].shape[0]\n",
    "total_movies = merged_df.shape[0]\n",
    "\n",
    "# Calculate percentage of movies with \"(no genres listed)\"\n",
    "percentage_no_genre = (no_genre_count / total_movies) * 100\n",
    "\n",
    "print(\"Number of movies with '(no genres listed)':\", no_genre_count)\n",
    "print(\"Percentage of movies with '(no genres listed)': {:.2f}%\".format(percentage_no_genre))\n"
   ]
  },
  {
   "cell_type": "code",
   "execution_count": 20,
   "id": "8f530631-8880-4001-adf3-2f62255fecfb",
   "metadata": {},
   "outputs": [
    {
     "name": "stdout",
     "output_type": "stream",
     "text": [
      "Unique Genres After Removal: ['Adventure|Animation|Children|Comedy|Fantasy' 'Comedy|Romance'\n",
      " 'Mystery|Thriller' 'Crime|Mystery|Thriller'\n",
      " 'Adventure|Comedy|Crime|Romance' 'Action|Drama|War' 'Comedy'\n",
      " 'Comedy|Drama' 'Action|Adventure|Sci-Fi' 'Comedy|Crime|Drama|Thriller'\n",
      " 'Action|Crime|Drama|Thriller' 'Comedy|Drama|Romance|War' 'Thriller'\n",
      " 'Action|Adventure|Sci-Fi|Thriller' 'Drama|War' 'Comedy|Romance|Thriller'\n",
      " 'Action|Adventure|Comedy|Romance' 'Adventure|Drama|Western'\n",
      " 'Action|Crime|Thriller' 'Crime|Horror|Thriller'\n",
      " 'Animation|Children|Fantasy|Musical' 'Action|Adventure|Mystery|Thriller'\n",
      " 'Adventure|Animation|Children|Comedy|Fantasy|Sci-Fi'\n",
      " 'Action|Adventure|Thriller' 'Action|Adventure|Romance|Thriller'\n",
      " 'Adventure|Children|Fantasy|Musical' 'Drama|Mystery'\n",
      " 'Action|Adventure|Romance' 'Drama|Fantasy|Romance' 'Drama'\n",
      " 'Animation|Children|Drama|Musical' 'Adventure|Animation|Children|Musical'\n",
      " 'Adventure|Animation|Children|Fantasy|Musical' 'Children|Drama|Sci-Fi'\n",
      " 'Adventure|Comedy|Fantasy' 'Action|Adventure|Comedy|Fantasy|Romance'\n",
      " 'Action|Adventure' 'Crime|Drama|Sci-Fi|Thriller' 'Crime|Drama'\n",
      " 'Horror|Sci-Fi' 'Crime|Horror' 'Action|Comedy|Musical'\n",
      " 'Action|Drama|Romance|War' 'Action|Sci-Fi|Thriller' 'Horror'\n",
      " 'Adventure|Comedy|Sci-Fi' 'Comedy|Fantasy' 'Action|Crime'\n",
      " 'Action|Comedy|Crime|Drama|Sci-Fi' 'Action|Romance|War|Western'\n",
      " 'Comedy|Crime|Romance' 'Action|Comedy|Sci-Fi'\n",
      " 'Crime|Film-Noir|Mystery|Thriller' 'Drama|Mystery|Thriller'\n",
      " 'Comedy|Crime' 'Adventure|Children|Comedy|Fantasy|Sci-Fi'\n",
      " 'Action|Crime|Drama|Mystery|Thriller' 'Animation|Children|Comedy|Musical'\n",
      " 'Action|Adventure|Fantasy' 'Adventure|Animation|Children|Fantasy'\n",
      " 'Adventure|Animation|Children|Drama' 'Crime|Drama|Thriller'\n",
      " 'Adventure|Comedy' 'Action|Drama|Sci-Fi' 'Action|Sci-Fi'\n",
      " 'Drama|Horror|Sci-Fi' 'Animation|Comedy|Musical'\n",
      " 'Adventure|Animation|Children|Drama|Sci-Fi'\n",
      " 'Comedy|Drama|Fantasy|Romance' 'Adventure|Fantasy'\n",
      " 'Adventure|Animation|Children|Comedy|Crime|Fantasy|Mystery'\n",
      " 'Comedy|Horror|Mystery|Thriller' 'Action|Adventure|Drama'\n",
      " 'Comedy|Western' 'Drama|Romance' 'Action|Crime|Drama|IMAX'\n",
      " 'Action|Comedy|Horror' 'Action|Crime|Drama|Mystery|Sci-Fi|Thriller|IMAX'\n",
      " 'Documentary' 'Action|Adventure|Crime|IMAX' 'Action|Drama|Western'\n",
      " 'Comedy|Crime|Drama' 'Sci-Fi|IMAX' 'Action|Crime|Drama|War'\n",
      " 'Adventure|Animation|Comedy' 'Comedy|Drama|Musical|Romance'\n",
      " 'Children|Drama|Fantasy' 'Animation|Children|Comedy|Romance'\n",
      " 'Comedy|Drama|Romance' 'Comedy|Crime|Thriller' 'Mystery|Sci-Fi|Thriller'\n",
      " 'Comedy|Drama|Thriller' 'Adventure|Animation|Children|Comedy|Musical'\n",
      " 'Animation|Children|Fantasy|Musical|Romance|IMAX' 'Drama|Mystery|Western'\n",
      " 'Comedy|Musical|Romance' 'Action|Adventure|Mystery|Romance|Thriller'\n",
      " 'Drama|Romance|War' 'Film-Noir|Romance|Thriller' 'Crime|Drama|Film-Noir'\n",
      " 'Adventure|Drama|War' 'Adventure|Drama' 'Drama|Western' 'Action|Western'\n",
      " 'Crime|Drama|Mystery|Thriller' 'Drama|Musical|Romance'\n",
      " 'Crime|Drama|Film-Noir|Thriller' 'Drama|Horror|Mystery'\n",
      " 'Mystery|Romance|Thriller' 'Comedy|Drama|Musical' 'Action|Drama|Romance'\n",
      " 'Adventure|Comedy|Crime' 'Action|Drama' 'Adventure|Children|Fantasy'\n",
      " 'Drama|Fantasy|Horror|Thriller|War' 'Children|Drama'\n",
      " 'Adventure|Drama|IMAX' 'Action|Adventure|Comedy|Crime'\n",
      " 'Adventure|Animation|Children|Drama|Musical|IMAX'\n",
      " 'Action|Adventure|Comedy|Romance|Thriller' 'Children|Comedy|Fantasy'\n",
      " 'Action|Thriller' 'Animation|Children|Drama|Fantasy|Musical'\n",
      " 'Crime|Drama|Horror|Mystery|Thriller' 'Drama|Horror|Thriller'\n",
      " 'Action|Adventure|Mystery|Sci-Fi' 'Drama|Thriller|War' 'Drama|Thriller'\n",
      " 'Comedy|Drama|Fantasy' 'Adventure|Drama|Sci-Fi' 'Action|Romance|Thriller'\n",
      " 'Drama|Musical' 'Comedy|Drama|Fantasy|Romance|Thriller'\n",
      " 'Animation|Children' 'Adventure|Children' 'Comedy|War' 'Action|Romance'\n",
      " 'Comedy|Drama|Sci-Fi' 'Action|Romance|Sci-Fi|Thriller'\n",
      " 'Comedy|Fantasy|Sci-Fi' 'Drama|Sci-Fi'\n",
      " 'Adventure|Animation|Children|Comedy|Fantasy|Romance'\n",
      " 'Drama|Fantasy|Mystery|Sci-Fi' 'Crime|Thriller'\n",
      " 'Action|Crime|Mystery|Sci-Fi|Thriller' 'Horror|Sci-Fi|Thriller'\n",
      " 'Adventure|Animation|Fantasy' 'Comedy|Crime|Drama|Musical'\n",
      " 'Action|Adventure|Comedy|Fantasy' 'Comedy|Musical'\n",
      " 'Action|Adventure|Drama|Fantasy'\n",
      " 'Adventure|Animation|Children|Comedy|Musical|Romance'\n",
      " 'Adventure|Fantasy|IMAX' 'Action|Adventure|Sci-Fi|IMAX'\n",
      " 'Horror|Mystery|Thriller' 'Action|Adventure|Animation|Children|Comedy'\n",
      " 'Action|Crime|Film-Noir|Mystery|Thriller' 'Drama|Fantasy|Mystery'\n",
      " 'Children|Comedy' 'Drama|Film-Noir|Romance' 'Drama|Romance|Thriller'\n",
      " 'Children|Comedy|Fantasy|Musical' 'Adventure|Animation|Children|Comedy'\n",
      " 'Drama|Fantasy|Romance|Thriller' 'Action|Adventure|Thriller|IMAX'\n",
      " 'Comedy|Fantasy|Romance' 'Action|Adventure|Horror|Sci-Fi'\n",
      " 'Drama|Sci-Fi|Thriller' 'Adventure|Animation|Children'\n",
      " 'Animation|Children|Drama|Fantasy' 'Action|Horror|Sci-Fi'\n",
      " 'Action|Drama|Thriller' 'Drama|Mystery|Sci-Fi|Thriller'\n",
      " 'Animation|Children|Drama' 'Action|Horror|Sci-Fi|Thriller|IMAX'\n",
      " 'Adventure|Animation|Children|Romance|Sci-Fi'\n",
      " 'Action|Adventure|Drama|Sci-Fi|Thriller' 'Action|Sci-Fi|IMAX'\n",
      " 'Adventure|Drama|Thriller|IMAX' 'Animation|Comedy'\n",
      " 'Animation|Children|Comedy' 'Film-Noir|Mystery'\n",
      " 'Animation|Children|Comedy|Crime' 'Action|Adventure|Western'\n",
      " 'Adventure|Animation|Children|Comedy|Sci-Fi' 'Crime|Film-Noir|Thriller'\n",
      " 'Crime|Thriller|War' 'Comedy|Drama|War' 'Action|Comedy|Fantasy'\n",
      " 'Action|Adventure|Animation|Drama|Fantasy'\n",
      " 'Action|Adventure|Animation|Children|Fantasy|Sci-Fi'\n",
      " 'Drama|Romance|Sci-Fi' 'Drama|Fantasy|Thriller' 'Action|Crime|Drama'\n",
      " 'Action|Adventure|Crime|Drama|Thriller' 'Crime|Drama|Mystery'\n",
      " 'Adventure|Animation|Fantasy|Romance' 'Western'\n",
      " 'Film-Noir|Mystery|Thriller' 'Action|Adventure|Children|Drama'\n",
      " 'Fantasy|Horror|Mystery|Romance' 'Comedy|Mystery|Thriller'\n",
      " 'Adventure|Children|Comedy|Fantasy|IMAX'\n",
      " 'Action|Crime|Drama|Thriller|War'\n",
      " 'Animation|Comedy|Fantasy|Musical|Romance'\n",
      " 'Comedy|Crime|Mystery|Thriller' 'Action|Adventure|Comedy|Crime|Fantasy'\n",
      " 'Comedy|Drama|Musical|Sci-Fi' 'Animation|Comedy|Drama'\n",
      " 'Action|Comedy|Fantasy|Musical|Romance' 'Comedy|Drama|Mystery' 'Sci-Fi'\n",
      " 'Adventure|Children|Comedy|Musical' 'Comedy|Mystery|Romance'\n",
      " 'Comedy|Sci-Fi' 'Drama|Mystery|Romance|Thriller'\n",
      " 'Comedy|Crime|Mystery|Romance|Thriller' 'Horror|Thriller'\n",
      " 'Drama|Fantasy|Horror|Thriller' 'Adventure|Children|Comedy'\n",
      " 'Action|Mystery|Sci-Fi' 'Adventure|Film-Noir|Sci-Fi|Thriller'\n",
      " 'Sci-Fi|Thriller' 'Children|Drama|Fantasy|Mystery|Thriller'\n",
      " 'Action|Horror|Thriller' 'Action|Drama|Romance|Sci-Fi'\n",
      " 'Animation|Musical' 'Comedy|Horror' 'Adventure|Comedy|Fantasy|Sci-Fi'\n",
      " 'Children|Comedy|Romance' 'Animation|Children|Fantasy|Musical|Romance'\n",
      " 'Musical|Romance' 'Action|Comedy|Romance' 'Musical|Romance|War'\n",
      " 'Action|Adventure|Children|Comedy' 'Adventure|Animation|Fantasy|Sci-Fi'\n",
      " 'Action|Adventure|Comedy' 'Adventure|Children|Drama'\n",
      " 'Adventure|Children|Comedy|Mystery' 'Adventure|Fantasy|Thriller|IMAX'\n",
      " 'Action|Comedy|Fantasy|IMAX' 'Adventure|Romance|Sci-Fi|IMAX'\n",
      " 'Action|Adventure|Animation|Children|Comedy|Fantasy'\n",
      " 'Action|Animation|Comedy' 'Action|Comedy' 'Adventure|Sci-Fi'\n",
      " 'Action|Crime|Sci-Fi' 'Comedy|Documentary|Drama'\n",
      " 'Animation|Fantasy|Thriller' 'Adventure|Drama|Fantasy|Mystery|Sci-Fi'\n",
      " 'Action|Crime|Romance|Thriller' 'Action|Adventure|Animation|Sci-Fi'\n",
      " 'Crime|Film-Noir|Mystery' 'Crime|Film-Noir' 'Animation|Comedy|Fantasy'\n",
      " 'Drama|Film-Noir|Thriller' 'Mystery' 'Action|Adventure|Drama|Thriller'\n",
      " 'Drama|Fantasy|Mystery|Romance' 'Action|Comedy|Crime'\n",
      " 'Adventure|Comedy|Romance|War' 'Action|Adventure|Drama|War'\n",
      " 'Action|Horror' 'Crime|Drama|Mystery|Romance|Thriller'\n",
      " 'Action|Adventure|Drama|Fantasy|Thriller'\n",
      " 'Action|Adventure|Crime|Drama|Thriller|War' 'Action|Comedy|Crime|Mystery'\n",
      " 'Action|Crime|Drama|Western' 'Children|Drama|Fantasy|Romance'\n",
      " 'Documentary|War' 'Action|Adventure|Fantasy|Sci-Fi'\n",
      " 'Action|Adventure|Drama|Sci-Fi' 'Adventure|Drama|Thriller'\n",
      " 'Adventure|Drama|Romance' 'Action|Animation|Drama|Fantasy|Sci-Fi'\n",
      " 'Animation|Mystery|Sci-Fi' 'Animation|Comedy|Fantasy|Sci-Fi'\n",
      " 'Action|Comedy|Fantasy|Sci-Fi' 'Action|Drama|Thriller|War'\n",
      " 'Horror|Mystery' 'Crime|Horror|Mystery|Thriller'\n",
      " 'Action|Adventure|Drama|Western' 'Comedy|Crime|Drama|Romance|Thriller'\n",
      " 'Documentary|IMAX' 'Action|Fantasy|Sci-Fi'\n",
      " 'Action|Animation|Drama|Sci-Fi' 'Adventure|Children|Comedy|Fantasy'\n",
      " 'Action|Adventure|Fantasy|Sci-Fi|IMAX' 'Action|Mystery|Sci-Fi|Thriller'\n",
      " 'Drama|Horror|Mystery|Sci-Fi|Thriller' 'Action|Adventure|Children'\n",
      " 'Action|Comedy|Crime|Horror' 'Action|Adventure|Children|Sci-Fi'\n",
      " 'Fantasy|Horror|Thriller' 'Action|Drama|Horror|Thriller'\n",
      " 'Animation|Drama|War' 'Crime|Mystery' 'Children|Comedy|Drama'\n",
      " 'Adventure|Documentary'\n",
      " 'Action|Adventure|Animation|Children|Comedy|Sci-Fi'\n",
      " 'Adventure|Crime|Drama' 'Drama|Romance|Western' 'Musical'\n",
      " 'Adventure|Comedy|Musical|Sci-Fi' 'Crime|Drama|Romance'\n",
      " 'Adventure|Animation|Children|Drama|Fantasy'\n",
      " 'Action|Animation|Sci-Fi|Thriller' 'Crime|Drama|Horror'\n",
      " 'Comedy|Musical|Romance|Western' 'Animation|Comedy|Drama|Fantasy|Sci-Fi'\n",
      " 'Adventure|Comedy|Romance' 'Romance' 'Romance|Thriller'\n",
      " 'Adventure|Animation|Comedy|Fantasy|Romance'\n",
      " 'Drama|Film-Noir|Mystery|Romance' 'Comedy|Documentary'\n",
      " 'Adventure|Comedy|Musical' 'Musical|Romance|Western' 'Fantasy'\n",
      " 'Drama|Fantasy' 'Action|Animation|Comedy|Sci-Fi'\n",
      " 'Adventure|Animation|Drama' 'Drama|Film-Noir' 'Adventure|Drama|Fantasy'\n",
      " 'Documentary|Drama' 'Children|Comedy|Crime|Drama|Fantasy'\n",
      " 'Crime|Drama|Fantasy|Mystery|Thriller' 'Documentary|Musical'\n",
      " 'Animation|Drama|Romance' 'Drama|Horror' 'Action|Mystery|Thriller'\n",
      " 'Action|Crime|Horror' 'Comedy|Horror|Thriller' 'Film-Noir' 'Animation'\n",
      " 'Adventure|Children|Comedy|Romance|Sci-Fi'\n",
      " 'Action|Crime|Drama|Horror|Thriller'\n",
      " 'Action|Animation|Comedy|Horror|Thriller' 'Drama|Fantasy|Horror'\n",
      " 'Adventure|Comedy|Fantasy|Musical'\n",
      " 'Action|Adventure|Animation|Crime|Fantasy' 'Comedy|Crime|Mystery|Romance'\n",
      " 'Action|Horror|Sci-Fi|Thriller' 'Adventure' 'Comedy|Romance|Sci-Fi'\n",
      " 'Drama|Film-Noir|Mystery|Thriller' 'Adventure|Comedy|Crime|Drama|Romance'\n",
      " 'Romance|War' 'Adventure|Crime|Drama|Thriller'\n",
      " 'Animation|Children|Musical' 'Drama|War|Western'\n",
      " 'Drama|Fantasy|Musical|Romance' 'Comedy|Crime|Mystery'\n",
      " 'Crime|Drama|Film-Noir|Romance|Thriller' 'Drama|Horror|Romance|Thriller'\n",
      " 'Comedy|Crime|Drama|Mystery|Romance'\n",
      " 'Comedy|Crime|Drama|Musical|Mystery|Romance'\n",
      " 'Drama|Horror|Mystery|Thriller' 'Drama|Thriller|Western'\n",
      " 'Drama|Film-Noir|Mystery' 'Animation|Drama|Sci-Fi|IMAX'\n",
      " 'Animation|Drama|Romance|Sci-Fi' 'Action|Animation|Mystery|Sci-Fi'\n",
      " 'Animation|Fantasy' 'Romance|Sci-Fi' 'Adventure|Animation|Drama|Horror'\n",
      " 'Romance|Sci-Fi|Thriller' 'Animation|Drama|Fantasy' 'Adventure|Animation']\n",
      "Updated DataFrame Shape: (233210, 11)\n"
     ]
    }
   ],
   "source": [
    "# Remove movies with '(no genres listed)' label\n",
    "merged_df = merged_df[merged_df['genres'] != '(no genres listed)']\n",
    "\n",
    "# Verify the removal by checking the unique genres again\n",
    "unique_genres_after_removal = merged_df['genres'].unique()\n",
    "print(\"Unique Genres After Removal:\", unique_genres_after_removal)\n",
    "\n",
    "# Display the updated DataFrame shape\n",
    "print(\"Updated DataFrame Shape:\", merged_df.shape)\n"
   ]
  },
  {
   "cell_type": "markdown",
   "id": "b54e6621-209c-472e-ba00-b383890a55f1",
   "metadata": {},
   "source": [
    "# Genre Analysis with Dummy Variables\n",
    "\n",
    "To allow our modeling to work, categorical genre information was changed into numerical dummy variables. This allows us to quantify the presence of each genre for every movie in our dataset.\n",
    "\n"
   ]
  },
  {
   "cell_type": "code",
   "execution_count": 21,
   "id": "76dd2d28-cb3c-4dfc-9beb-4d32f0087e67",
   "metadata": {},
   "outputs": [
    {
     "name": "stdout",
     "output_type": "stream",
     "text": [
      "Index(['userId_x', 'movieId', 'rating', 'timestamp_x', 'title', 'year',\n",
      "       'decade', 'userId_y', 'tag', 'timestamp_y', 'Action', 'Adventure',\n",
      "       'Animation', 'Children', 'Comedy', 'Crime', 'Documentary', 'Drama',\n",
      "       'Fantasy', 'Film-Noir', 'Horror', 'IMAX', 'Musical', 'Mystery',\n",
      "       'Romance', 'Sci-Fi', 'Thriller', 'War', 'Western'],\n",
      "      dtype='object')\n"
     ]
    }
   ],
   "source": [
    "#DataFrame with binary columns for each genre\n",
    "genres_dummies = merged_df['genres'].str.get_dummies(sep='|')\n",
    "# Concatenate the dummy DataFrame with the original one\n",
    "merged_df = pd.concat([merged_df, genres_dummies], axis=1)\n",
    "# Drop the original 'genres' column\n",
    "merged_df.drop('genres', axis=1, inplace=True)\n",
    "print(merged_df.columns)\n"
   ]
  },
  {
   "cell_type": "markdown",
   "id": "e44825a5-7e8a-454d-ab59-762e89843cde",
   "metadata": {},
   "source": [
    "## Model Building\n",
    "\n",
    "To prepare the dataset for modeling, we defined a Reader object to parse the ratings on a scale from 0.5 to 5.0. The dataset was then loaded into Surprise's Dataset object.\n",
    "\n",
    "We utilized the Singular Value Decomposition (SVD) algorithm for collaborative filtering-based recommendation. The algorithm was evaluated using cross-validation with 5 folds, measuring Root Mean Squared Error (RMSE) and Mean Absolute Error (MAE).\n",
    "\n",
    "The SVD algorithm was trained on the entire dataset to generate 5 movie recommendations per user.\n"
   ]
  },
  {
   "cell_type": "markdown",
   "id": "919254a8-c95e-4ce7-b121-9dbfe0a50349",
   "metadata": {},
   "source": [
    "## Modeling SVD\n",
    "\n",
    "This summary provides insights into the performance of the SVD algorithm for movie rating prediction:\n",
    "\n",
    "RMSE (Root Mean Squared Error): On average, the predictions are off by approximately 0.3933 stars. The standard deviation  of 0.0069 indicates small variability.\n",
    "\n",
    "MAE (Mean Absolute Error): The average absolute difference between the predicted and actual ratings is approximately 0.2520 stars. Similar to RMSE, the standard deviation of 0.0089 shows small variability.\n",
    "\n",
    "Fit Time: The algorithm took an average of 14.44 seconds to train on the dataset. The standard deviation of 1.06 seconds indicates some variability in training time across folds. \n",
    "\n",
    "Test Time: It took an average of 0.43 seconds to generate predictions on the test set. The standard deviation of 0.06 seconds suggests consistent prediction time across folds.\n",
    "\n",
    "Overall, these metrics suggest that the SVD algorithm performs reasonably well in predicting movie ratings with relatively low error rates and acceptable computational efficiency. The model also is the considerably faster than the next two models. "
   ]
  },
  {
   "cell_type": "code",
   "execution_count": 22,
   "id": "51bb6180-417f-4a10-9e49-e75dc428c1f1",
   "metadata": {},
   "outputs": [
    {
     "name": "stdout",
     "output_type": "stream",
     "text": [
      "Number of users: 610\n",
      "Number of items: 1553\n",
      "Number of ratings: 233210\n"
     ]
    }
   ],
   "source": [
    "# Define the Reader object\n",
    "reader = Reader(rating_scale=(1, 5))  \n",
    "\n",
    "# Load dataset into Surprise's Dataset object\n",
    "data = Dataset.load_from_df(merged_df[['userId_x', 'movieId', 'rating']], reader=reader)\n",
    "\n",
    "# Print information about the dataset\n",
    "print(\"Number of users:\", data.build_full_trainset().n_users)\n",
    "print(\"Number of items:\", data.build_full_trainset().n_items)\n",
    "print(\"Number of ratings:\", data.build_full_trainset().n_ratings)\n"
   ]
  },
  {
   "cell_type": "code",
   "execution_count": 23,
   "id": "68c4613d-f42a-4550-9d3d-95c28405095c",
   "metadata": {},
   "outputs": [
    {
     "name": "stdout",
     "output_type": "stream",
     "text": [
      "Evaluating RMSE, MAE of algorithm SVD on 5 split(s).\n",
      "\n",
      "                  Fold 1  Fold 2  Fold 3  Fold 4  Fold 5  Mean    Std     \n",
      "RMSE (testset)    0.4007  0.4210  0.4163  0.4166  0.4093  0.4128  0.0071  \n",
      "MAE (testset)     0.2601  0.2838  0.2825  0.2819  0.2763  0.2769  0.0088  \n",
      "Fit time          15.33   16.23   16.59   14.26   14.65   15.41   0.89    \n",
      "Test time         0.44    0.43    0.54    0.44    0.44    0.46    0.04    \n"
     ]
    },
    {
     "data": {
      "text/plain": [
       "<surprise.prediction_algorithms.matrix_factorization.SVD at 0x7fd2d17769d0>"
      ]
     },
     "execution_count": 23,
     "metadata": {},
     "output_type": "execute_result"
    }
   ],
   "source": [
    "# Define a Reader object to parse the ratings\n",
    "reader = Reader(rating_scale=(0.5, 5.0))\n",
    "\n",
    "# Load the dataset\n",
    "data = Dataset.load_from_df(merged_df[['userId_x', 'movieId', 'rating']], reader)\n",
    "\n",
    "# Define the SVD algorithm\n",
    "svd = SVD()\n",
    "\n",
    "# Perform cross-validation\n",
    "cross_validate(svd, data, measures=['RMSE', 'MAE'], cv=5, verbose=True)\n",
    "\n",
    "# Train the SVD algorithm on the whole dataset\n",
    "trainset = data.build_full_trainset()\n",
    "svd.fit(trainset)\n"
   ]
  },
  {
   "cell_type": "markdown",
   "id": "9b7a29f1-720b-4083-aa10-bf89b7955fe6",
   "metadata": {},
   "source": [
    "#### Example of how the model recommends movies"
   ]
  },
  {
   "cell_type": "code",
   "execution_count": 24,
   "id": "bef56001-2df8-4403-ab5e-76a79f2b5e10",
   "metadata": {},
   "outputs": [
    {
     "name": "stdout",
     "output_type": "stream",
     "text": [
      "User 1 recommendations:\n",
      "1. Shawshank Redemption, The (1994)\n",
      "2. Dark Knight Rises, The (2012)\n",
      "3. Patton (1970)\n",
      "4. Strangers on a Train (1951)\n",
      "5. Babe (1995)\n",
      "\n",
      "User 10 recommendations:\n",
      "1. (500) Days of Summer (2009)\n",
      "2. North by Northwest (1959)\n",
      "3. American President, The (1995)\n",
      "4. Sunset Blvd. (a.k.a. Sunset Boulevard) (1950)\n",
      "5. WALL·E (2008)\n",
      "\n",
      "User 100 recommendations:\n",
      "1. Schindler's List (1993)\n",
      "2. Dark Knight, The (2008)\n",
      "3. Intouchables (2011)\n",
      "4. Philadelphia Story, The (1940)\n",
      "5. Gladiator (2000)\n",
      "\n",
      "User 200 recommendations:\n",
      "1. Guess Who's Coming to Dinner (1967)\n",
      "2. Guardians of the Galaxy (2014)\n",
      "3. Wild Tales (2014)\n",
      "4. Come and See (Idi i smotri) (1985)\n",
      "5. Black Mirror: White Christmas (2014)\n",
      "\n",
      "User 300 recommendations:\n",
      "1. Guess Who's Coming to Dinner (1967)\n",
      "2. Philadelphia Story, The (1940)\n",
      "3. Monty Python and the Holy Grail (1975)\n",
      "4. Man Bites Dog (C'est arrivé près de chez vous) (1992)\n",
      "5. His Girl Friday (1940)\n",
      "\n"
     ]
    }
   ],
   "source": [
    "from surprise import Dataset, Reader\n",
    "from surprise import SVD\n",
    "import pandas as pd\n",
    "\n",
    "# Define a Reader object to parse the ratings\n",
    "reader = Reader(rating_scale=(0.5, 5.0))\n",
    "\n",
    "# Load the dataset\n",
    "data = Dataset.load_from_df(merged_df[['userId_x', 'movieId', 'rating']], reader)\n",
    "\n",
    "# Define the SVD algorithm\n",
    "svd = SVD()\n",
    "\n",
    "# Train the SVD algorithm on the whole dataset\n",
    "trainset = data.build_full_trainset()\n",
    "svd.fit(trainset)\n",
    "\n",
    "# Function to get top N recommendations for a user\n",
    "def get_top_n_recommendations(user_id, n=5):\n",
    "    user_movies = merged_df[merged_df['userId_x'] == user_id]['movieId']\n",
    "    movies_to_recommend = merged_df[~merged_df['movieId'].isin(user_movies)]['movieId'].unique()\n",
    "    predictions = [(movie_id, svd.predict(user_id, movie_id).est) for movie_id in movies_to_recommend]\n",
    "    top_n_recommendations = sorted(predictions, key=lambda x: x[1], reverse=True)[:n]\n",
    "    return top_n_recommendations\n",
    "\n",
    "# Define the list of users\n",
    "users_to_recommend = [1, 10, 100, 200, 300]\n",
    "\n",
    "# Print top 5 recommendations for each user\n",
    "for user_id in users_to_recommend:\n",
    "    recommendations = get_top_n_recommendations(user_id)\n",
    "    movie_titles = [dfs['movies'][dfs['movies']['movieId'] == movie_id]['title'].values[0] for movie_id, _ in recommendations]\n",
    "    print(f\"User {user_id} recommendations:\")\n",
    "    for idx, movie_title in enumerate(movie_titles, start=1):\n",
    "        print(f\"{idx}. {movie_title}\")\n",
    "    print()\n"
   ]
  },
  {
   "cell_type": "markdown",
   "id": "c035c926-3c0e-4c21-843b-71d31ec7895d",
   "metadata": {},
   "source": [
    "## MODELING WITH SVD GRIDSEARCH"
   ]
  },
  {
   "cell_type": "code",
   "execution_count": 25,
   "id": "9f198963-83f0-408f-a3b9-9e2d4b06329e",
   "metadata": {},
   "outputs": [],
   "source": [
    "\n",
    "# Define the parameter grid\n",
    "param_grid = {\n",
    "    'n_factors': [50, 100, 150],\n",
    "    'n_epochs': [20, 30, 40],\n",
    "    'lr_all': [0.002, 0.005, 0.01],\n",
    "    'reg_all': [0.02, 0.04, 0.06],\n",
    "    'biased': [True, False]  # \n",
    "}\n"
   ]
  },
  {
   "cell_type": "code",
   "execution_count": 26,
   "id": "14f787fc-c84a-4118-b8f8-ff17e19c9e30",
   "metadata": {},
   "outputs": [],
   "source": [
    "# Initialize Grid Search\n",
    "grid_search = GridSearchCV(SVD, param_grid, measures=['rmse', 'mae'], cv=5, n_jobs=-1)\n"
   ]
  },
  {
   "cell_type": "code",
   "execution_count": 27,
   "id": "8a26c78a-7c31-4365-8e03-85ae5fe5f684",
   "metadata": {},
   "outputs": [
    {
     "ename": "NameError",
     "evalue": "name 'x' is not defined",
     "output_type": "error",
     "traceback": [
      "\u001b[0;31m---------------------------------------------------------------------------\u001b[0m",
      "\u001b[0;31mNameError\u001b[0m                                 Traceback (most recent call last)",
      "Cell \u001b[0;32mIn[27], line 1\u001b[0m\n\u001b[0;32m----> 1\u001b[0m \u001b[43mx\u001b[49m\n",
      "\u001b[0;31mNameError\u001b[0m: name 'x' is not defined"
     ]
    }
   ],
   "source": [
    "x gjg"
   ]
  },
  {
   "cell_type": "code",
   "execution_count": null,
   "id": "80761245-2bc5-46ec-ad39-e8be5fcb6853",
   "metadata": {},
   "outputs": [],
   "source": [
    "# Run Grid Search\n",
    "grid_search.fit(data)\n"
   ]
  },
  {
   "cell_type": "code",
   "execution_count": null,
   "id": "d7309152-cfa9-455f-81a7-29cc90d1b52e",
   "metadata": {},
   "outputs": [],
   "source": [
    "# Get the best parameters and best RMSE score\n",
    "print(\"Best parameters:\", grid_search.best_params)\n",
    "print(\"Best RMSE score:\", grid_search.best_score['rmse'])\n",
    "\n",
    "# Get the best model\n",
    "best_model = grid_search.best_estimator['rmse']\n"
   ]
  },
  {
   "cell_type": "code",
   "execution_count": null,
   "id": "0306673d-4e91-4b02-8d3f-d167fec90fc1",
   "metadata": {},
   "outputs": [],
   "source": [
    "# Best parameters from grid search\n",
    "best_params = {\n",
    "    'n_factors': 150, \n",
    "    'n_epochs': 40, \n",
    "    'lr_all': 0.005, \n",
    "    'reg_all': 0.02, \n",
    "    'biased': True\n",
    "}\n",
    "\n",
    "# Initialize the SVD model with the best parameters\n",
    "algo = SVD(\n",
    "    n_factors=best_params['n_factors'],\n",
    "    n_epochs=best_params['n_epochs'],\n",
    "    lr_all=best_params['lr_all'],\n",
    "    reg_all=best_params['reg_all'],\n",
    "    biased=best_params['biased']\n",
    ")\n",
    "\n",
    "# Load the dataset into Surprise's format\n",
    "reader = Reader(rating_scale=(1, 5))  # Adjust the rating scale according to your dataset\n",
    "data = Dataset.load_from_df(merged_df[['userId_x', 'movieId', 'rating']], reader)\n",
    "trainset = data.build_full_trainset()\n",
    "\n",
    "# Train the SVD algorithm on the full dataset\n",
    "algo.fit(trainset)\n",
    "\n",
    "# Generate predictions for all pairs (user, items) not in the training set\n",
    "testset = trainset.build_anti_testset()\n",
    "predictions = algo.test(testset)\n",
    "\n",
    "def get_top_n(predictions, n=5):\n",
    "    '''Return the top-N recommendations for each user from a set of predictions.'''\n",
    "    top_n = defaultdict(list)\n",
    "    for uid, iid, _, est, _ in predictions:\n",
    "        top_n[uid].append((iid, est))\n",
    "\n",
    "    for uid, user_ratings in top_n.items():\n",
    "        user_ratings.sort(key=lambda x: x[1], reverse=True)\n",
    "        top_n[uid] = user_ratings[:n]\n",
    "\n",
    "    return top_n\n",
    "\n",
    "top_n = get_top_n(predictions, n=5)\n",
    "\n",
    "# Create a mapping from movie IDs to titles\n",
    "movie_id_to_title = merged_df[['movieId', 'title']].drop_duplicates().set_index('movieId')['title'].to_dict()\n",
    "\n",
    "# Print the recommended movie titles for the first 5 users\n",
    "for uid, user_ratings in list(top_n.items())[:5]:  \n",
    "    print(f\"User {uid} recommendations:\")\n",
    "    for iid, _ in user_ratings:\n",
    "        title = movie_id_to_title.get(iid, \"Title not found\")\n",
    "        print(f\"\\t- {title}\")\n"
   ]
  },
  {
   "cell_type": "code",
   "execution_count": null,
   "id": "41cf700e-6b12-4d7f-b67a-42e3dc6e550b",
   "metadata": {},
   "outputs": [],
   "source": [
    "def get_top_n_recommendations(user_id, n=10):\n",
    "    # Get a list of all movie IDs\n",
    "    all_movies = merged_df['movieId'].unique()\n",
    "    # Get a list of movies that the user has already rated\n",
    "    rated_movies = merged_df[merged_df['userId'] == user_id]['movieId']\n",
    "    # Predict ratings for all movies the user hasn't rated\n",
    "    predictions = [algo.predict(user_id, movie_id) for movie_id in all_movies if movie_id not in rated_movies]\n",
    "    \n",
    "    # Sort the predictions by estimated rating and return the top n\n",
    "    top_n_predictions = sorted(predictions, key=lambda x: x.est, reverse=True)[:n]\n",
    "    \n",
    "    return [pred.iid for pred in top_n_predictions]\n",
    "\n",
    "# Example usage\n",
    "user_id = 'some_user_id'  # Replace with a real user ID\n",
    "top_recommendations = get_top_n_recommendations(user_id)\n",
    "print(\"Top Recommendations:\", top_recommendations)\n"
   ]
  },
  {
   "cell_type": "markdown",
   "id": "647b71e4-9e5e-4d9a-a63f-f9ccb0ee0591",
   "metadata": {},
   "source": [
    "# Lightfm"
   ]
  },
  {
   "cell_type": "code",
   "execution_count": null,
   "id": "78e19c3f-870a-4908-b4d0-fef003d60703",
   "metadata": {},
   "outputs": [],
   "source": [
    "# Print out the column names of the merged_df DataFrame\n",
    "print(merged_df.columns)\n"
   ]
  },
  {
   "cell_type": "code",
   "execution_count": null,
   "id": "1f4abd2e-7ca0-4c78-b0c1-35aaf55f0529",
   "metadata": {},
   "outputs": [],
   "source": [
    "from lightfm import LightFM\n",
    "from lightfm.data import Dataset\n",
    "import numpy as np\n",
    "\n",
    "# Create a dataset\n",
    "dataset = Dataset()\n",
    "dataset.fit(users=(x for x in merged_df['userId_x']),\n",
    "            items=(x for x in merged_df['movieId']))\n",
    "\n",
    "# Build the interaction matrix\n",
    "(interactions, weights) = dataset.build_interactions(((row['userId_x'], row['movieId'], row['rating']) for index, row in merged_df.iterrows()))\n",
    "\n"
   ]
  },
  {
   "cell_type": "code",
   "execution_count": null,
   "id": "39866aa5-afc2-4b6d-8458-80d44f01091b",
   "metadata": {},
   "outputs": [],
   "source": [
    "model = LightFM(loss='warp')\n",
    "model.fit(interactions, sample_weight=weights, epochs=30)\n",
    "\n"
   ]
  },
  {
   "cell_type": "code",
   "execution_count": null,
   "id": "d8e9d618-84aa-41b3-8b88-cc2ebbf25f32",
   "metadata": {},
   "outputs": [],
   "source": [
    "def make_recommendations_with_titles(model, data, user_ids, merged_df, num_items=5):\n",
    "    # Mapping from dataset\n",
    "    user_id_map, user_feature_map, item_id_map, item_feature_map = data.mapping()\n",
    "    \n",
    "    # Reverse the item_id_map to find item IDs based on internal indices\n",
    "    item_id_inverse_map = {v: k for k, v in item_id_map.items()}\n",
    "    \n",
    "    for user_id in user_ids:\n",
    "        # Get the internal ID of the user\n",
    "        user_internal_id = user_id_map.get(user_id)\n",
    "        if user_internal_id is None:\n",
    "            print(f\"User ID {user_id} not found.\")\n",
    "            continue\n",
    "        \n",
    "        # Predict the scores\n",
    "        scores = model.predict(user_internal_id, np.arange(len(item_id_map)))\n",
    "        \n",
    "        # Rank the items\n",
    "        top_items_indices = np.argsort(-scores)[:num_items]\n",
    "        \n",
    "        # Convert the indices back to item IDs\n",
    "        top_item_ids = [item_id_inverse_map[x] for x in top_items_indices]\n",
    "        \n",
    "        # Get the corresponding titles\n",
    "        top_movie_titles = merged_df[merged_df['movieId'].isin(top_item_ids)]['title'].unique().tolist()\n",
    "        \n",
    "        print(f\"\\nTop {num_items} recommendations for user {user_id}:\")\n",
    "        for title in top_movie_titles:\n",
    "            print(f\"   {title}\")\n",
    "\n"
   ]
  },
  {
   "cell_type": "code",
   "execution_count": null,
   "id": "0ca514ee-7ac7-48f0-ba0a-038d98f859e1",
   "metadata": {},
   "outputs": [],
   "source": [
    "\n",
    "first_5_user_ids = merged_df['userId_x'].unique()[:5]\n",
    "\n",
    "# Call the recommendation function\n",
    "make_recommendations_with_titles(model, dataset, user_ids=first_5_user_ids, merged_df=merged_df)\n"
   ]
  },
  {
   "cell_type": "code",
   "execution_count": null,
   "id": "237a1e69-48cd-4118-89a6-9f6180886883",
   "metadata": {},
   "outputs": [],
   "source": [
    "from lightfm.cross_validation import random_train_test_split\n",
    "\n",
    "train_interactions, test_interactions = random_train_test_split(interactions, test_percentage=0.2, random_state=np.random.RandomState(2024))\n"
   ]
  },
  {
   "cell_type": "code",
   "execution_count": null,
   "id": "09269fd9-2c11-43dc-81e8-d654eec95020",
   "metadata": {},
   "outputs": [],
   "source": [
    "model = LightFM(loss='warp')\n",
    "\n",
    "model.fit(train_interactions, epochs=30)\n",
    "\n"
   ]
  },
  {
   "cell_type": "code",
   "execution_count": null,
   "id": "d6ae7ba5-ecd1-4322-96ab-76971794aca4",
   "metadata": {},
   "outputs": [],
   "source": [
    "from lightfm.evaluation import precision_at_k, auc_score\n",
    "\n",
    "train_precision = precision_at_k(model, train_interactions, k=5).mean()\n",
    "test_precision = precision_at_k(model, test_interactions, k=5).mean()\n",
    "\n",
    "print(f\"Train Precision@k: {train_precision}\")\n",
    "print(f\"Test Precision@k: {test_precision}\")\n",
    "\n",
    "train_auc = auc_score(model, train_interactions).mean()\n",
    "test_auc = auc_score(model, test_interactions).mean()\n",
    "\n",
    "print(f\"Train AUC: {train_auc}\")\n",
    "print(f\"Test AUC: {test_auc}\")\n"
   ]
  },
  {
   "cell_type": "markdown",
   "id": "d112679c-5123-45ab-b5e7-1f560ba15154",
   "metadata": {},
   "source": [
    "# Cold Start problem"
   ]
  },
  {
   "cell_type": "code",
   "execution_count": null,
   "id": "c90dd46d-ffe2-419b-82cd-18ba8f27bc54",
   "metadata": {},
   "outputs": [],
   "source": [
    "# cold start problem\n",
    "## Starting with popular movies\n",
    "popular_movies = merged_df.groupby('movieId').agg(\n",
    "    average_rating=pd.NamedAgg(column='rating', aggfunc='mean'),\n",
    "    rating_count=pd.NamedAgg(column='rating', aggfunc='count')\n",
    ").query('rating_count >= 50').sort_values(by='average_rating', ascending=False).head(20)\n",
    "\n",
    "# Map movie IDs to titles\n",
    "movie_id_to_title = merged_df[['movieId', 'title']].drop_duplicates().set_index('movieId')['title'].to_dict()\n",
    "\n",
    "# Print top 10 popular movies as initial recommendation\n",
    "print(\"Popular Movies for New Users:\")\n",
    "\n",
    "for movie_id in popular_movies.index[:10]:\n",
    "    print(f\"- {movie_id_to_title[movie_id]}\")\n"
   ]
  },
  {
   "cell_type": "markdown",
   "id": "0d2e25d0-f3cb-49f8-807e-7fa67fde4b21",
   "metadata": {},
   "source": [
    "## Kmeans\n"
   ]
  },
  {
   "cell_type": "code",
   "execution_count": null,
   "id": "ca83bcec-1e50-4d15-ad9e-128936e78e60",
   "metadata": {},
   "outputs": [],
   "source": [
    "import copy\n",
    "\n",
    "# Save the original DataFrame\n",
    "original_merged_df = copy.deepcopy(merged_df)\n",
    "from scipy.sparse import csr_matrix\n",
    "from sklearn.cluster import KMeans\n",
    "\n",
    "genre_features_sparse = csr_matrix(original_merged_df.loc[:, 'Action':'Western'].values)\n",
    "kmeans_initial = KMeans(n_clusters=10, random_state=42)\n",
    "clusters_initial = kmeans_initial.fit_predict(genre_features_sparse)\n",
    "\n",
    "# Assign cluster labels back to the original DataFrame\n",
    "original_merged_df['cluster'] = clusters_initial\n"
   ]
  },
  {
   "cell_type": "code",
   "execution_count": null,
   "id": "d9f22c7b-d9c7-4d39-90a0-056a85d42451",
   "metadata": {},
   "outputs": [],
   "source": [
    "from scipy.sparse import csr_matrix\n",
    "from sklearn.cluster import KMeans\n",
    "\n",
    "\n",
    "genre_features = merged_df.loc[:, 'Action':'Western'] \n",
    "\n",
    "# Convert the DataFrame to a sparse matrix\n",
    "genre_features_sparse = csr_matrix(genre_features.values)\n",
    "\n",
    "# Fit KMeans to cluster movies based on genre features\n",
    "kmeans = KMeans(n_clusters=10, random_state=42)  \n",
    "clusters = kmeans.fit_predict(genre_features_sparse)\n",
    "\n",
    "# Assign cluster labels back to your DataFrame\n",
    "merged_df['cluster'] = clusters\n",
    "\n",
    "# Verify the clustering by viewing the first few rows\n",
    "print(merged_df[['title', 'cluster']].head())\n",
    "\n"
   ]
  },
  {
   "cell_type": "code",
   "execution_count": null,
   "id": "a9c43fc3-fcae-4245-9282-7648661bff53",
   "metadata": {},
   "outputs": [],
   "source": [
    "# Example: Select cluster 0 for demonstration\n",
    "selected_cluster = 0\n",
    "if 'average_rating' not in merged_df.columns:\n",
    "    merged_df = merged_df.groupby(['movieId', 'cluster']).agg(\n",
    "        average_rating=pd.NamedAgg(column='rating', aggfunc='mean')\n",
    "    ).reset_index()\n",
    "\n",
    "# Filter movies within the selected cluster and sort by average rating\n",
    "top_movies_in_cluster = merged_df[merged_df['cluster'] == selected_cluster].sort_values(\n",
    "    by='average_rating', ascending=False\n",
    ").head(5)\n",
    "\n",
    "print(f\"Top 5 Movies in Cluster {selected_cluster}:\")\n",
    "for _, row in top_movies_in_cluster.iterrows():\n",
    "    movie_title = movie_id_to_title.get(row['movieId'], \"Unknown Title\")\n",
    "    print(f\"- {movie_title} (Rating: {row['average_rating']:.2f})\")\n",
    "\n"
   ]
  },
  {
   "cell_type": "code",
   "execution_count": null,
   "id": "82a6df9a-4a9e-4b9f-a8e2-d0e755fb7899",
   "metadata": {},
   "outputs": [],
   "source": [
    "import matplotlib.pyplot as plt\n",
    "from sklearn.decomposition import PCA\n",
    "import numpy as np\n",
    "\n",
    "# Assuming genre_features_sparse has already been defined as per previous steps\n",
    "pca = PCA(n_components=2)\n",
    "reduced_features = pca.fit_transform(genre_features_sparse.toarray())\n",
    "\n",
    "# Plot the reduced features colored by their cluster\n",
    "plt.figure(figsize=(10, 8))\n",
    "\n",
    "for cluster in range(kmeans.n_clusters):\n",
    "    cluster_indices = np.where(clusters == cluster)[0]  # Get indices for points in this cluster\n",
    "    plt.scatter(reduced_features[cluster_indices, 0], reduced_features[cluster_indices, 1], label=f'Cluster {cluster}', alpha=0.5, edgecolor='k')\n",
    "\n",
    "plt.xlabel('PCA Feature 1')\n",
    "plt.ylabel('PCA Feature 2')\n",
    "plt.title('Movie Clusters Based on Genres')\n",
    "plt.legend()\n",
    "plt.tight_layout()\n",
    "plt.show()\n",
    "\n"
   ]
  },
  {
   "cell_type": "code",
   "execution_count": null,
   "id": "aa847d67-bca5-424f-9456-73d03452a101",
   "metadata": {},
   "outputs": [],
   "source": [
    "from sklearn.cluster import KMeans\n",
    "\n",
    "# Calculate the within-cluster sum of squares for different numbers of clusters\n",
    "inertia = []\n",
    "for n_clusters in range(1, 20):  #check from 1 to 19 clusters\n",
    "    kmeans = KMeans(n_clusters=n_clusters, random_state=42)\n",
    "    kmeans.fit(genre_features_sparse)\n",
    "    inertia.append(kmeans.inertia_)\n",
    "\n",
    "# Plot the elbow curve\n",
    "plt.figure(figsize=(10, 8))\n",
    "plt.plot(range(1, 20), inertia, marker='o')\n",
    "plt.title('Elbow Method For Optimal k')\n",
    "plt.xlabel('Number of clusters')\n",
    "plt.ylabel('Within-cluster sum of squares (Inertia)')\n",
    "plt.xticks(range(1, 20))\n",
    "plt.grid(True)\n",
    "plt.show()\n"
   ]
  },
  {
   "cell_type": "code",
   "execution_count": null,
   "id": "f0cc8dfe-1205-4551-911b-d6a0cf373255",
   "metadata": {},
   "outputs": [],
   "source": [
    "# Re-create the sparse matrix from the original DataFrame\n",
    "genre_features_sparse = csr_matrix(original_merged_df.loc[:, 'Action':'Western'].values)\n",
    "\n",
    "# Now run KMeans with the updated number of clusters\n",
    "kmeans_updated = KMeans(n_clusters=5, random_state=42)\n",
    "clusters_updated = kmeans_updated.fit_predict(genre_features_sparse)\n",
    "\n",
    "# Update the cluster labels in the original DataFrame\n",
    "original_merged_df['cluster'] = clusters_updated\n"
   ]
  },
  {
   "cell_type": "code",
   "execution_count": null,
   "id": "3e40d25e-0383-4409-99fa-1f86795005c9",
   "metadata": {},
   "outputs": [],
   "source": [
    "from sklearn.decomposition import PCA\n",
    "import matplotlib.pyplot as plt\n",
    "import numpy as np\n",
    "\n",
    "pca = PCA(n_components=2)\n",
    "reduced_features = pca.fit_transform(genre_features_sparse.toarray())\n",
    "\n",
    "# Plot the reduced features colored by their cluster\n",
    "plt.figure(figsize=(10, 8))\n",
    "\n",
    "for cluster in np.unique(clusters_updated):\n",
    "    cluster_indices = np.where(clusters_updated == cluster)[0]\n",
    "    plt.scatter(reduced_features[cluster_indices, 0], reduced_features[cluster_indices, 1], label=f'Cluster {cluster}', alpha=0.5, edgecolor='k')\n",
    "\n",
    "plt.xlabel('PCA Feature 1')\n",
    "plt.ylabel('PCA Feature 2')\n",
    "plt.title('Movie Clusters Based on Genres (5 Clusters)')\n",
    "plt.legend()\n",
    "plt.tight_layout()\n",
    "plt.show()\n"
   ]
  },
  {
   "cell_type": "code",
   "execution_count": null,
   "id": "0515855b-770d-4b7e-a18c-816aa699de6c",
   "metadata": {},
   "outputs": [],
   "source": [
    "\n",
    "#centroids of the clusters\n",
    "centroids = kmeans_updated.cluster_centers_\n",
    "\n",
    "#  genre distribution of the centroids:\n",
    "centroid_genre_distribution = pd.DataFrame(centroids, columns=genre_features.columns)\n",
    "print(centroid_genre_distribution)\n"
   ]
  },
  {
   "cell_type": "code",
   "execution_count": null,
   "id": "ad65d7e7-cb42-4ff8-a9cb-36880810ec87",
   "metadata": {},
   "outputs": [],
   "source": [
    "# For each cluster, calculate the mean of each genre feature\n",
    "cluster_genre_means = original_merged_df.groupby('cluster')[genre_features.columns].mean()\n",
    "\n",
    "print(cluster_genre_means)\n"
   ]
  },
  {
   "cell_type": "code",
   "execution_count": null,
   "id": "7b35b2db-9c35-4aaf-beeb-bbfae165eb6d",
   "metadata": {},
   "outputs": [],
   "source": [
    "# find top-rated movies\n",
    "for cluster_num in range(kmeans_updated.n_clusters):\n",
    "    # Filter the DataFrame for the current cluster\n",
    "    top_movies = original_merged_df[original_merged_df['cluster'] == cluster_num]\n",
    "\n",
    "    # Group by title, calculate the mean rating, and sort the movies by rating\n",
    "    top_movies = top_movies.groupby('title')['rating'].mean().sort_values(ascending=False).head(5)\n",
    "    \n",
    "    print(f\"Top Movies in Cluster {cluster_num}:\\n{top_movies}\\n\")\n",
    "\n"
   ]
  },
  {
   "cell_type": "code",
   "execution_count": null,
   "id": "e162dd7e-bb31-47a5-8ff5-f5166e4faff5",
   "metadata": {},
   "outputs": [],
   "source": [
    "import seaborn as sns\n",
    "\n",
    "#  distribution of genres in each cluster\n",
    "for cluster_num in range(kmeans_updated.n_clusters):\n",
    "    plt.figure(figsize=(10, 6))\n",
    "    sns.barplot(x=cluster_genre_means.columns, y=cluster_genre_means.loc[cluster_num], palette=\"viridis\")\n",
    "    plt.title(f'Genre distribution for Cluster {cluster_num}')\n",
    "    plt.xticks(rotation=90)\n",
    "    plt.ylabel('Average')\n",
    "    plt.show()\n"
   ]
  },
  {
   "cell_type": "markdown",
   "id": "dbf04493-e1bf-43c1-b609-fb1ee6bfd7ad",
   "metadata": {},
   "source": [
    "# Conclusions"
   ]
  },
  {
   "cell_type": "code",
   "execution_count": null,
   "id": "db8b5064-993a-454f-8950-a36ab09dba31",
   "metadata": {},
   "outputs": [],
   "source": []
  },
  {
   "cell_type": "code",
   "execution_count": null,
   "id": "f9281fc6-d181-485c-bdb6-8f176b204c7d",
   "metadata": {},
   "outputs": [],
   "source": []
  },
  {
   "cell_type": "code",
   "execution_count": null,
   "id": "50890f81-a180-4f40-a9dc-9f79ffadfbce",
   "metadata": {},
   "outputs": [],
   "source": []
  },
  {
   "cell_type": "code",
   "execution_count": null,
   "id": "0579e5fe-e2a1-497a-9674-c468286d2a63",
   "metadata": {},
   "outputs": [],
   "source": []
  },
  {
   "cell_type": "code",
   "execution_count": null,
   "id": "c9595567-8f61-4907-bd1e-53c91cbcc41c",
   "metadata": {},
   "outputs": [],
   "source": []
  },
  {
   "cell_type": "code",
   "execution_count": null,
   "id": "a549fe57-1e20-4993-996c-09d4a39d9775",
   "metadata": {},
   "outputs": [],
   "source": []
  },
  {
   "cell_type": "code",
   "execution_count": null,
   "id": "3d73350b-2da3-4125-a74b-b07f42bee7eb",
   "metadata": {},
   "outputs": [],
   "source": []
  },
  {
   "cell_type": "markdown",
   "id": "5fc69233-1ca8-4ab0-a24d-33c0fcd46639",
   "metadata": {},
   "source": [
    "# Recommendations"
   ]
  },
  {
   "cell_type": "code",
   "execution_count": null,
   "id": "d9049354-21cf-4a94-81f2-6c442b5bd8d8",
   "metadata": {},
   "outputs": [],
   "source": []
  }
 ],
 "metadata": {
  "kernelspec": {
   "display_name": "Python 3 (ipykernel)",
   "language": "python",
   "name": "python3"
  },
  "language_info": {
   "codemirror_mode": {
    "name": "ipython",
    "version": 3
   },
   "file_extension": ".py",
   "mimetype": "text/x-python",
   "name": "python",
   "nbconvert_exporter": "python",
   "pygments_lexer": "ipython3",
   "version": "3.8.18"
  }
 },
 "nbformat": 4,
 "nbformat_minor": 5
}
