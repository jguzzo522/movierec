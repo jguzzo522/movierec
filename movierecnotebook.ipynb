{
 "cells": [
  {
   "cell_type": "markdown",
   "id": "038bcccb-77cc-49d9-b945-42607a5d69db",
   "metadata": {},
   "source": []
  },
  {
   "cell_type": "markdown",
   "id": "eac12876-6503-4ddd-814a-ec7227bcd01d",
   "metadata": {},
   "source": [
    "# Business Understanding\n"
   ]
  },
  {
   "cell_type": "markdown",
   "id": "c1ced891-2be2-4ebe-9064-0ee947b42096",
   "metadata": {},
   "source": [
    "# Data Understanding"
   ]
  },
  {
   "cell_type": "markdown",
   "id": "74e46dd4-c980-443c-96ca-7fd9b3c42176",
   "metadata": {},
   "source": []
  },
  {
   "cell_type": "markdown",
   "id": "4be61a6e-d594-4dcb-a486-635578ca755f",
   "metadata": {},
   "source": [
    "# Data Preperation "
   ]
  },
  {
   "cell_type": "markdown",
   "id": "61b81aeb-029f-4c67-b1c1-6e645fca12ec",
   "metadata": {},
   "source": []
  },
  {
   "cell_type": "markdown",
   "id": "24fc9259-ce21-4b10-9b88-b8494e5b51e6",
   "metadata": {},
   "source": [
    "# Exploratory Data Analysis"
   ]
  },
  {
   "cell_type": "markdown",
   "id": "0196ec68-6d30-45d2-b96a-5baf8116c588",
   "metadata": {},
   "source": []
  },
  {
   "cell_type": "markdown",
   "id": "e4a4ae6a-d433-4e52-b9f9-ccc5d49e7926",
   "metadata": {},
   "source": [
    "# Modeling"
   ]
  },
  {
   "cell_type": "markdown",
   "id": "eb054ba0-2190-4b70-ab23-469645cae221",
   "metadata": {},
   "source": []
  },
  {
   "cell_type": "markdown",
   "id": "dbf04493-e1bf-43c1-b609-fb1ee6bfd7ad",
   "metadata": {},
   "source": [
    "# Conclusions"
   ]
  },
  {
   "cell_type": "markdown",
   "id": "93b2f750-1445-4706-9fa4-4ee1bb0c58d6",
   "metadata": {},
   "source": []
  },
  {
   "cell_type": "markdown",
   "id": "5fc69233-1ca8-4ab0-a24d-33c0fcd46639",
   "metadata": {},
   "source": [
    "# Recommendations"
   ]
  }
 ],
 "metadata": {
  "kernelspec": {
   "display_name": "Python 3 (ipykernel)",
   "language": "python",
   "name": "python3"
  },
  "language_info": {
   "codemirror_mode": {
    "name": "ipython",
    "version": 3
   },
   "file_extension": ".py",
   "mimetype": "text/x-python",
   "name": "python",
   "nbconvert_exporter": "python",
   "pygments_lexer": "ipython3",
   "version": "3.8.16"
  }
 },
 "nbformat": 4,
 "nbformat_minor": 5
}
