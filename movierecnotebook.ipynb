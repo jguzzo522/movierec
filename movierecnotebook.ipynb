{
 "cells": [
  {
   "cell_type": "markdown",
   "id": "eac12876-6503-4ddd-814a-ec7227bcd01d",
   "metadata": {},
   "source": [
    "# Streaming Movie Recommendation System\n",
    "By Jessica Guzzo\n",
    "Jguzzo522@gmail.com"
   ]
  },
  {
   "cell_type": "markdown",
   "id": "85c3299d-b4cc-4224-b8b2-94cb31edae13",
   "metadata": {},
   "source": [
    "# Business Understanding\n",
    "\n",
    "This project aims to create top 5 movie recommendations for each user of the streaming service. The reason to provide movie recommendations, is to enhance the users experience. It is important to keep the users happy while using this streaming service, because there are many streaming services to choose from.\n",
    "\n",
    "In addition this project aims to solve the cold start problem. The cold start problem applies to new users who the company has no historical data about. This cold start problem makes it challenging for companies to personalize movie recommendations, because there is no past history to base the recommendations. Its important to solve the cold start problem, so new users are impressed with the streaming service, and enjoy their experience."
   ]
  },
  {
   "cell_type": "markdown",
   "id": "9f6efadb-16b3-458b-bc33-9cd1aad65bd0",
   "metadata": {
    "jp-MarkdownHeadingCollapsed": true
   },
   "source": [
    "# Model Summary:\n",
    "\n",
    "This notebook demonstrates the effectiveness of using Singular Value Decomposition (SVD) Grid Search for producing movie recommendations.\n",
    "\n",
    "Singular Value Decomposition (SVD):\n",
    "\n",
    "SVD is a matrix factorization technique essential in recommendation systems. It breaks down a matrix into three key components:\n",
    "\n",
    "U (User matrix): Indicates the association between users and latent factors.\n",
    "Σ (Singular values matrix): Contains singular values that quantify the significance of each latent factor.\n",
    "V^T (Item matrix): Outlines the relationship between movies and latent factors.\n",
    "This approach predicts user ratings by reconstructing the original matrix with these components, filling gaps based on latent relationships.\n",
    "\n",
    "Hyperparameter Tuning Using Grid Search:\n",
    "A parameter grid was created to explore a wide range of combinations, aiming to find the best model based on Root Mean Square Error (RMSE) and Mean Absolute Error (MAE).\n",
    "\n",
    "The grid search was used to evaluate across 5-fold cross-validation to ensure reliability of the modeling.\n",
    "\n",
    "\n",
    "| Metric       | Training Score | Testing Score |\n",
    "|--------------|----------------|---------------|\n",
    "| RMSE         | 0.643          | 0.853         |\n",
    "| MAE          | 0.502          | 0.657         |\n",
    "| NDCG         | 1.000          | 0.900         |\n",
    "| Precision    | 0.967          | 0.809         |\n",
    "| Recall       | 0.315          | 0.532         |\n",
    "| F1 Score     | 0.475          | 0.642         |\n",
    "\n",
    "\n",
    "\n",
    "  \n",
    "Evaluation Summary\n",
    "The optimized SVD model shows significant improvement in several key areas. The MAE and Root RMSE remain similar to the initial model, with scores around 0.853 and 0.657, respectively. These values suggest a marginal decrease from the first model, indicating a higher likelihood that the model's predictions align closely with user ratings.\n",
    "\n",
    "Notably, the NDCG was higher, indicating that the model is  effective in ranking highly rated movies at the top of the list, which is crucial for user satisfaction.\n",
    "\n",
    "Precision is strong at 0.809, suggesting that the majority of recommendations made by the model are indeed relevant to the users. Additionally, the improvement in recall to 0.532, which surpasses the first model's performance, indicates that this model is less likely to miss out on movies that users would rate highly. Nonetheless, a significant number of relevant movies might still be omitted. This issue may persist due to the skewness of movie ratings in the dataset.\n",
    "\n",
    "The F1 Score at 0.642 represents a balanced measure of the model's precision and recall, showing that it maintains a good balance between both metrics. This F1 score out performs the first model, indicating that this model is more balanced. "
   ]
  },
  {
   "cell_type": "markdown",
   "id": "cdd3b621-c1cb-4614-ac5b-24cd6d624153",
   "metadata": {},
   "source": [
    "# Data Understanding\n",
    "\n",
    "The dataset for this project can be accessed at https://grouplens.org/datasets/movielens/latest/. In this dataset are users movie ratings ranging from 0.5 to 5 stars. The data set also includes the following:"
   ]
  },
  {
   "cell_type": "markdown",
   "id": "73b20fab-8fcc-46a8-a17a-0312213739a2",
   "metadata": {},
   "source": [
    "\n",
    "| Column       | Description                                         |\n",
    "|--------------|-----------------------------------------------------|\n",
    "| movieId      | Unique identifier for each movie                    |\n",
    "| title        | Title of the movie along with the release year      |\n",
    "| genres       | Genres associated with the movie, separated by      |\n",
    "| userId_x     | User ID of the user who provided the rating         |\n",
    "| rating       | Rating given to the movie by the user               |\n",
    "| timestamp_x  | Timestamp when the rating was given by the user     |\n",
    "| userId_y     | User ID of the user who applied the tag             |\n",
    "| tag          | Tag applied to the movie by the user                |\n",
    "| timestamp_y  | Timestamp when the tag was applied by the user      |\n",
    "| imdbId       | IMDb ID of the movie                                |\n",
    "| tmdbId       | TMDb ID of the movie                                |\n",
    "\n"
   ]
  },
  {
   "cell_type": "markdown",
   "id": "79ac8574-2777-485a-9713-3e1c4f601b7b",
   "metadata": {},
   "source": [
    "## Importing libraries\n",
    "\n",
    "Several python libraries were imported to ananylize that dataset. \n",
    "## Data Merging\n",
    "Data sets 'ratings.csv' and 'movies.csv' were merged on 'movieId'"
   ]
  },
  {
   "cell_type": "code",
   "execution_count": 1,
   "id": "6ba895e6-6740-4774-a89c-ebea04e71f69",
   "metadata": {},
   "outputs": [
    {
     "name": "stdout",
     "output_type": "stream",
     "text": [
      "Missing movies in 'movies.csv' that are in 'ratings.csv': 0\n",
      "Merged DataFrame Sample:\n",
      "   userId  movieId  rating   timestamp             title  \\\n",
      "0       1        1     4.0   964982703  Toy Story (1995)   \n",
      "1       5        1     4.0   847434962  Toy Story (1995)   \n",
      "2       7        1     4.5  1106635946  Toy Story (1995)   \n",
      "3      15        1     2.5  1510577970  Toy Story (1995)   \n",
      "4      17        1     4.5  1305696483  Toy Story (1995)   \n",
      "\n",
      "                                        genres  \n",
      "0  Adventure|Animation|Children|Comedy|Fantasy  \n",
      "1  Adventure|Animation|Children|Comedy|Fantasy  \n",
      "2  Adventure|Animation|Children|Comedy|Fantasy  \n",
      "3  Adventure|Animation|Children|Comedy|Fantasy  \n",
      "4  Adventure|Animation|Children|Comedy|Fantasy  \n"
     ]
    }
   ],
   "source": [
    "import os\n",
    "import pandas as pd\n",
    "import matplotlib.pyplot as plt\n",
    "from surprise import Dataset, Reader\n",
    "from surprise.model_selection import train_test_split, cross_validate, GridSearchCV\n",
    "from surprise import accuracy, SVD, SVDpp\n",
    "from sklearn.decomposition import PCA\n",
    "from sklearn.cluster import KMeans\n",
    "from scipy.sparse import csr_matrix\n",
    "import numpy as np\n",
    "\n",
    "\n",
    "# Define the folder path for the \"movierec\" folder from Desktop\n",
    "folder_path = os.path.join(os.path.expanduser(\"~\"), \"Desktop\", \"movierec\")\n",
    "\n",
    "# Define file paths for each CSV file within the \"movierec\" folder\n",
    "file_paths = {\n",
    "    'movies': os.path.join(folder_path, 'movies.csv'),\n",
    "    'links': os.path.join(folder_path, 'links.csv'),\n",
    "    'ratings': os.path.join(folder_path, 'ratings.csv'),\n",
    "    'tags': os.path.join(folder_path, 'tags.csv')\n",
    "}\n",
    "\n",
    "# Create an empty dictionary to store DataFrames\n",
    "dfs = {}\n",
    "for key, path in file_paths.items():\n",
    "    dfs[key] = pd.read_csv(path)\n",
    "\n",
    "# After loading data, check the unique movie IDs coverage\n",
    "movies_in_ratings = set(dfs['ratings']['movieId'].unique())\n",
    "movies_in_movies = set(dfs['movies']['movieId'].unique())\n",
    "missing_movies = movies_in_ratings - movies_in_movies\n",
    "print(f\"Missing movies in 'movies.csv' that are in 'ratings.csv': {len(missing_movies)}\")\n",
    "if len(missing_movies) > 0:\n",
    "    print(\"Sample missing movie IDs:\", list(missing_movies)[:10])\n",
    "\n",
    "merged_df = pd.merge(dfs['ratings'], dfs['movies'], on='movieId', how='left' if missing_movies else 'inner')\n",
    "\n",
    "# Print the first few rows\n",
    "print(\"Merged DataFrame Sample:\")\n",
    "print(merged_df.head())\n",
    "\n",
    "\n"
   ]
  },
  {
   "cell_type": "markdown",
   "id": "c2f6f499-f4b8-4af2-9347-c7f8400b5139",
   "metadata": {},
   "source": [
    "# Data Preparation\n",
    "\n",
    "## Ratings Analysis\n",
    "\n",
    "### Average Rating per User\n",
    "The average rating per user was calculated, resulting in a mean rating of 3.66 out of 5. The standard deviation of 0.48 indicates some variability in user ratings, with the minimum and maximum ratings being 1.28 and 5.0, respectively.\n",
    "\n",
    "### Distribution of Ratings per User\n",
    "The distribution of ratings showed a wide range in the number of ratings provided by each user. On average, each user provided approximately 165 ratings, with a standard deviation of 269.5. The minimum number of ratings per user was 20, while the maximum was 2698.\n",
    "\n",
    "### Average Rating per Movie\n",
    "The average rating per movie was computed, with a mean rating of 3.26 out of 5. Similar to the user ratings, there is some variability in movie ratings, as indicated by the standard deviation of 0.87. The minimum and maximum ratings for movies were 0.5 and 5.0, respectively.\n",
    "\n",
    "### Distribution of Ratings per Movie\n",
    "The distribution of ratings per movie was reviewed, revealing that most movies received a relatively low number of ratings. On average, each movie received approximately 10 ratings, with a standard deviation of 22.4. The minimum number of ratings per movie was 1, while the maximum was 329.\n"
   ]
  },
  {
   "cell_type": "code",
   "execution_count": 2,
   "id": "bcda3cde-ccb4-4eda-8246-80c717bee001",
   "metadata": {},
   "outputs": [
    {
     "name": "stdout",
     "output_type": "stream",
     "text": [
      "Ratings Distribution:\n",
      " count    100836.000000\n",
      "mean          3.501557\n",
      "std           1.042529\n",
      "min           0.500000\n",
      "25%           3.000000\n",
      "50%           3.500000\n",
      "75%           4.000000\n",
      "max           5.000000\n",
      "Name: rating, dtype: float64\n",
      "\n",
      "Unique Users: 610\n",
      "Unique Movies: 9724\n",
      "\n",
      "Missing Values in Ratings DataFrame:\n",
      " userId       0\n",
      "movieId      0\n",
      "rating       0\n",
      "timestamp    0\n",
      "dtype: int64\n"
     ]
    }
   ],
   "source": [
    "print(\"Ratings Distribution:\\n\", dfs['ratings']['rating'].describe())\n",
    "\n",
    "print(\"\\nUnique Users:\", dfs['ratings']['userId'].nunique())\n",
    "print(\"Unique Movies:\", dfs['ratings']['movieId'].nunique())\n",
    "\n",
    "# Check for missing values\n",
    "print(\"\\nMissing Values in Ratings DataFrame:\\n\", dfs['ratings'].isnull().sum())\n"
   ]
  },
  {
   "cell_type": "code",
   "execution_count": 3,
   "id": "12ca88c4-1cfa-4bea-80f6-4a8ea46ba2fa",
   "metadata": {},
   "outputs": [
    {
     "name": "stdout",
     "output_type": "stream",
     "text": [
      "Average Rating per User:\n",
      " count    610.000000\n",
      "mean       3.657222\n",
      "std        0.480635\n",
      "min        1.275000\n",
      "25%        3.360000\n",
      "50%        3.694385\n",
      "75%        3.997500\n",
      "max        5.000000\n",
      "Name: rating, dtype: float64\n",
      "\n",
      "Distribution of Ratings per User:\n",
      " count     610.000000\n",
      "mean      165.304918\n",
      "std       269.480584\n",
      "min        20.000000\n",
      "25%        35.000000\n",
      "50%        70.500000\n",
      "75%       168.000000\n",
      "max      2698.000000\n",
      "Name: rating, dtype: float64\n",
      "\n",
      "Average Rating per Movie:\n",
      " count    9724.000000\n",
      "mean        3.262448\n",
      "std         0.869874\n",
      "min         0.500000\n",
      "25%         2.800000\n",
      "50%         3.416667\n",
      "75%         3.911765\n",
      "max         5.000000\n",
      "Name: rating, dtype: float64\n",
      "\n",
      "Distribution of Ratings per Movie:\n",
      " count    9724.000000\n",
      "mean       10.369807\n",
      "std        22.401005\n",
      "min         1.000000\n",
      "25%         1.000000\n",
      "50%         3.000000\n",
      "75%         9.000000\n",
      "max       329.000000\n",
      "Name: rating, dtype: float64\n"
     ]
    }
   ],
   "source": [
    "# Compute average rating per user\n",
    "average_ratings_per_user = dfs['ratings'].groupby('userId')['rating'].mean()\n",
    "\n",
    "# Explore distribution of number of ratings per user\n",
    "ratings_per_user_distribution = dfs['ratings'].groupby('userId')['rating'].count()\n",
    "\n",
    "# Compute average rating per movie\n",
    "average_ratings_per_movie = dfs['ratings'].groupby('movieId')['rating'].mean()\n",
    "\n",
    "# Explore distribution of ratings per movie\n",
    "ratings_per_movie_distribution = dfs['ratings'].groupby('movieId')['rating'].count()\n",
    "\n",
    "# Display results\n",
    "print(\"Average Rating per User:\\n\", average_ratings_per_user.describe())\n",
    "print(\"\\nDistribution of Ratings per User:\\n\", ratings_per_user_distribution.describe())\n",
    "print(\"\\nAverage Rating per Movie:\\n\", average_ratings_per_movie.describe())\n",
    "print(\"\\nDistribution of Ratings per Movie:\\n\", ratings_per_movie_distribution.describe())\n"
   ]
  },
  {
   "cell_type": "markdown",
   "id": "28dcd696-ab60-4083-880d-5d8cf256ab11",
   "metadata": {},
   "source": [
    "## Movie Analysis\n",
    "\n",
    "This dataset contains a total of 9,742 movies.\n",
    "\n",
    "### Genres\n",
    "Movies can belong to multiple genres. For example, 'Toy Story' is categorized as an adventure, animation, children, comedy, and fantasy movie.\n",
    "\n",
    "### Spliting Genres\n",
    "\n",
    "The Genres were split so that each movie only had a single genre. This makes examination of the genre column easier to interpret. "
   ]
  },
  {
   "cell_type": "code",
   "execution_count": 4,
   "id": "ed2b9113-f906-4677-a55e-fc02080d735d",
   "metadata": {},
   "outputs": [
    {
     "name": "stdout",
     "output_type": "stream",
     "text": [
      "Total Movies: 9742\n",
      "\n",
      "Genres Sample:\n",
      " 0    Adventure|Animation|Children|Comedy|Fantasy\n",
      "1                     Adventure|Children|Fantasy\n",
      "2                                 Comedy|Romance\n",
      "3                           Comedy|Drama|Romance\n",
      "4                                         Comedy\n",
      "Name: genres, dtype: object\n",
      "\n",
      "Year of Release Sample:\n",
      "                                 title  year\n",
      "0                    Toy Story (1995)  1995\n",
      "1                      Jumanji (1995)  1995\n",
      "2             Grumpier Old Men (1995)  1995\n",
      "3            Waiting to Exhale (1995)  1995\n",
      "4  Father of the Bride Part II (1995)  1995\n"
     ]
    }
   ],
   "source": [
    "# Total Movies\n",
    "total_movies = len(dfs['movies'])\n",
    "\n",
    "# Genres\n",
    "# Inspect the first few rows to understand the genres format\n",
    "genres_sample = dfs['movies']['genres'].head()\n",
    "\n",
    "# Year of Release (if available)\n",
    "# Extract year from title title format: \"Title (Year)\")\n",
    "# Example: \"Toy Story (1995)\"\n",
    "dfs['movies']['year'] = dfs['movies']['title'].str.extract(r\"\\((\\d{4})\\)\")\n",
    "# Check the first few rows of the modified DataFrame\n",
    "year_sample = dfs['movies'][['title', 'year']].head()\n",
    "\n",
    "# Display results\n",
    "print(\"Total Movies:\", total_movies)\n",
    "print(\"\\nGenres Sample:\\n\", genres_sample)\n",
    "print(\"\\nYear of Release Sample:\\n\", year_sample)\n"
   ]
  },
  {
   "cell_type": "code",
   "execution_count": 5,
   "id": "fb096259-efd0-46e7-9a6d-532236a9ff58",
   "metadata": {},
   "outputs": [
    {
     "name": "stdout",
     "output_type": "stream",
     "text": [
      "Genre Popularity:\n",
      " Drama                 4361\n",
      "Comedy                3756\n",
      "Thriller              1894\n",
      "Action                1828\n",
      "Romance               1596\n",
      "Adventure             1263\n",
      "Crime                 1199\n",
      "Sci-Fi                 980\n",
      "Horror                 978\n",
      "Fantasy                779\n",
      "Children               664\n",
      "Animation              611\n",
      "Mystery                573\n",
      "Documentary            440\n",
      "War                    382\n",
      "Musical                334\n",
      "Western                167\n",
      "IMAX                   158\n",
      "Film-Noir               87\n",
      "(no genres listed)      34\n",
      "Name: genres, dtype: int64\n"
     ]
    }
   ],
   "source": [
    "# Splitting the genres and counting occurrences\n",
    "genre_counts = dfs['movies']['genres'].str.split('|').explode().value_counts()\n",
    "print(\"Genre Popularity:\\n\", genre_counts)\n"
   ]
  },
  {
   "cell_type": "markdown",
   "id": "833a206c-3664-47b0-9cb9-e23b090356f2",
   "metadata": {},
   "source": [
    "# Data Merging\n",
    "\n",
    "In this section, the ratings and movies datasets were merged based on the 'movieId' column. The merging process was performed using an inner join to retain only the rows that have matching 'movieId' values in both datasets. This ensures that only ratings for movies present in the movies dataset are included in the merged data-frame.\n"
   ]
  },
  {
   "cell_type": "code",
   "execution_count": 6,
   "id": "afafa9c4-75fe-4b90-b22d-a3eeb0f326be",
   "metadata": {},
   "outputs": [
    {
     "name": "stdout",
     "output_type": "stream",
     "text": [
      "Merged DataFrame Sample:\n",
      "    userId  movieId  rating   timestamp             title  \\\n",
      "0       1        1     4.0   964982703  Toy Story (1995)   \n",
      "1       5        1     4.0   847434962  Toy Story (1995)   \n",
      "2       7        1     4.5  1106635946  Toy Story (1995)   \n",
      "3      15        1     2.5  1510577970  Toy Story (1995)   \n",
      "4      17        1     4.5  1305696483  Toy Story (1995)   \n",
      "\n",
      "                                        genres  year  \n",
      "0  Adventure|Animation|Children|Comedy|Fantasy  1995  \n",
      "1  Adventure|Animation|Children|Comedy|Fantasy  1995  \n",
      "2  Adventure|Animation|Children|Comedy|Fantasy  1995  \n",
      "3  Adventure|Animation|Children|Comedy|Fantasy  1995  \n",
      "4  Adventure|Animation|Children|Comedy|Fantasy  1995  \n",
      "\n",
      "Average Ratings by Genre:\n",
      " genres\n",
      "Fantasy|Mystery|Western                5.0\n",
      "Animation|Children|Mystery             5.0\n",
      "Comedy|Horror|Mystery                  5.0\n",
      "Animation|Drama|Fantasy|Mystery        5.0\n",
      "Drama|Horror|Romance                   5.0\n",
      "                                      ... \n",
      "Action|Adventure|Comedy|Sci-Fi|IMAX    0.5\n",
      "Children|Horror|Sci-Fi                 0.5\n",
      "Animation|Children|Comedy|Drama        0.5\n",
      "Crime|Horror|Sci-Fi                    0.5\n",
      "Adventure|Children|Comedy|Sci-Fi       0.5\n",
      "Name: rating, Length: 951, dtype: float64\n",
      "\n",
      "Average Ratings Over the Years:\n",
      " year\n",
      "1902    3.500000\n",
      "1903    2.500000\n",
      "1908    4.000000\n",
      "1915    2.000000\n",
      "1916    3.600000\n",
      "          ...   \n",
      "2014    3.512879\n",
      "2015    3.410386\n",
      "2016    3.387261\n",
      "2017    3.578091\n",
      "2018    3.483516\n",
      "Name: rating, Length: 106, dtype: float64\n"
     ]
    }
   ],
   "source": [
    "# Merge ratings and movies dataframes\n",
    "merged_df = pd.merge(dfs['ratings'], dfs['movies'], on='movieId', how='inner')\n",
    "\n",
    "# Display the first few rows of the merged dataframe\n",
    "print(\"Merged DataFrame Sample:\\n\", merged_df.head())\n",
    "\n",
    "\n",
    "# Example: Ratings by genre\n",
    "ratings_by_genre = merged_df.groupby('genres')['rating'].mean().sort_values(ascending=False)\n",
    "print(\"\\nAverage Ratings by Genre:\\n\", ratings_by_genre)\n",
    "\n",
    "# Example: Ratings trend over the years\n",
    "ratings_by_year = merged_df.groupby('year')['rating'].mean()\n",
    "print(\"\\nAverage Ratings Over the Years:\\n\", ratings_by_year)\n",
    "\n"
   ]
  },
  {
   "cell_type": "code",
   "execution_count": 7,
   "id": "2a8bb1f3-3e73-4ae7-b24d-09a90b123c13",
   "metadata": {},
   "outputs": [
    {
     "name": "stdout",
     "output_type": "stream",
     "text": [
      "Number of unique movies in the merged DataFrame: 9724\n"
     ]
    }
   ],
   "source": [
    "# Count the number of unique movie IDs in the merged DataFrame\n",
    "num_unique_movies = merged_df['movieId'].nunique()\n",
    "\n",
    "# Print the result\n",
    "print(\"Number of unique movies in the merged DataFrame:\", num_unique_movies)\n"
   ]
  },
  {
   "cell_type": "code",
   "execution_count": 8,
   "id": "88e0a9f9-b66e-46b0-b605-b152762d72b6",
   "metadata": {},
   "outputs": [
    {
     "name": "stdout",
     "output_type": "stream",
     "text": [
      "Number of unique movies in the merged DataFrame: 610\n"
     ]
    }
   ],
   "source": [
    "\n",
    "# Count the number of unique users in the merged DataFrame\n",
    "num_unique_movies = merged_df['userId'].nunique()\n",
    "\n",
    "# Print the result\n",
    "print(\"Number of unique movies in the merged DataFrame:\", num_unique_movies)\n"
   ]
  },
  {
   "cell_type": "code",
   "execution_count": 9,
   "id": "3b515d5e-cd7a-4a80-865f-11ac45b023a7",
   "metadata": {},
   "outputs": [
    {
     "name": "stdout",
     "output_type": "stream",
     "text": [
      "['1995' '1996' '1994' '1977' '1993' '1990' '1989' '1991' '1940' '1939'\n",
      " '1941' '1938' '1947' '1975' '1968' '1945' '1963' '1971' '1951' '1979'\n",
      " '1992' '1986' '1982' '1980' '1987' '1981' '1983' '1960' '1952' '1984'\n",
      " '1933' '1985' '1974' '1922' '1997' '1998' '1930' '1976' '1942' '1967'\n",
      " '1959' '1946' '1978' '1973' '1988' '1999' '1931' '1964' '1962' '1965'\n",
      " '1969' '2000' '1970' '2003' '2004' '2006' '2008' '2009' '2010' '2011'\n",
      " '2012' '2013' '2014' '2015' '1955' '2002' '1961' '1954' '1957' '1943'\n",
      " '1956' '1966' '2001' '1937' '1972' '2005' '1950' '2007' '2016' '1926'\n",
      " '1944' '1949' '1936' '2017' '1958' '1935' '1927' '1953' '2018' '1923'\n",
      " '1902' '1920' '1948' '1928' nan '1934' '1916' '1908' '1932' '1921' '1925'\n",
      " '1929' '1917' '1915' '1924' '1903' '1919']\n"
     ]
    }
   ],
   "source": [
    "print(merged_df['year'].unique())\n"
   ]
  },
  {
   "cell_type": "markdown",
   "id": "ba31851b-f1b2-447d-b26f-f53a75936e42",
   "metadata": {},
   "source": [
    "# Data Transformation\n",
    "\n",
    "## Conversion of 'year' Column\n",
    "The 'year' column in the merged data-frame was converted to numeric format using the `pd.to_numeric()` function. Any 'nan' values were replaced with zeros and then converted to integer data type. This conversion allows for easier manipulation and analysis of movie release years.\n",
    "\n",
    "# Visualizations\n",
    "\n",
    "## Average Ratings per User Over Time (Decade)\n",
    "This line plot shows user engagement, showing the average ratings given by users for each decade. The trend revealed that average ratings were consistently above 3.6 after the 1920s, with a peak around 3.9 in the 1970s. A noticeable dip occurred in the 1980s, with average ratings descending to around 3.6. Post 1990's there has been an increase in ratings , that seems to be continuing to grow which indicates a positive shift in like-ability of movies. \n",
    "\n",
    "## Average Ratings per Movie Over Time (Decade)\n",
    "\n"
   ]
  },
  {
   "cell_type": "code",
   "execution_count": 10,
   "id": "3d42637b-63bb-4c84-9580-30c60bcb76f4",
   "metadata": {},
   "outputs": [
    {
     "data": {
      "image/png": "[encoded data removed]",
      "text/plain": [
       "<Figure size 1200x600 with 1 Axes>"
      ]
     },
     "metadata": {},
     "output_type": "display_data"
    }
   ],
   "source": [
    "# Convert 'year' column to numeric, replacing 'nan' with zeros\n",
    "merged_df['year'] = pd.to_numeric(merged_df['year'], errors='coerce').fillna(0).astype(int)\n",
    "\n",
    "# Aggregate data by decade\n",
    "merged_df['decade'] = (merged_df['year'] // 10) * 10\n",
    "\n",
    "# Replace zeros with 'nan' values\n",
    "merged_df.loc[merged_df['year'] == 0, 'decade'] = np.nan\n",
    "\n",
    "## Correct calculation for average ratings per user per decade\n",
    "ratings_per_user_over_decade = merged_df.groupby(['decade', 'userId'])['rating'].mean().reset_index()\n",
    "\n",
    "plt.figure(figsize=(12, 6))\n",
    "plt.plot(ratings_per_user_over_decade.groupby('decade')['rating'].mean(), marker='o', linestyle='-')\n",
    "plt.title('Average Ratings per User Over Time (Decade)')\n",
    "plt.xlabel('Decade')\n",
    "plt.ylabel('Average Rating')  \n",
    "plt.grid(True)\n",
    "plt.xticks(rotation=45)\n",
    "plt.show()\n",
    "\n",
    "\n",
    "\n"
   ]
  },
  {
   "cell_type": "markdown",
   "id": "b5ded25a-e88c-43c9-a32d-118b54296bda",
   "metadata": {},
   "source": [
    "# Additional Data Merging\n",
    "\n",
    "## Tags Dataset Integration\n",
    "\n",
    "The tags dataset has been merged with the existing merged DataFrame to incorporate user-generated tags applied to movies. \n",
    "\n",
    "## Missing Values Check\n",
    "- **tag**: 52,549 missing values\n",
    "  **year**: 20 missing values\n"
   ]
  },
  {
   "cell_type": "code",
   "execution_count": 11,
   "id": "7b8e8656-b206-4de3-80a4-dd8a2d205014",
   "metadata": {},
   "outputs": [
    {
     "name": "stdout",
     "output_type": "stream",
     "text": [
      "Number of unique movies in the merged DataFrame: 9724\n"
     ]
    }
   ],
   "source": [
    "# Merge ratings and movies dataframes\n",
    "merged_df = pd.merge(dfs['ratings'], dfs['movies'], on='movieId', how='inner')\n",
    "\n",
    "# Display the number of unique movie IDs in the merged DataFrame\n",
    "print(\"Number of unique movies in the merged DataFrame:\", merged_df['movieId'].nunique())\n"
   ]
  },
  {
   "cell_type": "code",
   "execution_count": 12,
   "id": "d733b20b-3828-45a1-81e4-7bb3820a4be7",
   "metadata": {},
   "outputs": [
    {
     "name": "stdout",
     "output_type": "stream",
     "text": [
      "Number of unique movies in the original 'movies' DataFrame: 9742\n",
      "Number of unique movies in the merged DataFrame: 9724\n"
     ]
    }
   ],
   "source": [
    "# Merge ratings and movies dataframes\n",
    "merged_df = pd.merge(dfs['ratings'], dfs['movies'], on='movieId', how='inner')\n",
    "\n",
    "# Display the number of unique movie IDs in the original 'movies' DataFrame\n",
    "num_unique_movies_original = dfs['movies']['movieId'].nunique()\n",
    "print(\"Number of unique movies in the original 'movies' DataFrame:\", num_unique_movies_original)\n",
    "\n",
    "# Display the number of unique movie IDs in the merged DataFrame\n",
    "num_unique_movies_merged = merged_df['movieId'].nunique()\n",
    "print(\"Number of unique movies in the merged DataFrame:\", num_unique_movies_merged)\n"
   ]
  },
  {
   "cell_type": "code",
   "execution_count": 13,
   "id": "93698f51-6d5e-41a4-a3bd-a8b31d33eb39",
   "metadata": {},
   "outputs": [
    {
     "name": "stdout",
     "output_type": "stream",
     "text": [
      "Updated Merged DataFrame:\n",
      "    userId  movieId  rating  timestamp             title  \\\n",
      "0       1        1     4.0  964982703  Toy Story (1995)   \n",
      "1       1        1     4.0  964982703  Toy Story (1995)   \n",
      "2       1        1     4.0  964982703  Toy Story (1995)   \n",
      "3       5        1     4.0  847434962  Toy Story (1995)   \n",
      "4       5        1     4.0  847434962  Toy Story (1995)   \n",
      "\n",
      "                                        genres  year    tag  \n",
      "0  Adventure|Animation|Children|Comedy|Fantasy  1995  pixar  \n",
      "1  Adventure|Animation|Children|Comedy|Fantasy  1995  pixar  \n",
      "2  Adventure|Animation|Children|Comedy|Fantasy  1995    fun  \n",
      "3  Adventure|Animation|Children|Comedy|Fantasy  1995  pixar  \n",
      "4  Adventure|Animation|Children|Comedy|Fantasy  1995  pixar  \n",
      "\n",
      "Missing Values in Merged DataFrame:\n",
      " userId           0\n",
      "movieId          0\n",
      "rating           0\n",
      "timestamp        0\n",
      "title            0\n",
      "genres           0\n",
      "year            20\n",
      "tag          52549\n",
      "dtype: int64\n"
     ]
    }
   ],
   "source": [
    "# Load the remaining datasets\n",
    "links_df = pd.read_csv(file_paths['links'])\n",
    "tags_df = pd.read_csv(file_paths['tags'])\n",
    "\n",
    "# Merge tags dataset\n",
    "merged_df = pd.merge(merged_df, tags_df, on='movieId', how='left')\n",
    "\n",
    "# Drop duplicate columns if they exist\n",
    "columns_to_drop = ['userId_y', 'tag_y', 'timestamp_y']\n",
    "merged_df = merged_df.drop(columns=[col for col in columns_to_drop if col in merged_df.columns])\n",
    "\n",
    "# Rename columns for clarity\n",
    "merged_df.rename(columns={'userId_x': 'userId', 'tag_x': 'tag', 'timestamp_x': 'timestamp'}, inplace=True)\n",
    "\n",
    "# Display the first few rows of the updated merged DataFrame\n",
    "print(\"Updated Merged DataFrame:\\n\", merged_df.head())\n",
    "\n",
    "# Check for any missing values after merging\n",
    "print(\"\\nMissing Values in Merged DataFrame:\\n\", merged_df.isnull().sum())\n"
   ]
  },
  {
   "cell_type": "code",
   "execution_count": 14,
   "id": "caaac09e-1400-488a-bdd8-bc6b52d84d6a",
   "metadata": {},
   "outputs": [
    {
     "name": "stdout",
     "output_type": "stream",
     "text": [
      "Number of unique movies in the merged DataFrame after merging with tags: 9724\n"
     ]
    }
   ],
   "source": [
    "# Display the number of unique movie IDs in the merged DataFrame after merging with tags\n",
    "num_unique_movies_after_tags_merge = merged_df['movieId'].nunique()\n",
    "print(\"Number of unique movies in the merged DataFrame after merging with tags:\", num_unique_movies_after_tags_merge)\n"
   ]
  },
  {
   "cell_type": "markdown",
   "id": "0856733b-f3b2-4a54-a82c-9cc9e740ebd0",
   "metadata": {},
   "source": [
    "### Discription Table\n",
    "\n",
    "The below shows the columns and their discription. "
   ]
  },
  {
   "cell_type": "code",
   "execution_count": 15,
   "id": "4e6aaa78-a9cf-46d2-ac22-d8147ac911e3",
   "metadata": {},
   "outputs": [
    {
     "name": "stdout",
     "output_type": "stream",
     "text": [
      "Index(['userId', 'movieId', 'rating', 'timestamp', 'title', 'genres', 'year',\n",
      "       'tag'],\n",
      "      dtype='object')\n"
     ]
    }
   ],
   "source": [
    "# Print all the columns of the merged DataFrame\n",
    "print(merged_df.columns)"
   ]
  },
  {
   "cell_type": "markdown",
   "id": "453652c8-2d26-42fa-ab63-19c73c587d76",
   "metadata": {},
   "source": [
    "| Column                | Description                                                    |\n",
    "|-----------------------|----------------------------------------------------------------|\n",
    "| movieId               | Unique identifier for each movie                               |\n",
    "| title                 | Title of the movie along with the release year                 |\n",
    "| genres                | Genres associated with the movie, separated by '|'            |\n",
    "| userId_x              | User ID of the user who provided the rating                    |\n",
    "| rating                | Rating given to the movie by the user                          |\n",
    "| timestamp_x           | Timestamp when the rating was given by the user                |\n",
    "| userId_y              | User ID of the user who applied the tag                        |\n",
    "| tag                   | Tag applied to the movie by the user                           |\n",
    "| timestamp_y           | Timestamp when the tag was applied by the user                 |\n",
    "| imdbId                | IMDb ID of the movie                                            |\n",
    "| tmdbId                | TMDb ID of the movie                                            |\n"
   ]
  },
  {
   "cell_type": "code",
   "execution_count": 16,
   "id": "46a9fd47-89ee-47a0-86e0-773593338a31",
   "metadata": {},
   "outputs": [
    {
     "name": "stdout",
     "output_type": "stream",
     "text": [
      "Index(['userId', 'movieId', 'rating', 'timestamp', 'title', 'genres', 'year',\n",
      "       'tag'],\n",
      "      dtype='object')\n"
     ]
    }
   ],
   "source": [
    "# Print all the columns of the merged DataFrame after dropping the redundant column\n",
    "print(merged_df.columns)\n"
   ]
  },
  {
   "cell_type": "markdown",
   "id": "f753eeaa-1cf3-4b05-a60d-c9dc51e1bf4a",
   "metadata": {},
   "source": [
    "# Handling Missing Values and Duplicate Values\n",
    "\n",
    "Before handling missing values, the DataFrame had **285,762** rows. \n",
    "There was a signifigant amount of missing values in the tag catagory. For this reason we did not want to drop all of those rows, instead we changed the missing values in 'tag' to 'Unknown'. This perserved the data. \n",
    "\n",
    "Duplicates were addressed by taking the max ratings out of 5, for each user-movie, and dropping all duplicate ratings from the dataset. Only one unique rating per movie was retained. \n"
   ]
  },
  {
   "cell_type": "code",
   "execution_count": 17,
   "id": "a899ee02-4c3c-432e-b8b7-ea406cf66ba2",
   "metadata": {},
   "outputs": [
    {
     "name": "stdout",
     "output_type": "stream",
     "text": [
      "Number of Rows Before Handling Missing Values: 285762\n",
      "Number of Rows After Handling Missing Values: 285762\n",
      "Index(['userId', 'movieId', 'rating', 'timestamp', 'title', 'genres', 'year',\n",
      "       'tag'],\n",
      "      dtype='object')\n"
     ]
    }
   ],
   "source": [
    "# Before handling missing values\n",
    "num_rows_before_handling = merged_df.shape[0]\n",
    "\n",
    "# Handling missing values\n",
    "# Fill missing values in the 'tag' column with 'Unknown'\n",
    "merged_df['tag'].fillna('Unknown', inplace=True)\n",
    "\n",
    "\n",
    "# After handling missing values\n",
    "num_rows_after_handling = merged_df.shape[0]\n",
    "\n",
    "# Print the number of rows before and after handling missing values\n",
    "print(\"Number of Rows Before Handling Missing Values:\", num_rows_before_handling)\n",
    "print(\"Number of Rows After Handling Missing Values:\", num_rows_after_handling)\n",
    "\n",
    "# Print all the columns of the merged DataFrame\n",
    "print(merged_df.columns)\n"
   ]
  },
  {
   "cell_type": "code",
   "execution_count": 18,
   "id": "977b40d2-70b8-4435-8b5e-786da1908990",
   "metadata": {},
   "outputs": [
    {
     "name": "stdout",
     "output_type": "stream",
     "text": [
      "              userId        movieId         rating     timestamp\n",
      "count  285762.000000  285762.000000  285762.000000  2.857620e+05\n",
      "mean      313.894279   14927.386405       3.841270  1.214707e+09\n",
      "std       179.451387   31403.373103       1.020798  2.233730e+08\n",
      "min         1.000000       1.000000       0.500000  8.281246e+08\n",
      "25%       160.000000     296.000000       3.000000  1.019133e+09\n",
      "50%       314.000000    1721.000000       4.000000  1.211377e+09\n",
      "75%       465.000000    5673.000000       4.500000  1.445346e+09\n",
      "max       610.000000  193609.000000       5.000000  1.537799e+09\n"
     ]
    }
   ],
   "source": [
    "# Summary Statistics\n",
    "summary_statistics = merged_df.describe()\n",
    "print(summary_statistics)\n"
   ]
  },
  {
   "cell_type": "code",
   "execution_count": 19,
   "id": "90054b43-61c8-4c7d-9757-e85f885e5a38",
   "metadata": {},
   "outputs": [
    {
     "name": "stdout",
     "output_type": "stream",
     "text": [
      "Number of ratings for 'Heat': 225\n"
     ]
    }
   ],
   "source": [
    "# Filter the DataFrame for the movie \"Heat\" using case-insensitive search\n",
    "heat_ratings = merged_df[merged_df['title'].str.contains('heat', case=False)]\n",
    "\n",
    "# Count the number of ratings for \"Heat\"\n",
    "num_ratings_heat = heat_ratings.shape[0]\n",
    "\n",
    "print(\"Number of ratings for 'Heat':\", num_ratings_heat)\n",
    "\n"
   ]
  },
  {
   "cell_type": "code",
   "execution_count": 20,
   "id": "7d8cf996-2dad-4f0e-860e-cf6c391023c2",
   "metadata": {},
   "outputs": [
    {
     "name": "stdout",
     "output_type": "stream",
     "text": [
      "Number of unique movies: 9724\n"
     ]
    }
   ],
   "source": [
    "# Calculate the number of unique movies\n",
    "unique_movies_count = merged_df['movieId'].nunique()\n",
    "\n",
    "# Print the number of unique movies\n",
    "print(\"Number of unique movies:\", unique_movies_count)\n"
   ]
  },
  {
   "cell_type": "code",
   "execution_count": 21,
   "id": "3c2c3ae0-9aad-4ec1-98cc-8023f8408fca",
   "metadata": {},
   "outputs": [
    {
     "name": "stdout",
     "output_type": "stream",
     "text": [
      "Before removing duplicates:\n",
      "Number of rows in DataFrame: 285762\n",
      "Number of unique user-movie combinations: userId      610\n",
      "movieId    9724\n",
      "dtype: int64\n"
     ]
    }
   ],
   "source": [
    "print(\"Before removing duplicates:\")\n",
    "print(\"Number of rows in DataFrame:\", len(merged_df))\n",
    "print(\"Number of unique user-movie combinations:\", merged_df[['userId', 'movieId']].nunique())\n"
   ]
  },
  {
   "cell_type": "code",
   "execution_count": 22,
   "id": "21ccae77-478f-4bf4-8f74-d2d9da7e5c9d",
   "metadata": {},
   "outputs": [
    {
     "name": "stdout",
     "output_type": "stream",
     "text": [
      "Final DataFrame after dropping duplicates:\n",
      "Shape: (100836, 8)\n",
      "Columns: Index(['userId', 'movieId', 'rating', 'timestamp', 'title', 'genres', 'year',\n",
      "       'tag'],\n",
      "      dtype='object')\n"
     ]
    }
   ],
   "source": [
    "# Step 1: Identify the maximum rating for each user and movie combination\n",
    "max_ratings = merged_df.groupby(['userId', 'movieId'])['rating'].max().reset_index()\n",
    "\n",
    "# Step 2: Merge this back on the original DataFrame to keep rows with the maximum rating\n",
    "# This will ensure that all columns are retained\n",
    "merged_df = pd.merge(max_ratings, merged_df, on=['userId', 'movieId', 'rating'], how='inner')\n",
    "\n",
    "# Step 3: Drop duplicates based specifically on 'userId' and 'movieId' to ensure each user-movie pair has only one entry\n",
    "merged_df = merged_df.drop_duplicates(subset=['userId', 'movieId'])\n",
    "\n",
    "# Final check post-duplicates removal\n",
    "print(\"Final DataFrame after dropping duplicates:\")\n",
    "print(\"Shape:\", merged_df.shape)\n",
    "print(\"Columns:\", merged_df.columns)\n",
    "\n",
    "\n"
   ]
  },
  {
   "cell_type": "code",
   "execution_count": 23,
   "id": "8bec245c-adc8-40a1-aae1-11bd62a1c07d",
   "metadata": {},
   "outputs": [
    {
     "name": "stdout",
     "output_type": "stream",
     "text": [
      "\n",
      "After removing duplicates:\n",
      "Number of rows in DataFrame: 100836\n",
      "Number of unique user-movie combinations: userId      610\n",
      "movieId    9724\n",
      "dtype: int64\n"
     ]
    }
   ],
   "source": [
    "# After running the code\n",
    "print(\"\\nAfter removing duplicates:\")\n",
    "print(\"Number of rows in DataFrame:\", len(merged_df))\n",
    "print(\"Number of unique user-movie combinations:\", merged_df[['userId', 'movieId']].nunique())"
   ]
  },
  {
   "cell_type": "code",
   "execution_count": 24,
   "id": "130606e6-d2f3-45e4-8d71-85bd233f952a",
   "metadata": {},
   "outputs": [
    {
     "name": "stdout",
     "output_type": "stream",
     "text": [
      "Number of unique users in the final DataFrame: 610\n"
     ]
    }
   ],
   "source": [
    "# Calculate the number of unique users in the final DataFrame\n",
    "num_unique_users_final = merged_df['userId'].nunique()\n",
    "\n",
    "# Print the number of unique users\n",
    "print(\"Number of unique users in the final DataFrame:\", num_unique_users_final)\n"
   ]
  },
  {
   "cell_type": "code",
   "execution_count": 25,
   "id": "f36a8fc3-b785-46be-9e9c-d9dac43294e6",
   "metadata": {},
   "outputs": [
    {
     "name": "stdout",
     "output_type": "stream",
     "text": [
      "Final DataFrame after dropping duplicates:\n",
      "Shape: (100836, 8)\n",
      "Columns: Index(['userId', 'movieId', 'rating', 'timestamp', 'title', 'genres', 'year',\n",
      "       'tag'],\n",
      "      dtype='object')\n"
     ]
    }
   ],
   "source": [
    "# Drop duplicates to ensure unique entries\n",
    "merged_df = merged_df.drop_duplicates(subset=['userId', 'movieId', 'rating'])\n",
    "\n",
    "# Final check post-duplicates removal\n",
    "print(\"Final DataFrame after dropping duplicates:\")\n",
    "print(\"Shape:\", merged_df.shape)\n",
    "print(\"Columns:\", merged_df.columns)\n"
   ]
  },
  {
   "cell_type": "code",
   "execution_count": 26,
   "id": "e269d542-13b0-4c60-a856-de4818960e6b",
   "metadata": {},
   "outputs": [
    {
     "name": "stdout",
     "output_type": "stream",
     "text": [
      "Number of unique users in the final DataFrame: 610\n"
     ]
    }
   ],
   "source": [
    "# Calculate the number of unique users in the final DataFrame\n",
    "num_unique_users_final = merged_df['userId'].nunique()\n",
    "\n",
    "# Print the number of unique users\n",
    "print(\"Number of unique users in the final DataFrame:\", num_unique_users_final)\n"
   ]
  },
  {
   "cell_type": "code",
   "execution_count": 27,
   "id": "d0cf6528-b4c0-4070-b6f3-4856ec0e63c3",
   "metadata": {},
   "outputs": [],
   "source": [
    "# Convert titles to lowercase and remove leading/trailing whitespace\n",
    "merged_df['title'] = merged_df['title'].str.lower().str.strip()\n",
    "\n",
    "# Remove special characters or punctuation\n",
    "merged_df['title'] = merged_df['title'].str.replace('[^\\w\\s]', '')\n"
   ]
  },
  {
   "cell_type": "code",
   "execution_count": 28,
   "id": "44160b17-aead-4664-88ad-bc45dc85c54b",
   "metadata": {},
   "outputs": [
    {
     "name": "stdout",
     "output_type": "stream",
     "text": [
      "Number of unique users in the final DataFrame: 610\n"
     ]
    }
   ],
   "source": [
    "# Calculate the number of unique users in the final DataFrame\n",
    "num_unique_users_final = merged_df['userId'].nunique()\n",
    "\n",
    "# Print the number of unique users\n",
    "print(\"Number of unique users in the final DataFrame:\", num_unique_users_final)"
   ]
  },
  {
   "cell_type": "code",
   "execution_count": 29,
   "id": "2a9fcda7-0850-4eee-9c6e-4093a413128b",
   "metadata": {
    "scrolled": true
   },
   "outputs": [
    {
     "name": "stdout",
     "output_type": "stream",
     "text": [
      "Sample data after merge:\n",
      "   userId  movieId  rating  timestamp                    title  \\\n",
      "0       1        1     4.0  964982703           toy story 1995   \n",
      "3       1        3     4.0  964981247    grumpier old men 1995   \n",
      "5       1        6     4.0  964982224                heat 1995   \n",
      "6       1       47     5.0  964983815     seven aka se7en 1995   \n",
      "9       1       50     5.0  964982931  usual suspects the 1995   \n",
      "\n",
      "                                        genres  year       tag  \n",
      "0  Adventure|Animation|Children|Comedy|Fantasy  1995     pixar  \n",
      "3                               Comedy|Romance  1995     moldy  \n",
      "5                        Action|Crime|Thriller  1995   Unknown  \n",
      "6                             Mystery|Thriller  1995   mystery  \n",
      "9                       Crime|Mystery|Thriller  1995  mindfuck  \n",
      "Sample data after dropping duplicates:\n",
      "   userId  movieId  rating  timestamp                    title  \\\n",
      "0       1        1     4.0  964982703           toy story 1995   \n",
      "3       1        3     4.0  964981247    grumpier old men 1995   \n",
      "5       1        6     4.0  964982224                heat 1995   \n",
      "6       1       47     5.0  964983815     seven aka se7en 1995   \n",
      "9       1       50     5.0  964982931  usual suspects the 1995   \n",
      "\n",
      "                                        genres  year       tag  \n",
      "0  Adventure|Animation|Children|Comedy|Fantasy  1995     pixar  \n",
      "3                               Comedy|Romance  1995     moldy  \n",
      "5                        Action|Crime|Thriller  1995   Unknown  \n",
      "6                             Mystery|Thriller  1995   mystery  \n",
      "9                       Crime|Mystery|Thriller  1995  mindfuck  \n"
     ]
    }
   ],
   "source": [
    "# After merge\n",
    "print(\"Sample data after merge:\")\n",
    "print(merged_df.head())\n",
    "\n",
    "# After dropping duplicates\n",
    "print(\"Sample data after dropping duplicates:\")\n",
    "print(merged_df.head())\n"
   ]
  },
  {
   "cell_type": "code",
   "execution_count": 30,
   "id": "709b7970-ef0a-4651-970f-f8d80dc7a6e4",
   "metadata": {},
   "outputs": [
    {
     "name": "stdout",
     "output_type": "stream",
     "text": [
      "Number of ratings for 'Heat': 225\n"
     ]
    }
   ],
   "source": [
    "# Filter the DataFrame for the movie \"Heat\" using case-insensitive search\n",
    "heat_ratings = merged_df[merged_df['title'].str.contains('heat', case=False)]\n",
    "\n",
    "# Count the number of ratings for \"Heat\"\n",
    "num_ratings_heat = heat_ratings.shape[0]\n",
    "\n",
    "print(\"Number of ratings for 'Heat':\", num_ratings_heat)\n",
    "\n"
   ]
  },
  {
   "cell_type": "code",
   "execution_count": 31,
   "id": "2a0c9243-9ff5-4f3c-8a87-c11ea344f71c",
   "metadata": {},
   "outputs": [
    {
     "name": "stdout",
     "output_type": "stream",
     "text": [
      "Tag frequency across different users for each movie:\n",
      "movieId  tag      \n",
      "1        pixar        215\n",
      "2        fantasy      110\n",
      "3        moldy         52\n",
      "4        Unknown        7\n",
      "5        pregnancy     49\n",
      "                     ... \n",
      "193581   Unknown        1\n",
      "193583   Unknown        1\n",
      "193585   Unknown        1\n",
      "193587   Unknown        1\n",
      "193609   Unknown        1\n",
      "Length: 9724, dtype: int64\n"
     ]
    }
   ],
   "source": [
    "# Check how frequently each tag is applied to each movie by any user\n",
    "tag_frequency = merged_df.groupby(['movieId', 'tag']).size()\n",
    "print(\"Tag frequency across different users for each movie:\")\n",
    "print(tag_frequency)\n"
   ]
  },
  {
   "cell_type": "code",
   "execution_count": 32,
   "id": "954a0f68-9d98-4722-905d-eeaa082212a6",
   "metadata": {},
   "outputs": [
    {
     "name": "stdout",
     "output_type": "stream",
     "text": [
      "There are 610 unique users.\n"
     ]
    }
   ],
   "source": [
    "\n",
    "\n",
    "number_of_users = merged_df['userId'].nunique()\n",
    "\n",
    "print(f\"There are {number_of_users} unique users.\")\n"
   ]
  },
  {
   "cell_type": "markdown",
   "id": "b290814f-c1ed-4879-bdf5-f47e8f5d68c8",
   "metadata": {},
   "source": [
    "## Visualization of Distribution of Ratings\n",
    "\n",
    "This bar graph clearly shows that most users are giving movies 3-5 star ratings. The number of 3-star ratings is close to 20k, while anything below 3 is well below the 10k mark. The highest frequency of ratings is 4 stars, and the second highest frequency is 5 stars. The lowest frequency is for movies rated 0.5 stars. This data indicates that users tend to rate movies positively, and the data is skewed towards higher ratings.\n",
    "\n"
   ]
  },
  {
   "cell_type": "code",
   "execution_count": 33,
   "id": "798793ef-a1b1-478e-a997-05575352584f",
   "metadata": {},
   "outputs": [
    {
     "data": {
      "image/png": "[encoded data removed]",
      "text/plain": [
       "<Figure size 800x600 with 1 Axes>"
      ]
     },
     "metadata": {},
     "output_type": "display_data"
    }
   ],
   "source": [
    "import matplotlib.pyplot as plt\n",
    "\n",
    "# Histogram of Ratings\n",
    "plt.figure(figsize=(8, 6))\n",
    "plt.hist(merged_df['rating'], bins=20, color='skyblue', edgecolor='black')\n",
    "plt.title('Distribution of Ratings')\n",
    "plt.xlabel('Rating')\n",
    "plt.ylabel('Frequency')\n",
    "plt.grid(True)\n",
    "plt.show()\n"
   ]
  },
  {
   "cell_type": "markdown",
   "id": "a1590d60-f947-47d3-9e0e-047b4cb9ebef",
   "metadata": {},
   "source": [
    "The box plot provides a visual summary of the ratings' spread, highlighting the median, quartiles, and any potential outliers in the data. The median rating hovers around 3.5, suggesting that half of the ratings are above this value and half are below. The presence of outliers below the lower whisker indicates that there are some unusually low ratings, but these are relatively few compared to the concentration of ratings in the upper half of the scale, which aligns with the overall trend of users giving more favorable reviews. "
   ]
  },
  {
   "cell_type": "code",
   "execution_count": 34,
   "id": "630103a7-8f3d-4727-9d31-e3ea4f1bc1fe",
   "metadata": {},
   "outputs": [
    {
     "data": {
      "image/png": "[encoded data removed]",
      "text/plain": [
       "<Figure size 800x600 with 1 Axes>"
      ]
     },
     "metadata": {},
     "output_type": "display_data"
    }
   ],
   "source": [
    "# Box Plot of Ratings\n",
    "plt.figure(figsize=(8, 6))\n",
    "plt.boxplot(merged_df['rating'])\n",
    "plt.title('Box Plot of Ratings')\n",
    "plt.ylabel('Rating')\n",
    "plt.grid(True)\n",
    "plt.show()\n"
   ]
  },
  {
   "cell_type": "markdown",
   "id": "026eb227-4ad1-49f6-b759-f9d265ae99bf",
   "metadata": {},
   "source": [
    "## Check for Missing Values\n",
    "The dataset was examined for missing values. The 'decade' column had 18 missing values.\n",
    "\n",
    "### Fill missing values in 'decade' column based on 'year' information\n",
    "The missing values in the 'decade' column were filled by deriving decade information from the 'year' column.\n",
    "\n",
    "No rows were found with missing 'decade' values after filling them.\n",
    "\n",
    "There are now 0 missing values in the 'decade' column.\n"
   ]
  },
  {
   "cell_type": "code",
   "execution_count": 35,
   "id": "d47ff99e-b14f-46e9-b3fa-adb31242bc5d",
   "metadata": {},
   "outputs": [
    {
     "name": "stdout",
     "output_type": "stream",
     "text": [
      "Missing Values:\n",
      " userId        0\n",
      "movieId       0\n",
      "rating        0\n",
      "timestamp     0\n",
      "title         0\n",
      "genres        0\n",
      "year         18\n",
      "tag           0\n",
      "dtype: int64\n"
     ]
    }
   ],
   "source": [
    "# Check for Missing Values\n",
    "missing_values = merged_df.isnull().sum()\n",
    "print(\"Missing Values:\\n\", missing_values)\n"
   ]
  },
  {
   "cell_type": "code",
   "execution_count": 36,
   "id": "4f57c531-0787-4ac8-9ced-eaa4fa260efb",
   "metadata": {},
   "outputs": [
    {
     "name": "stdout",
     "output_type": "stream",
     "text": [
      "        userId  movieId  rating   timestamp  \\\n",
      "27625       62   176601     5.0  1525795252   \n",
      "49393      105   147250     5.0  1526207354   \n",
      "49420      105   171749     5.0  1526207365   \n",
      "51907      111   171631     1.0  1517440909   \n",
      "51909      111   171891     3.5  1517440199   \n",
      "91084      209   140956     3.5  1524522239   \n",
      "91405      210    40697     4.0  1527266191   \n",
      "138005     305   140956     4.5  1533043577   \n",
      "138228     306   149334     3.0  1518380372   \n",
      "146178     318   171495     5.0  1516826406   \n",
      "174180     380   140956     3.0  1534176158   \n",
      "191428     414   167570     4.0  1511535836   \n",
      "208790     448   143410     2.0  1474224802   \n",
      "213295     462   162414     5.0  1478489531   \n",
      "237277     514   140956     3.0  1533946119   \n",
      "242549     528    40697     0.5  1391736467   \n",
      "256452     567   156605     4.5  1525283448   \n",
      "273293     599   171495     4.0  1519116912   \n",
      "\n",
      "                                                    title  \\\n",
      "27625                                        black mirror   \n",
      "49393   the adventures of sherlock holmes and doctor w...   \n",
      "49420                       death note desu nôto 20062007   \n",
      "51907                              maria bamford old baby   \n",
      "51909                                   generation iron 2   \n",
      "91084                                    ready player one   \n",
      "91405                                           babylon 5   \n",
      "138005                                   ready player one   \n",
      "138228                                  nocturnal animals   \n",
      "146178                                             cosmos   \n",
      "174180                                   ready player one   \n",
      "191428                                             the oa   \n",
      "208790                                         hyena road   \n",
      "213295                                          moonlight   \n",
      "237277                                   ready player one   \n",
      "242549                                          babylon 5   \n",
      "256452                                           paterson   \n",
      "273293                                             cosmos   \n",
      "\n",
      "                        genres  year      tag  decade  \n",
      "27625       (no genres listed)   NaN  Unknown     NaN  \n",
      "49393       (no genres listed)   NaN  Unknown     NaN  \n",
      "49420       (no genres listed)   NaN  Unknown     NaN  \n",
      "51907       (no genres listed)   NaN  Unknown     NaN  \n",
      "51909       (no genres listed)   NaN  Unknown     NaN  \n",
      "91084   Action|Sci-Fi|Thriller   NaN  Unknown     NaN  \n",
      "91405                   Sci-Fi   NaN  Unknown     NaN  \n",
      "138005  Action|Sci-Fi|Thriller   NaN  Unknown     NaN  \n",
      "138228          Drama|Thriller   NaN  Unknown     NaN  \n",
      "146178      (no genres listed)   NaN  Unknown     NaN  \n",
      "174180  Action|Sci-Fi|Thriller   NaN  Unknown     NaN  \n",
      "191428      (no genres listed)   NaN  Unknown     NaN  \n",
      "208790      (no genres listed)   NaN  Unknown     NaN  \n",
      "213295                   Drama   NaN  Unknown     NaN  \n",
      "237277  Action|Sci-Fi|Thriller   NaN  Unknown     NaN  \n",
      "242549                  Sci-Fi   NaN  Unknown     NaN  \n",
      "256452      (no genres listed)   NaN   quirky     NaN  \n",
      "273293      (no genres listed)   NaN  Unknown     NaN  \n"
     ]
    }
   ],
   "source": [
    "# Convert 'year' column to numeric format\n",
    "merged_df['year'] = pd.to_numeric(merged_df['year'], errors='coerce')\n",
    "\n",
    "# Fill missing values in 'decade' column based on 'year' information\n",
    "merged_df['decade'] = (merged_df['year'] // 10) * 10\n",
    "\n",
    "# Display rows with missing 'decade' values\n",
    "missing_decade_rows = merged_df[merged_df['decade'].isnull()]\n",
    "print(missing_decade_rows)\n",
    "\n"
   ]
  },
  {
   "cell_type": "code",
   "execution_count": 37,
   "id": "fc5bf9ac-2f28-4858-87b8-5306b6a4a26d",
   "metadata": {},
   "outputs": [
    {
     "name": "stdout",
     "output_type": "stream",
     "text": [
      "18\n"
     ]
    }
   ],
   "source": [
    "print(merged_df['decade'].isnull().sum())\n"
   ]
  },
  {
   "cell_type": "code",
   "execution_count": 38,
   "id": "d41fd496-7ea1-4838-9625-5bf15c9b9135",
   "metadata": {},
   "outputs": [],
   "source": [
    "# Remove rows with missing values in the 'decade' column\n",
    "merged_df.dropna(subset=['decade'], inplace=True)\n"
   ]
  },
  {
   "cell_type": "markdown",
   "id": "1e9ddfda-f82c-4712-aab1-7270bb41f542",
   "metadata": {},
   "source": [
    "### Analysis of Genres\n",
    "\n",
    "#### Unique Genres\n",
    "The dataset was analyzed to identify unique genres. The following genres were found: {'Film-Noir', 'Crime', 'Sci-Fi', 'Mystery', 'Documentary', 'Comedy', 'Horror', 'Animation', '(no genres listed)', 'Drama', 'IMAX', 'Western', 'Romance', 'Musical', 'Fantasy', 'Action', 'War', 'Adventure', 'Thriller', 'Children'}.\n",
    "\n",
    "#### Movies with \"(no genres listed)\"\n",
    "There were 37 movies with the label '(no genres listed)', this was small in comparison to the number of movies in the dataset, so the decision was made to remove these movies.\n",
    "\n",
    "#### Removal of Movies with \"(no genres listed)\"\n",
    "The movies with the label '(no genres listed)' were removed from the dataset. After removal, the updated DataFrame contained the following unique genres: ['Film-Noir' 'Crime' 'Thriller' 'Mystery' 'Documentary' 'Comedy' 'Horror'\n",
    " 'Animation' 'Drama' 'Sci-Fi' 'IMAX' 'Western' 'Romance' 'Musical'\n",
    " 'Fantasy' 'Action' 'War' 'Adventure' 'Children'].\n",
    "\n",
    "\n"
   ]
  },
  {
   "cell_type": "code",
   "execution_count": 39,
   "id": "76c9b8bc-fdae-4b1a-948e-033706cb63f6",
   "metadata": {},
   "outputs": [
    {
     "name": "stdout",
     "output_type": "stream",
     "text": [
      "Unique Genres: {'Film-Noir', 'Fantasy', 'IMAX', 'Action', 'Mystery', 'Crime', 'Drama', '(no genres listed)', 'Thriller', 'Sci-Fi', 'Animation', 'Romance', 'Horror', 'War', 'Children', 'Western', 'Musical', 'Comedy', 'Adventure', 'Documentary'}\n"
     ]
    }
   ],
   "source": [
    "# Extract unique genres\n",
    "unique_genres = set()\n",
    "\n",
    "for genres in merged_df['genres']:\n",
    "    unique_genres.update(genres.split('|'))\n",
    "\n",
    "print(\"Unique Genres:\", unique_genres)\n"
   ]
  },
  {
   "cell_type": "code",
   "execution_count": 40,
   "id": "7b24d1c6-a3c2-4d26-a7f5-ddcc4c02b5c0",
   "metadata": {},
   "outputs": [
    {
     "name": "stdout",
     "output_type": "stream",
     "text": [
      "Number of movies with '(no genres listed)': 37\n",
      "Percentage of movies with '(no genres listed)': 0.04%\n"
     ]
    }
   ],
   "source": [
    "# Count occurrences of \"(no genres listed)\"\n",
    "no_genre_count = merged_df[merged_df['genres'] == '(no genres listed)'].shape[0]\n",
    "total_movies = merged_df.shape[0]\n",
    "\n",
    "# Calculate percentage of movies with \"(no genres listed)\"\n",
    "percentage_no_genre = (no_genre_count / total_movies) * 100\n",
    "\n",
    "print(\"Number of movies with '(no genres listed)':\", no_genre_count)\n",
    "print(\"Percentage of movies with '(no genres listed)': {:.2f}%\".format(percentage_no_genre))\n"
   ]
  },
  {
   "cell_type": "code",
   "execution_count": 41,
   "id": "8f530631-8880-4001-adf3-2f62255fecfb",
   "metadata": {},
   "outputs": [
    {
     "name": "stdout",
     "output_type": "stream",
     "text": [
      "Unique Genres After Removal: ['Adventure|Animation|Children|Comedy|Fantasy' 'Comedy|Romance'\n",
      " 'Action|Crime|Thriller' 'Mystery|Thriller' 'Crime|Mystery|Thriller'\n",
      " 'Action|Comedy|Horror|Thriller' 'Adventure|Comedy|Crime|Romance'\n",
      " 'Action|Drama|War' 'Action|Drama|Romance|War' 'Comedy|War'\n",
      " 'Action|Romance|Western' 'Comedy' 'Adventure|Comedy' 'Comedy|Drama'\n",
      " 'Action|Adventure|Sci-Fi' 'Comedy|Crime|Drama|Thriller'\n",
      " 'Action|Crime|Drama|Thriller' 'Comedy|Drama|Romance|War'\n",
      " 'Adventure|Children|Romance' 'Action|Comedy|Crime|Fantasy'\n",
      " 'Action|Thriller' 'Thriller' 'Action|Adventure|Sci-Fi|Thriller'\n",
      " 'Drama|War' 'Comedy|Romance|Thriller' 'Action|Adventure|Comedy|Romance'\n",
      " 'Action|Drama|Western' 'Adventure|Drama|Western' 'Crime|Horror|Thriller'\n",
      " 'Animation|Children|Fantasy|Musical' 'Action|Adventure|Mystery|Thriller'\n",
      " 'Adventure|Animation|Children|Fantasy|Musical'\n",
      " 'Adventure|Animation|Children|Comedy|Fantasy|Sci-Fi'\n",
      " 'Action|Adventure|Thriller' 'Action|Adventure|Romance|Thriller'\n",
      " 'Adventure|Children|Fantasy|Musical' 'Drama|Mystery'\n",
      " 'Action|Adventure|Romance' 'Drama|Fantasy|Romance' 'Drama'\n",
      " 'Adventure|Children|Fantasy' 'Animation|Children|Musical'\n",
      " 'Animation|Children|Drama|Musical' 'Adventure|Animation|Children|Musical'\n",
      " 'Adventure|Children|Musical' 'Action|Adventure'\n",
      " 'Children|Comedy|Fantasy|Musical' 'Children|Drama|Sci-Fi'\n",
      " 'Adventure|Comedy|Fantasy' 'Action|Adventure|Comedy|Fantasy|Romance'\n",
      " 'Crime|Drama|Sci-Fi|Thriller' 'Crime|Drama' 'Horror|Sci-Fi'\n",
      " 'Crime|Horror' 'Action|Comedy|Musical' 'Drama|Romance'\n",
      " 'Action|Sci-Fi|Thriller' 'Comedy|Musical|War' 'Horror'\n",
      " 'Comedy|Fantasy|Romance' 'Adventure|Comedy|Sci-Fi'\n",
      " 'Action|Adventure|Fantasy' 'Comedy|Fantasy' 'Drama|Musical'\n",
      " 'Action|Crime' 'Action|Comedy|Crime|Drama|Sci-Fi'\n",
      " 'Action|Romance|War|Western' 'Action|Comedy|Crime|Drama'\n",
      " 'Comedy|Crime|Romance' 'Action|Adventure|Comedy' 'Action|Comedy|Sci-Fi'\n",
      " 'Crime|Film-Noir|Mystery|Thriller' 'Crime|Drama|Mystery|Thriller'\n",
      " 'Drama|Mystery|Thriller' 'Horror|Mystery|Thriller' 'Action|Sci-Fi'\n",
      " 'Comedy|Crime' 'Animation|Children|Fantasy|War'\n",
      " 'Adventure|Fantasy|Musical' 'Action|Adventure|Children|Comedy|Fantasy'\n",
      " 'Adventure|Comedy|Sci-Fi|Western' 'Animation|Children|Drama'\n",
      " 'Adventure|Animation|Children|Fantasy' 'Adventure|Children|Sci-Fi'\n",
      " 'Action|Animation|Children|Crime'\n",
      " 'Adventure|Children|Comedy|Fantasy|Sci-Fi'\n",
      " 'Action|Crime|Drama|Mystery|Thriller' 'Animation|Children|Comedy|Musical'\n",
      " 'Adventure|Animation|Children|Crime|Drama' 'Animation|Children'\n",
      " 'Adventure|Animation|Children|Drama'\n",
      " 'Adventure|Animation|Children|Comedy' 'Adventure|Fantasy|Romance'\n",
      " 'Crime|Drama|Thriller' 'Action|Comedy|Crime|Thriller'\n",
      " 'Action|Adventure|Fantasy|Horror'\n",
      " 'Action|Adventure|Children|Fantasy|Mystery|Thriller' 'Comedy|Western'\n",
      " 'Action|Drama|Sci-Fi' 'Comedy|Crime|Thriller'\n",
      " 'Action|Adventure|Comedy|Fantasy|Horror|Thriller' 'Drama|Horror|Sci-Fi'\n",
      " 'Drama|Fantasy|Horror' 'Comedy|Horror|Musical|Sci-Fi'\n",
      " 'Animation|Comedy|Musical' 'Adventure|Animation|Children|Drama|Sci-Fi'\n",
      " 'Comedy|Drama|Fantasy|Romance' 'Adventure|Fantasy'\n",
      " 'Adventure|Animation|Children' 'Action|Crime|Drama|Sci-Fi|Thriller'\n",
      " 'Adventure|Animation|Children|Comedy|Crime|Fantasy|Mystery'\n",
      " 'Comedy|Drama|Fantasy' 'Comedy|Sci-Fi'\n",
      " 'Adventure|Animation|Children|Comedy|Musical' 'Adventure|Drama'\n",
      " 'Comedy|Horror|Mystery|Thriller' 'Action|Children|Fantasy'\n",
      " 'Comedy|Drama|War' 'Action|Adventure|Drama'\n",
      " 'Action|Adventure|Comedy|Fantasy' 'Adventure|Animation|Children|Sci-Fi'\n",
      " 'Action|Comedy' 'Action|Crime|Drama|IMAX' 'Action|Comedy|Horror'\n",
      " 'Comedy|Documentary' 'Action|Crime|Drama|Mystery|Sci-Fi|Thriller|IMAX'\n",
      " 'Documentary' 'Action|Adventure|Crime|IMAX' 'Drama|Thriller'\n",
      " 'Comedy|Crime|Drama' 'Sci-Fi|IMAX' 'Drama|Sci-Fi|Thriller'\n",
      " 'Action|Crime|Drama|War' 'Action|Adventure|Comedy|War'\n",
      " 'Adventure|Animation|Comedy' 'Comedy|Drama|Musical|Romance'\n",
      " 'Children|Drama|Fantasy' 'Adventure|Sci-Fi'\n",
      " 'Animation|Children|Comedy|Romance' 'Action|Horror|Sci-Fi|Thriller'\n",
      " 'Adventure|Sci-Fi|Thriller' 'Comedy|Drama|Romance' 'Comedy|Horror'\n",
      " 'Adventure|Children|Comedy' 'Action|Horror|Mystery|Sci-Fi'\n",
      " 'Drama|Horror|Sci-Fi|Thriller' 'Sci-Fi' 'Action|Horror|Sci-Fi' 'Action'\n",
      " 'Fantasy|Horror' 'Action|Drama|Sci-Fi|Thriller' 'Mystery|Sci-Fi|Thriller'\n",
      " 'Comedy|Drama|Thriller' 'Adventure|Comedy|Western' 'Comedy|Mystery'\n",
      " 'Animation|Children|Fantasy|Musical|Romance|IMAX' 'Adventure|Western'\n",
      " 'Drama|Mystery|Western' 'Comedy|Musical|Romance'\n",
      " 'Action|Adventure|Mystery|Romance|Thriller' 'Drama|Romance|War'\n",
      " 'Film-Noir|Romance|Thriller' 'Drama|Romance|Thriller'\n",
      " 'Crime|Drama|Film-Noir' 'Fantasy|Sci-Fi' 'Adventure|Drama|War'\n",
      " 'Drama|Western' 'Action|Western' 'Drama|Mystery|Romance|Thriller'\n",
      " 'Adventure|Animation|Children|Comedy|Drama|Musical|Romance'\n",
      " 'Drama|Musical|Romance' 'Crime|Drama|Film-Noir|Thriller'\n",
      " 'Drama|Horror|Mystery' 'Action|Mystery' 'Western'\n",
      " 'Mystery|Romance|Thriller' 'Comedy|Drama|Musical'\n",
      " 'Action|Mystery|Thriller' 'Action|Adventure|Drama|Thriller|Western'\n",
      " 'Action|Drama|Romance' 'Adventure|Comedy|Crime' 'Drama|Thriller|War'\n",
      " 'Action|Adventure|Comedy|Sci-Fi' 'Action|Drama'\n",
      " 'Drama|Fantasy|Horror|Thriller|War' 'Children|Drama'\n",
      " 'Adventure|Drama|IMAX' 'Action|Adventure|Comedy|Crime' 'Drama|Horror'\n",
      " 'Drama|Romance|War|Western'\n",
      " 'Adventure|Animation|Children|Drama|Musical|IMAX'\n",
      " 'Action|Adventure|Comedy|Romance|Thriller' 'Children|Comedy|Fantasy'\n",
      " 'Animation|Children|Drama|Fantasy|Musical' 'Adventure|Children'\n",
      " 'Crime|Drama|Horror|Mystery|Thriller' 'Drama|Sci-Fi' 'Children|Comedy'\n",
      " 'Drama|Horror|Thriller' 'Comedy|Horror|Romance'\n",
      " 'Action|Comedy|Crime|Drama|Thriller' 'Crime|Drama|Mystery'\n",
      " 'Action|Adventure|Mystery|Sci-Fi' 'Action|Adventure|Crime|Thriller'\n",
      " 'Action|Children' 'Drama|Fantasy' 'Adventure|Comedy|Crime|Mystery'\n",
      " 'Action|Comedy|Romance' 'Adventure|Children|Comedy|Fantasy|Romance'\n",
      " 'Action|Thriller|Western' 'Children|Drama|Fantasy|Mystery'\n",
      " 'Action|Drama|Thriller' 'Adventure|Drama|Sci-Fi' 'Action|Crime|Horror'\n",
      " 'Children' 'Drama|Film-Noir|Romance' 'Action|Crime|Fantasy|Thriller'\n",
      " 'Drama|Horror|Mystery|Thriller' 'Action|Romance|Thriller'\n",
      " 'Drama|Horror|Romance|Thriller' 'Action|Fantasy' 'Comedy|Thriller'\n",
      " 'Horror|Sci-Fi|Thriller' 'Adventure|Children|Drama' 'Action|Comedy|War'\n",
      " 'Action|Crime|Drama' 'Action|Children|Romance' 'Comedy|Crime|Horror'\n",
      " 'Action|Adventure|Children|Comedy|Fantasy|Sci-Fi'\n",
      " 'Comedy|Drama|Fantasy|Romance|Thriller'\n",
      " 'Adventure|Animation|Children|Fantasy|Musical|Romance' 'Horror|Mystery'\n",
      " 'Animation|Children|Drama|Musical|Romance' 'Comedy|Horror|Thriller'\n",
      " 'Sci-Fi|Thriller' 'Horror|Thriller' 'Crime|Film-Noir'\n",
      " 'Animation|Children|Comedy|Fantasy|Musical|Romance' 'Action|Romance'\n",
      " 'Comedy|Drama|Sci-Fi' 'Action|Romance|Sci-Fi|Thriller'\n",
      " 'Action|Comedy|Sci-Fi|Western' 'Comedy|Fantasy|Sci-Fi'\n",
      " 'Adventure|Animation|Children|Comedy|Fantasy|Romance'\n",
      " 'Action|Adventure|Drama|Sci-Fi' 'Children|Comedy|Romance'\n",
      " 'Drama|Fantasy|Mystery|Sci-Fi' 'Crime|Thriller'\n",
      " 'Action|Adventure|Sci-Fi|IMAX' 'Action|Crime|Mystery|Sci-Fi|Thriller'\n",
      " 'Adventure|Animation|Fantasy' 'Comedy|Crime|Drama|Musical'\n",
      " 'Action|Adventure|Sci-Fi|Thriller|IMAX' 'Comedy|Musical'\n",
      " 'Action|Adventure|Drama|War' 'Action|Adventure|Drama|Fantasy'\n",
      " 'Adventure|Animation|Children|Comedy|Musical|Romance'\n",
      " 'Adventure|Fantasy|IMAX' 'Comedy|Fantasy|Thriller' 'Action|Crime|Fantasy'\n",
      " 'Drama|Mystery|Sci-Fi|Thriller' 'Animation|Children|Comedy'\n",
      " 'Action|Adventure|Animation|Children|Comedy'\n",
      " 'Adventure|Animation|Children|Fantasy|IMAX'\n",
      " 'Action|Adventure|Drama|Mystery|Thriller'\n",
      " 'Adventure|Animation|Children|Comedy|Fantasy|Sci-Fi|IMAX'\n",
      " 'Action|Crime|Film-Noir|Mystery|Thriller' 'Action|Crime|IMAX'\n",
      " 'Drama|Fantasy|Mystery' 'Musical' 'Comedy|Romance|Sci-Fi'\n",
      " 'Adventure|Romance' 'Action|War' 'Crime|Drama|Romance'\n",
      " 'Action|Fantasy|War|IMAX' 'Drama|Fantasy|Romance|Thriller'\n",
      " 'Adventure|Fantasy|Mystery|Romance|IMAX'\n",
      " 'Drama|Fantasy|Horror|Romance|Thriller'\n",
      " 'Animation|Children|Fantasy|Musical|Romance'\n",
      " 'Action|Crime|Mystery|Thriller' 'Fantasy|Romance|Thriller|IMAX'\n",
      " 'Animation|Children|Comedy|Crime'\n",
      " 'Animation|Children|Comedy|Fantasy|Musical|Romance|IMAX'\n",
      " 'Action|Adventure|Animation|Children|Comedy|IMAX'\n",
      " 'Adventure|Drama|Fantasy|Romance' 'Action|Adventure|Animation|Children'\n",
      " 'Action|Adventure|Thriller|IMAX' 'Adventure|Drama|Fantasy|Romance|IMAX'\n",
      " 'Animation|Children|Comedy|IMAX' 'Action|Drama|Thriller|IMAX'\n",
      " 'Adventure|Animation|Comedy|Fantasy|Musical|Romance'\n",
      " 'Action|Animation|Children' 'Action|Adventure|Crime'\n",
      " 'Action|Thriller|War' 'Adventure|Animation|Comedy|Crime'\n",
      " 'Action|Adventure|Comedy|Western' 'Comedy|Crime|Drama|Romance|Thriller'\n",
      " 'Action|Adventure|Horror|Sci-Fi'\n",
      " 'Animation|Children|Comedy|Musical|Romance' 'Drama|Romance|Sci-Fi'\n",
      " 'Crime|Horror|Mystery|Thriller' 'Animation|Children|Drama|Fantasy'\n",
      " 'Adventure|Drama|Thriller' 'Action|Adventure|Drama|Sci-Fi|Thriller'\n",
      " 'Action|Horror|Sci-Fi|Thriller|IMAX'\n",
      " 'Adventure|Animation|Children|Romance|Sci-Fi'\n",
      " 'Adventure|Animation|Sci-Fi' 'Animation|Children|Fantasy|IMAX'\n",
      " 'Romance|Sci-Fi|Thriller' 'Action|Drama|Mystery|Sci-Fi|Thriller'\n",
      " 'Action|Horror|Sci-Fi|IMAX' 'Action|Crime|Sci-Fi'\n",
      " 'Action|Drama|Horror|IMAX' 'Action|Sci-Fi|IMAX'\n",
      " 'Adventure|Drama|Thriller|IMAX' 'Action|Adventure|Fantasy|Sci-Fi|IMAX'\n",
      " 'Action|Adventure|Fantasy|Sci-Fi'\n",
      " 'Adventure|Animation|Children|Comedy|Drama|Fantasy' 'Animation|Comedy'\n",
      " 'Adventure|Drama|Romance|Sci-Fi' 'Film-Noir|Mystery'\n",
      " 'Action|Adventure|Western' 'Adventure|Animation|Children|Comedy|Sci-Fi'\n",
      " 'Crime|Film-Noir|Thriller' 'Action|Comedy|Fantasy|Horror'\n",
      " 'Crime|Thriller|War' 'Action|Comedy|Fantasy'\n",
      " 'Action|Adventure|Animation|Drama|Fantasy'\n",
      " 'Action|Adventure|Animation|Children|Fantasy|Sci-Fi'\n",
      " 'Adventure|Animation|Drama|Fantasy|Sci-Fi' 'Drama|Sci-Fi|War'\n",
      " 'Drama|Fantasy|Thriller'\n",
      " 'Adventure|Animation|Children|Comedy|Fantasy|IMAX'\n",
      " 'Action|Drama|Thriller|Western' 'Action|Adventure|Crime|Drama|Thriller'\n",
      " 'Adventure|Animation|Fantasy|Romance' 'Film-Noir|Mystery|Thriller'\n",
      " 'Action|Adventure|Children|Drama' 'Fantasy|Horror|Mystery|Romance'\n",
      " 'Comedy|Mystery|Thriller' 'Action|Comedy|Crime'\n",
      " 'Action|Adventure|Animation|Comedy' 'Comedy|Crime|Drama|Romance'\n",
      " 'Adventure|Children|Comedy|Fantasy|IMAX'\n",
      " 'Action|Crime|Drama|Thriller|War'\n",
      " 'Animation|Comedy|Fantasy|Musical|Romance'\n",
      " 'Comedy|Crime|Mystery|Thriller' 'Action|Sci-Fi|Thriller|IMAX'\n",
      " 'Adventure|Comedy|Drama' 'Drama|Horror|Musical|Thriller'\n",
      " 'Action|Drama|Thriller|War' 'Action|Animation|Children|Comedy|IMAX'\n",
      " 'Action|Adventure|Comedy|Crime|Fantasy'\n",
      " 'Action|Drama|Mystery|Sci-Fi|Thriller|IMAX'\n",
      " 'Drama|Fantasy|Mystery|Romance' 'Comedy|Drama|Musical|Sci-Fi'\n",
      " 'Action|Comedy|Drama' 'Animation|Comedy|Drama'\n",
      " 'Action|Drama|Horror|Thriller' 'Action|Crime|Mystery'\n",
      " 'Action|Comedy|Thriller' 'Action|Comedy|Fantasy|Musical|Romance'\n",
      " 'Action|Adventure|Comedy|Crime|Thriller' 'Crime|Drama|Romance|Thriller'\n",
      " 'Action|Comedy|Crime|Fantasy|Thriller|IMAX'\n",
      " 'Action|Adventure|Drama|Fantasy|IMAX' 'Action|Adventure|Fantasy|IMAX'\n",
      " 'Action|Adventure|Sci-Fi|Thriller|War'\n",
      " 'Action|Adventure|Comedy|Crime|Mystery|Thriller' 'Drama|Sci-Fi|IMAX'\n",
      " 'Action|Animation|Sci-Fi' 'Action|Animation' 'Action|Drama|Sci-Fi|IMAX'\n",
      " 'Comedy|Drama|Mystery' 'Documentary|Drama|Musical' 'Crime'\n",
      " 'Adventure|Children|Comedy|Musical' 'Comedy|Mystery|Romance'\n",
      " 'Action|Adventure|Animation|Children|Fantasy'\n",
      " 'Action|Adventure|Animation|Horror|Sci-Fi'\n",
      " 'Drama|Fantasy|Horror|Thriller' 'Comedy|Fantasy|Romance|Sci-Fi'\n",
      " 'Action|Adventure|Drama|Thriller' 'Comedy|Fantasy|Musical'\n",
      " 'Comedy|Crime|Mystery|Romance|Thriller' 'Crime|Mystery|Romance|Thriller'\n",
      " 'Action|Adventure|Comedy|Fantasy|Horror'\n",
      " 'Fantasy|Horror|Romance|Thriller' 'Action|Mystery|Sci-Fi'\n",
      " 'Action|Comedy|Western' 'Action|Adventure|Fantasy|Thriller'\n",
      " 'Children|Fantasy' 'Romance|Thriller'\n",
      " 'Adventure|Animation|Children|Drama|Musical'\n",
      " 'Adventure|Film-Noir|Sci-Fi|Thriller' 'Crime|Drama|Fantasy|Thriller'\n",
      " 'Crime|Drama|Mystery|Romance|Thriller' 'Children|Comedy|Drama'\n",
      " 'Adventure|Children|Comedy|Fantasy' 'Adventure|Comedy|Romance'\n",
      " 'Children|Comedy|Western' 'Children|Sci-Fi'\n",
      " 'Action|Adventure|Children|Comedy' 'Children|Comedy|Fantasy|Horror'\n",
      " 'Children|Comedy|Sci-Fi' 'Adventure|Comedy|Musical'\n",
      " 'Children|Drama|Fantasy|Mystery|Thriller'\n",
      " 'Animation|Children|Comedy|Drama|Fantasy' 'Comedy|Fantasy|Horror'\n",
      " 'Action|Horror|Thriller' 'Horror|Mystery|Sci-Fi|Thriller'\n",
      " 'Horror|Western' 'Comedy|Crime|Mystery' 'Action|Drama|Romance|Sci-Fi'\n",
      " 'Animation|Musical' 'Action|Comedy|Romance|Thriller'\n",
      " 'Comedy|Horror|Musical' 'Comedy|Horror|Romance|Thriller'\n",
      " 'Action|Drama|Romance|Thriller'\n",
      " 'Adventure|Animation|Comedy|Fantasy|Musical'\n",
      " 'Adventure|Comedy|Fantasy|Sci-Fi'\n",
      " 'Action|Fantasy|Horror|Mystery|Thriller'\n",
      " 'Fantasy|Horror|Mystery|Thriller' 'Children|Comedy|Musical'\n",
      " 'Adventure|Crime|Drama' 'Film-Noir|Horror|Mystery|Thriller'\n",
      " 'Action|Adventure|Animation|Children|Sci-Fi'\n",
      " 'Action|Fantasy|Horror|Sci-Fi|Thriller' 'Children|Comedy|Mystery'\n",
      " 'Musical|Romance' 'Musical|Romance|War' 'Animation|Children|Musical|IMAX'\n",
      " 'Action|Children|Comedy|Fantasy|Sci-Fi' 'Children|Musical'\n",
      " 'Action|Adventure|Comedy|Thriller' 'Adventure|Animation|Fantasy|Sci-Fi'\n",
      " 'Adventure|Thriller' 'Crime|Drama|Film-Noir|Mystery|Thriller'\n",
      " 'Adventure|Children|Comedy|Fantasy|Mystery' 'Action|Comedy|Documentary'\n",
      " 'Adventure|Children|Comedy|Mystery' 'Action|Comedy|Crime|Romance'\n",
      " 'Action|Adventure|Animation|Children|Comedy|Fantasy'\n",
      " 'Adventure|Fantasy|Thriller|IMAX'\n",
      " 'Adventure|Comedy|Drama|Fantasy|Romance' 'Action|Comedy|Fantasy|IMAX'\n",
      " 'Adventure|Comedy|Sci-Fi|Thriller' 'Action|Adventure|Animation|Sci-Fi'\n",
      " 'Action|Comedy|IMAX' 'Action|Adventure|Animation|Children|Comedy|Romance'\n",
      " 'Action|Animation|Children|Comedy|Sci-Fi|IMAX'\n",
      " 'Action|Adventure|Sci-Fi|War|IMAX'\n",
      " 'Action|Adventure|Drama|Fantasy|Mystery|IMAX'\n",
      " 'Action|Adventure|Drama|Thriller|IMAX' 'Action|Comedy|Sci-Fi|IMAX'\n",
      " 'Children|Musical|Mystery' 'Action|Adventure|Animation'\n",
      " 'Action|Crime|Thriller|IMAX' 'Action|Adventure|Western|IMAX'\n",
      " 'Adventure|Romance|Sci-Fi|IMAX' 'Action|Crime|Sci-Fi|IMAX'\n",
      " 'Action|Animation|Comedy' 'Crime|Drama|Horror' 'Animation|Fantasy'\n",
      " 'Romance' 'Comedy|Documentary|Drama'\n",
      " 'Action|Crime|Horror|Sci-Fi|Thriller'\n",
      " 'Action|Adventure|Crime|Horror|Thriller' 'Animation|Fantasy|Thriller'\n",
      " 'Adventure|Drama|Fantasy|Mystery|Sci-Fi' 'Animation|Sci-Fi'\n",
      " 'Documentary|Drama' 'Drama|Mystery|Sci-Fi'\n",
      " 'Action|Crime|Romance|Thriller' 'Crime|Film-Noir|Mystery'\n",
      " 'Crime|Drama|Fantasy|Film-Noir|Mystery|Romance'\n",
      " 'Animation|Comedy|Fantasy' 'Drama|Fantasy|Sci-Fi'\n",
      " 'Action|Adventure|Animation|Fantasy' 'Drama|Film-Noir|Thriller' 'Mystery'\n",
      " 'Action|Fantasy|Horror|Thriller' 'Action|Mystery|Sci-Fi|Thriller'\n",
      " 'Adventure|Comedy|Romance|War' 'Action|Horror'\n",
      " 'Adventure|Animation|Children|Musical|Western'\n",
      " 'Animation|Children|Fantasy' 'Comedy|War|Western'\n",
      " 'Action|Horror|Sci-Fi|War' 'Crime|Drama|Western'\n",
      " 'Action|Adventure|Drama|Fantasy|Thriller'\n",
      " 'Action|Fantasy|Sci-Fi|Thriller' 'Crime|Drama|Film-Noir|Mystery'\n",
      " 'Documentary|Drama|War' 'Action|Adventure|Crime|Drama|Thriller|War'\n",
      " 'Action|Comedy|Crime|Mystery' 'Adventure|Drama|Sci-Fi|Thriller'\n",
      " 'Action|Crime|Drama|Western' 'Action|Adventure|Comedy|Drama|Thriller'\n",
      " 'Adventure|Romance|Thriller' 'Adventure|Drama|Fantasy' 'War'\n",
      " 'Animation|Documentary|Drama|War' 'Drama|Sci-Fi|Thriller|IMAX'\n",
      " 'Children|Drama|Fantasy|Romance' 'Documentary|War' 'Drama|War|Western'\n",
      " 'Mystery|Sci-Fi|Thriller|IMAX' 'Comedy|Crime|Drama|Mystery|Thriller'\n",
      " 'Drama|Mystery|Romance' 'Animation|Fantasy|Horror|Sci-Fi'\n",
      " 'Comedy|Crime|Drama|War' 'Action|Fantasy|Horror|Romance'\n",
      " 'Action|Animation|Drama|Sci-Fi|Thriller'\n",
      " 'Action|Animation|Fantasy|Sci-Fi'\n",
      " 'Action|Adventure|Comedy|Fantasy|Mystery' 'Adventure|Drama|Fantasy|IMAX'\n",
      " 'Drama|Fantasy|Horror|Romance' 'Drama|Mystery|War'\n",
      " 'Comedy|Horror|Sci-Fi|Thriller' 'Action|Adventure|Children|IMAX'\n",
      " 'Action|Adventure|Crime|Drama|Romance|Thriller' 'Documentary|Musical'\n",
      " 'Action|Adventure|Thriller|War' 'Action|Adventure|Comedy|Drama|War'\n",
      " 'Adventure|Drama|Romance' 'Action|Adventure|War'\n",
      " 'Mystery|Romance|Sci-Fi|Thriller'\n",
      " 'Adventure|Animation|Children|Sci-Fi|IMAX' 'Comedy|Drama|Film-Noir'\n",
      " 'Action|Comedy|Drama|Horror' 'Adventure|Children|Comedy|Fantasy|Musical'\n",
      " 'Action|Adventure|Animation|Comedy|Crime|Mystery' 'Fantasy|Western'\n",
      " 'Action|Animation|Drama|Fantasy|Sci-Fi' 'Animation|Drama'\n",
      " 'Children|Comedy|Drama|Musical|Romance' 'Animation|Mystery|Sci-Fi'\n",
      " 'Animation|Comedy|Fantasy|Sci-Fi' 'Animation' 'Action|Children|Drama'\n",
      " 'Adventure|Comedy|Thriller' 'Action|Animation|Mystery|IMAX'\n",
      " 'Animation|Drama|Romance' 'Action|Comedy|Fantasy|Sci-Fi' 'Fantasy'\n",
      " 'Action|Animation|Crime|Sci-Fi' 'Drama|Thriller|Western'\n",
      " 'Animation|Drama|Fantasy' 'Action|Adventure|Comedy|Fantasy|Sci-Fi'\n",
      " 'Children|Comedy|Fantasy|Romance' 'Crime|Drama|Romance|War'\n",
      " 'Adventure|Drama|Mystery|Thriller' 'Action|Sci-Fi|War'\n",
      " 'Horror|Mystery|Sci-Fi' 'Comedy|Horror|Sci-Fi' 'Action|Fantasy|Thriller'\n",
      " 'Action|Crime|Drama|Mystery|Sci-Fi|Thriller'\n",
      " 'Adventure|Drama|Romance|War' 'Action|Adventure|Drama|Western'\n",
      " 'Children|Comedy|Romance|Sci-Fi' 'Animation|Comedy|Drama|Fantasy'\n",
      " 'Documentary|IMAX' 'Action|Fantasy|Sci-Fi'\n",
      " 'Action|Animation|Drama|Sci-Fi' 'Action|Adventure|Fantasy|Romance|IMAX'\n",
      " 'Drama|Fantasy|Romance|Sci-Fi' 'Children|Drama|Mystery'\n",
      " 'Drama|Musical|Romance|IMAX' 'Action|Adventure|Fantasy|Horror|Thriller'\n",
      " 'Drama|Horror|Mystery|Sci-Fi|Thriller' 'Action|Adventure|Children'\n",
      " 'Adventure|Mystery|Sci-Fi|Thriller' 'Action|Comedy|Crime|Horror'\n",
      " 'Action|Adventure|Children|Sci-Fi' 'Fantasy|Horror|Thriller'\n",
      " 'Action|Drama|Horror' 'Animation|Drama|Mystery|Sci-Fi|Thriller'\n",
      " 'Adventure|Comedy|Fantasy|Romance' 'Animation|Comedy|Romance'\n",
      " 'Animation|Drama|War' 'Action|Comedy|Crime|Drama|Horror|Thriller'\n",
      " 'Action|Adventure|Children|Crime|Mystery|Thriller'\n",
      " 'Action|Fantasy|Horror' 'Comedy|Fantasy|Horror|Thriller' 'Crime|Mystery'\n",
      " 'Action|Comedy|Romance|War' 'Comedy|Crime|Romance|Thriller'\n",
      " 'Adventure|Documentary' 'Comedy|Crime|Horror|Mystery|Thriller'\n",
      " 'Adventure|Drama|Horror|Thriller' 'Animation|Children|Fantasy|Mystery'\n",
      " 'Adventure|Animation|Children|Comedy|IMAX'\n",
      " 'Comedy|Drama|Horror|Sci-Fi|Thriller'\n",
      " 'Action|Adventure|Animation|Children|Comedy|Sci-Fi'\n",
      " 'Animation|Comedy|Fantasy|Musical' 'Drama|Romance|Western'\n",
      " 'Drama|Romance|Thriller|War'\n",
      " 'Adventure|Animation|Children|Comedy|Fantasy|Musical|Romance'\n",
      " 'Animation|Comedy|Sci-Fi'\n",
      " 'Action|Adventure|Animation|Comedy|Fantasy|Sci-Fi'\n",
      " 'Animation|Sci-Fi|IMAX' 'Crime|Documentary' 'Sci-Fi|Thriller|IMAX'\n",
      " 'Adventure|Animation|Children|Comedy|Crime'\n",
      " 'Animation|Fantasy|Musical|IMAX' 'Drama|Romance|Sci-Fi|Thriller'\n",
      " 'Drama|Mystery|Romance|War' 'Mystery|Sci-Fi' 'Horror|IMAX'\n",
      " 'Crime|Sci-Fi|Thriller' 'Action|Fantasy|Horror|IMAX'\n",
      " 'Drama|Fantasy|Horror|Mystery|Thriller'\n",
      " 'Action|Animation|Children|Fantasy' 'Comedy|Mystery|Sci-Fi'\n",
      " 'Crime|Drama|Mystery|Thriller|War' 'Crime|Drama|War'\n",
      " 'Animation|Children|Comedy|Fantasy' 'Adventure|Comedy|Horror|Romance'\n",
      " 'Comedy|Documentary|Romance' 'Children|Comedy|Drama|Mystery'\n",
      " 'Action|Animation|Comedy|Horror' 'Adventure|Comedy|Mystery'\n",
      " 'Comedy|Crime|Horror|Thriller' 'Comedy|Drama|Horror'\n",
      " 'Action|Adventure|Children|Fantasy'\n",
      " 'Action|Adventure|Animation|Children|Comedy|Western'\n",
      " 'Adventure|Comedy|Musical|Sci-Fi' 'Adventure|Comedy|Horror'\n",
      " 'Animation|Children|Mystery' 'Adventure|Children|Fantasy|Sci-Fi'\n",
      " 'Action|Adventure|Children|Comedy|Sci-Fi'\n",
      " 'Action|Adventure|Animation|Comedy|Sci-Fi'\n",
      " 'Action|Comedy|Sci-Fi|Thriller' 'Comedy|Horror|Mystery'\n",
      " 'Comedy|Crime|Fantasy' 'Adventure|Children|Comedy|Drama|Fantasy|Sci-Fi'\n",
      " 'Action|Adventure|Comedy|Fantasy|Sci-Fi|Thriller' 'Comedy|Sci-Fi|War'\n",
      " 'Action|Adventure|Fantasy|Mystery'\n",
      " 'Adventure|Animation|Children|Drama|Fantasy'\n",
      " 'Action|Adventure|Crime|Sci-Fi|Thriller' 'Action|Crime|Thriller|Western'\n",
      " 'Romance|Sci-Fi' 'Comedy|Musical|Sci-Fi'\n",
      " 'Action|Adventure|Drama|Romance|Thriller'\n",
      " 'Action|Animation|Sci-Fi|Thriller' 'Action|Drama|Horror|Sci-Fi|Thriller'\n",
      " 'Animation|Drama|Sci-Fi|War' 'Animation|Comedy|Drama|Fantasy|Sci-Fi'\n",
      " 'Drama|Horror|Mystery|Romance|Thriller' 'Drama|Fantasy|Musical|Romance'\n",
      " 'Adventure|Children|Fantasy|Western'\n",
      " 'Adventure|Children|Drama|Fantasy|IMAX' 'Comedy|Musical|Romance|Western'\n",
      " 'Crime|Drama|Horror|Thriller' 'Action|Comedy|Drama|Thriller'\n",
      " 'Comedy|Crime|Drama|Mystery|Romance'\n",
      " 'Action|Adventure|Children|Mystery|Sci-Fi'\n",
      " 'Action|Animation|Children|Comedy' 'Adventure|Crime|Thriller'\n",
      " 'Comedy|Crime|Drama|Fantasy' 'Action|Adventure|Comedy|Drama|Romance|War'\n",
      " 'Adventure|Drama|Fantasy|Horror|Sci-Fi' 'Film-Noir|Thriller'\n",
      " 'Animation|Comedy|Drama|Romance|Sci-Fi' 'Comedy|Crime|Drama|Mystery'\n",
      " 'Adventure|Animation|Children|Comedy|Drama|Romance' 'Animation|Romance'\n",
      " 'Comedy|Drama|Fantasy|Mystery|Romance' 'Animation|Drama|Fantasy|Romance'\n",
      " 'Animation|Crime|Drama' 'Adventure|Comedy|Mystery|Romance'\n",
      " 'Comedy|Horror|IMAX' 'Animation|Comedy|Horror|IMAX'\n",
      " 'Action|Comedy|Horror|Sci-Fi' 'Action|Fantasy|Sci-Fi|IMAX'\n",
      " 'Action|Drama|Fantasy' 'Action|Adventure|Drama|Romance|War'\n",
      " 'Adventure|Comedy|Drama|Fantasy|Mystery|Sci-Fi|Thriller'\n",
      " 'Adventure|Comedy|Fantasy|Romance|IMAX' 'Comedy|Crime|Sci-Fi'\n",
      " 'Action|Adventure|Animation|Fantasy|Sci-Fi'\n",
      " 'Fantasy|Horror|Sci-Fi|Thriller'\n",
      " 'Adventure|Animation|Comedy|Fantasy|Romance' 'Crime|Romance|Thriller'\n",
      " 'Fantasy|Horror|Mystery' 'Drama|Film-Noir|Mystery|Romance'\n",
      " 'Crime|Fantasy|Horror' 'Children|Comedy|Musical|Romance'\n",
      " 'Romance|Western' 'Action|Drama|War|Western'\n",
      " 'Action|Animation|Comedy|Crime|Drama|Romance|Thriller' 'Adventure'\n",
      " 'Adventure|War' 'Adventure|Thriller|Western'\n",
      " 'Action|Adventure|Drama|Romance' 'Action|Crime|Drama|Thriller|IMAX'\n",
      " 'Crime|Drama|Musical|Thriller' 'Action|Drama|Mystery|Romance|Thriller'\n",
      " 'Adventure|Fantasy|Romance|Sci-Fi|Thriller'\n",
      " 'Action|Crime|Sci-Fi|Thriller' 'Comedy|Drama|Fantasy|Sci-Fi'\n",
      " 'Children|Fantasy|Musical' 'Children|Drama|Musical'\n",
      " 'Musical|Romance|Western' 'Fantasy|Musical|Romance'\n",
      " 'Adventure|Drama|Romance|Thriller|War'\n",
      " 'Action|Adventure|Children|Comedy|Mystery'\n",
      " 'Action|Adventure|Comedy|Drama|Romance' 'Crime|Western'\n",
      " 'Drama|Fantasy|Mystery|Thriller' 'Action|Animation|Comedy|Romance|Sci-Fi'\n",
      " 'Adventure|Drama|War|Western' 'Action|Animation|Comedy|Sci-Fi'\n",
      " 'Crime|Drama|Fantasy|Horror|Thriller'\n",
      " 'Adventure|Animation|Comedy|Fantasy|IMAX' 'Drama|Fantasy|Musical'\n",
      " 'Comedy|Drama|Romance|Thriller' 'Action|Adventure|Animation|Drama'\n",
      " 'Action|Animation|Drama' 'Animation|Fantasy|Horror|Mystery'\n",
      " 'Action|Adventure|Animation|Drama|Fantasy|Sci-Fi'\n",
      " 'Action|Animation|Mystery' 'Animation|Drama|Sci-Fi'\n",
      " 'Animation|Fantasy|Mystery' 'Action|Animation|Comedy|Fantasy'\n",
      " 'Action|Sci-Fi|Thriller|Western' 'Action|Adventure|Fantasy|Romance'\n",
      " 'Animation|Horror|Mystery|Thriller' 'Adventure|Animation|Drama'\n",
      " 'Drama|Film-Noir' 'Drama|Horror|War'\n",
      " 'Action|Adventure|Comedy|Crime|Drama|Film-Noir|Horror|Mystery|Thriller|Western'\n",
      " 'Adventure|Animation|Comedy|Sci-Fi'\n",
      " 'Action|Adventure|Comedy|Drama|Fantasy|Thriller'\n",
      " 'Adventure|Drama|Fantasy|Sci-Fi' 'Adventure|Children|Drama|Sci-Fi'\n",
      " 'Action|Drama|Mystery' 'Fantasy|Romance' 'Fantasy|Horror|Sci-Fi|Western'\n",
      " 'Adventure|Animation|Children|Fantasy|Sci-Fi' 'Action|Children|Comedy'\n",
      " 'Action|Adventure|Crime|Drama' 'Action|Drama|Romance|Western'\n",
      " 'Action|Crime|Film-Noir' 'Comedy|Drama|Musical|IMAX' 'Horror|Romance'\n",
      " 'Comedy|Fantasy|Horror|Musical|Thriller'\n",
      " 'Action|Adventure|Children|Comedy|Crime'\n",
      " 'Action|Crime|Horror|Mystery|Thriller'\n",
      " 'Adventure|Drama|Horror|Sci-Fi|Thriller'\n",
      " 'Children|Comedy|Crime|Drama|Fantasy' 'Comedy|Crime|Musical'\n",
      " 'Children|Documentary' 'Action|Adventure|Horror|Mystery|Sci-Fi|Thriller'\n",
      " 'Action|Drama|Fantasy|Horror|Mystery|Sci-Fi|Thriller'\n",
      " 'Crime|Drama|Fantasy|Mystery|Thriller'\n",
      " 'Action|Adventure|Animation|Fantasy|IMAX' 'Documentary|Drama|Thriller'\n",
      " 'Action|Adventure|Comedy|Drama|Romance|Thriller'\n",
      " 'Adventure|Animation|Fantasy|IMAX' 'Action|Sci-Fi|Thriller|Western|IMAX'\n",
      " 'Action|Horror|Mystery|Thriller' 'Documentary|Mystery'\n",
      " 'Action|Fantasy|Thriller|IMAX' 'Action|Animation|Fantasy|IMAX'\n",
      " 'Action|Drama|War|IMAX' 'Comedy|Romance|Western'\n",
      " 'Adventure|Children|Comedy|Drama'\n",
      " 'Drama|Fantasy|Mystery|Romance|Thriller'\n",
      " 'Action|Animation|Crime|Sci-Fi|Thriller'\n",
      " 'Comedy|Crime|Drama|Horror|Mystery' 'Action|Crime|Drama|Horror'\n",
      " 'Action|Comedy|Fantasy|Horror|Thriller' 'Action|Animation|Crime'\n",
      " 'Action|Adventure|Comedy|Horror' 'Adventure|Horror|Sci-Fi'\n",
      " 'Comedy|Musical|Western' 'Comedy|Fantasy|Mystery'\n",
      " 'Fantasy|Mystery|Thriller' 'Comedy|Documentary|Musical' 'Film-Noir'\n",
      " 'Drama|Fantasy|Horror|Mystery|Sci-Fi|Thriller'\n",
      " 'Drama|Fantasy|Sci-Fi|Thriller'\n",
      " 'Adventure|Children|Comedy|Romance|Sci-Fi'\n",
      " 'Animation|Children|Drama|Fantasy|IMAX' 'Children|Drama|War'\n",
      " 'Adventure|Mystery|Thriller' 'Adventure|Animation|Romance'\n",
      " 'Documentary|Horror' 'Children|Comedy|Fantasy|Sci-Fi'\n",
      " 'Adventure|Children|Drama|Fantasy' 'Comedy|Drama|Sci-Fi|Thriller'\n",
      " 'Drama|Mystery|Romance|Sci-Fi|Thriller'\n",
      " 'Adventure|Drama|Horror|Mystery|Thriller'\n",
      " 'Action|Crime|Drama|Horror|Thriller' 'Crime|Documentary|War'\n",
      " 'Action|Comedy|Crime|Fantasy|Thriller'\n",
      " 'Animation|Fantasy|Sci-Fi|Thriller' 'Crime|Sci-Fi'\n",
      " 'Action|Adventure|Animation|Horror'\n",
      " 'Action|Animation|Comedy|Horror|Thriller' 'Documentary|Drama|Mystery'\n",
      " 'Crime|Drama|Fantasy' 'Animation|Comedy|Drama|Romance'\n",
      " 'Horror|Romance|Thriller' 'Animation|Documentary'\n",
      " 'Action|Fantasy|Mystery' 'Animation|Horror|Mystery'\n",
      " 'Action|Crime|Mystery|Romance|Thriller'\n",
      " 'Action|Adventure|Comedy|Documentary|Fantasy'\n",
      " 'Adventure|Animation|Comedy|Fantasy|Romance|Sci-Fi'\n",
      " 'Horror|Thriller|IMAX' 'Adventure|Comedy|Fantasy|Musical'\n",
      " 'Children|Drama|Romance' 'Comedy|Documentary|Drama|Romance'\n",
      " 'Action|Adventure|Animation|Crime|Fantasy'\n",
      " 'Animation|Drama|Fantasy|Mystery' 'Comedy|Crime|Mystery|Romance'\n",
      " 'Action|Comedy|Drama|War' 'Fantasy|Mystery|Western'\n",
      " 'Action|Adventure|Drama|Fantasy|Romance|Sci-Fi|Thriller'\n",
      " 'Adventure|Animation|Children|Musical|Romance'\n",
      " 'Action|Comedy|Horror|Sci-Fi|Thriller|Western'\n",
      " 'Action|Fantasy|Horror|Mystery|Sci-Fi|Thriller'\n",
      " 'Action|Animation|Children|Sci-Fi' 'Adventure|Fantasy|Thriller'\n",
      " 'Adventure|Animation|Comedy|Fantasy'\n",
      " 'Action|Adventure|Animation|Comedy|Thriller' 'Action|Animation|Fantasy'\n",
      " 'Action|Animation|Crime|Thriller' 'Action|Animation|Crime|Drama'\n",
      " 'Action|Fantasy|Sci-Fi|Thriller|War' 'Children|Comedy|Drama|Fantasy'\n",
      " 'Action|Adventure|Horror' 'Adventure|War|Western'\n",
      " 'Adventure|Drama|Mystery' 'Comedy|Drama|Mystery|Thriller'\n",
      " 'Adventure|Comedy|Documentary' 'Comedy|Crime|Drama|Western'\n",
      " 'Action|Adventure|Animation|Comedy|Fantasy|Mystery|Sci-Fi'\n",
      " 'Children|Fantasy|Musical|Romance' 'Comedy|Crime|Drama|Horror'\n",
      " 'Adventure|Children|Fantasy|Sci-Fi|Thriller'\n",
      " 'Comedy|Drama|Mystery|Romance' 'Action|Adventure|Comedy|Drama'\n",
      " 'Comedy|Sci-Fi|Thriller' 'Crime|Drama|Thriller|War'\n",
      " 'Documentary|Musical|IMAX' 'Action|Children|Sci-Fi|IMAX'\n",
      " 'Action|Comedy|Fantasy|Thriller' 'Comedy|Drama|Sci-Fi|War'\n",
      " 'Adventure|Crime|Drama|Romance' 'Children|Comedy|Crime|Musical'\n",
      " 'Crime|Horror|Sci-Fi' 'Adventure|Fantasy|Sci-Fi' 'Crime|Romance'\n",
      " 'Action|Fantasy|Western' 'Action|Crime|Horror|Thriller'\n",
      " 'Children|Horror|Sci-Fi' 'Action|IMAX' 'Horror|Sci-Fi|Western'\n",
      " 'Action|Adventure|Romance|Sci-Fi' 'Action|Crime|Fantasy|Sci-Fi|Thriller'\n",
      " 'Comedy|Drama|Fantasy|Mystery' 'Adventure|Documentary|Western'\n",
      " 'Drama|Film-Noir|Mystery|Thriller' 'Adventure|Comedy|Crime|Drama|Romance'\n",
      " 'Romance|War' 'Drama|Musical|Mystery' 'Adventure|Crime|Drama|Thriller'\n",
      " 'Children|Horror|Mystery|Thriller' 'Adventure|Comedy|Crime|Thriller'\n",
      " 'Action|Adventure|Comedy|Crime|Drama'\n",
      " 'Crime|Drama|Film-Noir|Romance|Thriller' 'Drama|Film-Noir|Mystery'\n",
      " 'Comedy|Crime|Drama|Musical|Mystery|Romance' 'Adventure|Comedy|War'\n",
      " 'Crime|Drama|Film-Noir|Romance'\n",
      " 'Action|Adventure|Drama|Romance|Thriller|Western'\n",
      " 'Animation|Drama|Sci-Fi|IMAX' 'Comedy|Fantasy|Mystery|Sci-Fi'\n",
      " 'Animation|Drama|Romance|Sci-Fi' 'Action|Animation|Mystery|Sci-Fi'\n",
      " 'Adventure|Animation|Children|Western' 'Animation|Comedy|War'\n",
      " 'Crime|Drama|Musical' 'Adventure|Animation|Children|Comedy|Fantasy|War'\n",
      " 'Adventure|Animation' 'Comedy|Crime|Musical|Mystery'\n",
      " 'Action|Animation|Children|Comedy|Musical' 'Animation|Fantasy|Sci-Fi|War'\n",
      " 'Adventure|Children|Comedy|Sci-Fi' 'Animation|Children|Comedy|Drama'\n",
      " 'Adventure|Documentary|IMAX'\n",
      " 'Action|Adventure|Animation|Children|Comedy|Sci-Fi|IMAX'\n",
      " 'Fantasy|Mystery|Romance|Thriller' 'Adventure|Comedy|Drama|Romance'\n",
      " 'Action|Drama|Mystery|Thriller' 'Adventure|Animation|Drama|Horror'\n",
      " 'Action|Adventure|Comedy|Sci-Fi|IMAX' 'Action|Drama|IMAX'\n",
      " 'Crime|Horror|Mystery' 'Adventure|Fantasy|Musical|Romance'\n",
      " 'Adventure|Romance|Sci-Fi' 'Comedy|Romance|Sci-Fi|Thriller'\n",
      " 'Action|Animation|Crime|Drama|Film-Noir|Mystery|Sci-Fi|Thriller'\n",
      " 'Action|Documentary|Drama|Thriller'\n",
      " 'Action|Adventure|Comedy|Sci-Fi|Thriller' 'Comedy|Drama|Romance|Sci-Fi'\n",
      " 'Action|Animation|Horror' 'Comedy|Crime|Drama|Sci-Fi|Thriller'\n",
      " 'Action|Comedy|Horror|Musical'\n",
      " 'Action|Adventure|Comedy|Crime|Romance|Thriller'\n",
      " 'Adventure|Comedy|Crime|Drama|Mystery|Thriller'\n",
      " 'Animation|Fantasy|Horror' 'Adventure|Comedy|Fantasy|Horror'\n",
      " 'Action|Comedy|Crime|Western' 'Comedy|Fantasy|Horror|Sci-Fi'\n",
      " 'Action|Animation|Film-Noir|Sci-Fi|Thriller'\n",
      " 'Action|Comedy|Drama|Horror|Thriller'\n",
      " 'Animation|Children|Comedy|Fantasy|Musical'\n",
      " 'Animation|Children|Comedy|Horror'\n",
      " 'Action|Adventure|Animation|Sci-Fi|Thriller'\n",
      " 'Animation|Comedy|Horror|Musical' 'Documentary|Fantasy'\n",
      " 'Animation|Children|Comedy|Musical|Sci-Fi' 'Crime|Drama|Horror|Mystery'\n",
      " 'Animation|Children|Comedy|Drama|Romance'\n",
      " 'Adventure|Animation|Fantasy|Horror|Sci-Fi'\n",
      " 'Comedy|Mystery|Romance|Thriller' 'Comedy|Drama|Romance|Western'\n",
      " 'Crime|Musical' 'Action|Adventure|Drama|Fantasy|Romance'\n",
      " 'Adventure|Comedy|Drama|Fantasy' 'Action|Adventure|Fantasy|War'\n",
      " 'Musical|Western' 'Action|Drama|Fantasy|Sci-Fi'\n",
      " 'Action|Adventure|Horror|Sci-Fi|Thriller' 'Action|Comedy|Drama|Romance'\n",
      " 'Horror|Thriller|Western' 'Comedy|Musical|Sci-Fi|Western'\n",
      " 'Crime|Thriller|Western' 'Drama|Fantasy|Musical|Mystery|Sci-Fi'\n",
      " 'Children|Crime|Drama' 'Drama|Fantasy|Thriller|War'\n",
      " 'Drama|Horror|Romance' 'Horror|Romance|Sci-Fi'\n",
      " 'Action|Crime|Drama|Sci-Fi']\n",
      "Updated DataFrame Shape: (100781, 9)\n"
     ]
    }
   ],
   "source": [
    "# Remove movies with '(no genres listed)' label\n",
    "merged_df = merged_df[merged_df['genres'] != '(no genres listed)']\n",
    "\n",
    "# Verify the removal by checking the unique genres again\n",
    "unique_genres_after_removal = merged_df['genres'].unique()\n",
    "print(\"Unique Genres After Removal:\", unique_genres_after_removal)\n",
    "\n",
    "# Display the updated DataFrame shape\n",
    "print(\"Updated DataFrame Shape:\", merged_df.shape)\n"
   ]
  },
  {
   "cell_type": "markdown",
   "id": "b54e6621-209c-472e-ba00-b383890a55f1",
   "metadata": {},
   "source": [
    "### Genre Analysis with Dummy Variables\n",
    "\n",
    "To allow our modeling to work, categorical genre information was changed into numerical dummy variables. This allows us to quantify the presence of each genre for every movie in our dataset.\n",
    "\n",
    "In order to analyze the importance of each genre, the average ratings were found for each genre. The least popular genres were horror and comedy, the most popular genres were Film-Noir, and war.\n",
    "\n",
    "### Visualization of Ratings by Genre\n",
    "\n",
    "The chart shows that all types of movies have high ratings, indicating any type of movie is likely to be enjoyed by the user. However, Film Noir and War are more likely to be enjoyed then any other genre. "
   ]
  },
  {
   "cell_type": "code",
   "execution_count": 42,
   "id": "76dd2d28-cb3c-4dfc-9beb-4d32f0087e67",
   "metadata": {},
   "outputs": [
    {
     "name": "stdout",
     "output_type": "stream",
     "text": [
      "Index(['userId', 'movieId', 'rating', 'timestamp', 'title', 'year', 'tag',\n",
      "       'decade', 'Action', 'Adventure', 'Animation', 'Children', 'Comedy',\n",
      "       'Crime', 'Documentary', 'Drama', 'Fantasy', 'Film-Noir', 'Horror',\n",
      "       'IMAX', 'Musical', 'Mystery', 'Romance', 'Sci-Fi', 'Thriller', 'War',\n",
      "       'Western'],\n",
      "      dtype='object')\n"
     ]
    }
   ],
   "source": [
    "#DataFrame with binary columns for each genre\n",
    "genres_dummies = merged_df['genres'].str.get_dummies(sep='|')\n",
    "# Concatenate the dummy DataFrame with the original one\n",
    "merged_df = pd.concat([merged_df, genres_dummies], axis=1)\n",
    "# Drop the original 'genres' column\n",
    "merged_df.drop('genres', axis=1, inplace=True)\n",
    "print(merged_df.columns)\n"
   ]
  },
  {
   "cell_type": "code",
   "execution_count": 43,
   "id": "ae0c6749-ac9f-473c-9b7d-523c70855cbd",
   "metadata": {},
   "outputs": [
    {
     "name": "stdout",
     "output_type": "stream",
     "text": [
      "Total number of movies: 274416\n",
      "Average rating for Horror: 3.26 (7291 movies)\n",
      "Average rating for Comedy: 3.38 (39053 movies)\n",
      "Average rating for Children: 3.41 (9208 movies)\n",
      "Average rating for Action: 3.45 (30631 movies)\n",
      "Average rating for Sci-Fi: 3.46 (17237 movies)\n",
      "Average rating for Fantasy: 3.49 (11834 movies)\n",
      "Average rating for Thriller: 3.49 (26447 movies)\n",
      "Average rating for Romance: 3.51 (18124 movies)\n",
      "Average rating for Adventure: 3.51 (24161 movies)\n",
      "Average rating for Musical: 3.56 (4138 movies)\n",
      "Average rating for Western: 3.58 (1930 movies)\n",
      "Average rating for IMAX: 3.62 (4145 movies)\n",
      "Average rating for Animation: 3.63 (6988 movies)\n",
      "Average rating for Mystery: 3.63 (7674 movies)\n",
      "Average rating for Drama: 3.66 (41926 movies)\n",
      "Average rating for Crime: 3.66 (16681 movies)\n",
      "Average rating for Documentary: 3.80 (1219 movies)\n",
      "Average rating for War: 3.81 (4859 movies)\n",
      "Average rating for Film-Noir: 3.92 (870 movies)\n"
     ]
    }
   ],
   "source": [
    "# List of genre names based on your input\n",
    "genre_columns = ['Action', 'Adventure', 'Animation', 'Children', 'Comedy', 'Crime', \n",
    "                 'Documentary', 'Drama', 'Fantasy', 'Film-Noir', 'Horror', 'IMAX', \n",
    "                 'Musical', 'Mystery', 'Romance', 'Sci-Fi', 'Thriller', 'War', 'Western']\n",
    "\n",
    "# Dictionary to store average ratings and counts by genre\n",
    "genre_data = {}\n",
    "total_movies = 0  # Initialize total movies count\n",
    "\n",
    "for genre in genre_columns:\n",
    "    # Calculate the mean rating for each genre and count the number of movies\n",
    "    genre_count = merged_df[genre].sum()\n",
    "    if genre_count > 0:  # Check to ensure there are movies in the genre\n",
    "        average_rating = (merged_df[genre] * merged_df['rating']).sum() / genre_count\n",
    "        genre_data[genre] = {'average_rating': average_rating, 'count_movies': genre_count}\n",
    "        total_movies += genre_count  # Sum up all genre counts to get the total number of movies\n",
    "    else:\n",
    "        genre_data[genre] = {'average_rating': None, 'count_movies': 0}  # For genres with no movies\n",
    "\n",
    "# Sort the genre data by average rating in ascending order and filter out None values\n",
    "sorted_genre_data = {genre: data for genre, data in sorted(genre_data.items(), key=lambda item: item[1]['average_rating'] if item[1]['average_rating'] is not None else float('inf'))}\n",
    "\n",
    "# Display the sorted average rating and count by genre, and the total number of movies\n",
    "print(f\"Total number of movies: {total_movies}\")\n",
    "for genre, data in sorted_genre_data.items():\n",
    "    if data['average_rating'] is not None:\n",
    "        print(f\"Average rating for {genre}: {data['average_rating']:.2f} ({data['count_movies']} movies)\")\n",
    "    else:\n",
    "        print(f\"Average rating for {genre}: No data available ({data['count_movies']} movies)\")\n"
   ]
  },
  {
   "cell_type": "code",
   "execution_count": 44,
   "id": "545a4e04-5681-4f88-90c2-052cff250685",
   "metadata": {},
   "outputs": [
    {
     "data": {
      "image/png": "[encoded data removed]",
      "text/plain": [
       "<Figure size 1000x800 with 1 Axes>"
      ]
     },
     "metadata": {},
     "output_type": "display_data"
    }
   ],
   "source": [
    "import matplotlib.pyplot as plt\n",
    "\n",
    "# Prepare data for plotting\n",
    "genres = list(sorted_genre_data.keys())\n",
    "average_ratings = [data['average_rating'] for data in sorted_genre_data.values()]\n",
    "\n",
    "# Create a bar chart\n",
    "plt.figure(figsize=(10, 8))  # Set the figure size for better readability\n",
    "plt.barh(genres, average_ratings, color='skyblue')  # Horizontal bar chart\n",
    "plt.xlabel('Average Rating')  # X-axis label\n",
    "plt.ylabel('Genre')  # Y-axis label\n",
    "plt.title('Average Movie Ratings by Genre')  # Chart title\n",
    "plt.grid(True)  # Add gridlines for better readability\n",
    "\n",
    "# Display the plot\n",
    "plt.show()\n"
   ]
  },
  {
   "cell_type": "code",
   "execution_count": 45,
   "id": "d5142b9f-dd45-4f74-8839-17319b3cc593",
   "metadata": {},
   "outputs": [
    {
     "name": "stdout",
     "output_type": "stream",
     "text": [
      "Statistics for Action:\n",
      "count    30631.000000\n",
      "mean         3.447978\n",
      "std          1.050976\n",
      "min          0.500000\n",
      "25%          3.000000\n",
      "50%          3.500000\n",
      "75%          4.000000\n",
      "max          5.000000\n",
      "Name: rating, dtype: float64\n",
      "Statistics for Adventure:\n",
      "count    24161.000000\n",
      "mean         3.508609\n",
      "std          1.029073\n",
      "min          0.500000\n",
      "25%          3.000000\n",
      "50%          3.500000\n",
      "75%          4.000000\n",
      "max          5.000000\n",
      "Name: rating, dtype: float64\n",
      "Statistics for Animation:\n",
      "count    6988.000000\n",
      "mean        3.629937\n",
      "std         0.969664\n",
      "min         0.500000\n",
      "25%         3.000000\n",
      "50%         4.000000\n",
      "75%         4.000000\n",
      "max         5.000000\n",
      "Name: rating, dtype: float64\n",
      "Statistics for Children:\n",
      "count    9208.000000\n",
      "mean        3.412956\n",
      "std         1.055996\n",
      "min         0.500000\n",
      "25%         3.000000\n",
      "50%         3.500000\n",
      "75%         4.000000\n",
      "max         5.000000\n",
      "Name: rating, dtype: float64\n",
      "Statistics for Comedy:\n",
      "count    39053.000000\n",
      "mean         3.384721\n",
      "std          1.066541\n",
      "min          0.500000\n",
      "25%          3.000000\n",
      "50%          3.500000\n",
      "75%          4.000000\n",
      "max          5.000000\n",
      "Name: rating, dtype: float64\n",
      "Statistics for Crime:\n",
      "count    16681.000000\n",
      "mean         3.658294\n",
      "std          0.994673\n",
      "min          0.500000\n",
      "25%          3.000000\n",
      "50%          4.000000\n",
      "75%          4.500000\n",
      "max          5.000000\n",
      "Name: rating, dtype: float64\n",
      "Statistics for Documentary:\n",
      "count    1219.000000\n",
      "mean        3.797785\n",
      "std         0.820461\n",
      "min         0.500000\n",
      "25%         3.500000\n",
      "50%         4.000000\n",
      "75%         4.500000\n",
      "max         5.000000\n",
      "Name: rating, dtype: float64\n",
      "Statistics for Drama:\n",
      "count    41926.000000\n",
      "mean         3.656168\n",
      "std          0.979129\n",
      "min          0.500000\n",
      "25%          3.000000\n",
      "50%          4.000000\n",
      "75%          4.500000\n",
      "max          5.000000\n",
      "Name: rating, dtype: float64\n",
      "Statistics for Fantasy:\n",
      "count    11834.000000\n",
      "mean         3.491001\n",
      "std          1.038688\n",
      "min          0.500000\n",
      "25%          3.000000\n",
      "50%          3.500000\n",
      "75%          4.000000\n",
      "max          5.000000\n",
      "Name: rating, dtype: float64\n",
      "Statistics for Film-Noir:\n",
      "count    870.000000\n",
      "mean       3.920115\n",
      "std        0.886997\n",
      "min        0.500000\n",
      "25%        3.500000\n",
      "50%        4.000000\n",
      "75%        4.500000\n",
      "max        5.000000\n",
      "Name: rating, dtype: float64\n",
      "Statistics for Horror:\n",
      "count    7291.000000\n",
      "mean        3.258195\n",
      "std         1.142591\n",
      "min         0.500000\n",
      "25%         2.500000\n",
      "50%         3.500000\n",
      "75%         4.000000\n",
      "max         5.000000\n",
      "Name: rating, dtype: float64\n",
      "Statistics for IMAX:\n",
      "count    4145.000000\n",
      "mean        3.618335\n",
      "std         0.988130\n",
      "min         0.500000\n",
      "25%         3.000000\n",
      "50%         4.000000\n",
      "75%         4.000000\n",
      "max         5.000000\n",
      "Name: rating, dtype: float64\n",
      "Statistics for Musical:\n",
      "count    4138.000000\n",
      "mean        3.563678\n",
      "std         0.989242\n",
      "min         0.500000\n",
      "25%         3.000000\n",
      "50%         3.500000\n",
      "75%         4.000000\n",
      "max         5.000000\n",
      "Name: rating, dtype: float64\n",
      "Statistics for Mystery:\n",
      "count    7674.000000\n",
      "mean        3.632460\n",
      "std         1.006275\n",
      "min         0.500000\n",
      "25%         3.000000\n",
      "50%         4.000000\n",
      "75%         4.500000\n",
      "max         5.000000\n",
      "Name: rating, dtype: float64\n",
      "Statistics for Romance:\n",
      "count    18124.000000\n",
      "mean         3.506511\n",
      "std          1.023431\n",
      "min          0.500000\n",
      "25%          3.000000\n",
      "50%          3.500000\n",
      "75%          4.000000\n",
      "max          5.000000\n",
      "Name: rating, dtype: float64\n",
      "Statistics for Sci-Fi:\n",
      "count    17237.000000\n",
      "mean         3.455851\n",
      "std          1.071230\n",
      "min          0.500000\n",
      "25%          3.000000\n",
      "50%          3.500000\n",
      "75%          4.000000\n",
      "max          5.000000\n",
      "Name: rating, dtype: float64\n",
      "Statistics for Thriller:\n",
      "count    26447.000000\n",
      "mean         3.493723\n",
      "std          1.025463\n",
      "min          0.500000\n",
      "25%          3.000000\n",
      "50%          3.500000\n",
      "75%          4.000000\n",
      "max          5.000000\n",
      "Name: rating, dtype: float64\n",
      "Statistics for War:\n",
      "count    4859.000000\n",
      "mean        3.808294\n",
      "std         0.978534\n",
      "min         0.500000\n",
      "25%         3.000000\n",
      "50%         4.000000\n",
      "75%         4.500000\n",
      "max         5.000000\n",
      "Name: rating, dtype: float64\n",
      "Statistics for Western:\n",
      "count    1930.000000\n",
      "mean        3.583938\n",
      "std         1.012084\n",
      "min         0.500000\n",
      "25%         3.000000\n",
      "50%         4.000000\n",
      "75%         4.000000\n",
      "max         5.000000\n",
      "Name: rating, dtype: float64\n"
     ]
    }
   ],
   "source": [
    "\n",
    "stats_by_genre = {}\n",
    "\n",
    "for genre in genre_columns:\n",
    "    # Check to ensure there are movies in the genre\n",
    "    if merged_df[genre].sum() > 0:\n",
    "        # Filter ratings for the genre\n",
    "        genre_ratings = merged_df[merged_df[genre] == 1]['rating']\n",
    "        # Calculate descriptive statistics\n",
    "        stats = genre_ratings.describe()\n",
    "        stats_by_genre[genre] = stats\n",
    "    else:\n",
    "        stats_by_genre[genre] = \"No data available\"\n",
    "\n",
    "# Display the statistics for each genre\n",
    "for genre, stats in stats_by_genre.items():\n",
    "    print(f\"Statistics for {genre}:\")\n",
    "    if isinstance(stats, pd.Series):\n",
    "        print(stats)\n",
    "    else:\n",
    "        print(stats)\n"
   ]
  },
  {
   "cell_type": "code",
   "execution_count": 46,
   "id": "e62cb0c6-99a1-4485-8317-fae78f6b7ff6",
   "metadata": {},
   "outputs": [
    {
     "name": "stdout",
     "output_type": "stream",
     "text": [
      "Mean rating for the full dataset: 3.501577678332225\n"
     ]
    }
   ],
   "source": [
    "\n",
    "\n",
    "# Calculate mean rating for the full dataset\n",
    "mean_rating = merged_df['rating'].mean()\n",
    "\n",
    "print(f\"Mean rating for the full dataset: {mean_rating}\")\n"
   ]
  },
  {
   "cell_type": "code",
   "execution_count": 47,
   "id": "c1898c77-0822-4f44-953f-f566cfe1251d",
   "metadata": {},
   "outputs": [
    {
     "name": "stdout",
     "output_type": "stream",
     "text": [
      "Top 5 Highest-Rated Horror Films:\n",
      "get out 2017 - Rating: 5.0\n",
      "shaun of the dead 2004 - Rating: 5.0\n",
      "jaws 1975 - Rating: 5.0\n",
      "aliens 1986 - Rating: 5.0\n",
      "what lies beneath 2000 - Rating: 5.0\n",
      "\n",
      "Top 5 Highest-Rated Film-Noir Films:\n",
      "la confidential 1997 - Rating: 5.0\n",
      "mulholland drive 2001 - Rating: 5.0\n",
      "maltese falcon the 1941 - Rating: 5.0\n",
      "third man the 1949 - Rating: 5.0\n",
      "suspicion 1941 - Rating: 5.0\n"
     ]
    }
   ],
   "source": [
    "# Check and output top-rated films for Horror genre\n",
    "if 'Horror' in merged_df.columns and merged_df['Horror'].sum() > 0:\n",
    "    # Filter the DataFrame for Horror movies\n",
    "    horror_movies = merged_df[merged_df['Horror'] == 1]\n",
    "    \n",
    "    # Sort these movies by their ratings in descending order\n",
    "    top_horror = horror_movies.sort_values(by='rating', ascending=False)\n",
    "    \n",
    "    # Remove duplicate movie titles\n",
    "    top_horror = top_horror.drop_duplicates(subset='title')\n",
    "    \n",
    "    # Select the top 5 highest-rated Horror movies\n",
    "    top_horror = top_horror.head(5)\n",
    "\n",
    "    # Print the titles of these top 5 highest-rated Horror movies\n",
    "    print(\"Top 5 Highest-Rated Horror Films:\")\n",
    "    for index, row in top_horror.iterrows():\n",
    "        print(f\"{row['title']} - Rating: {row['rating']}\")\n",
    "else:\n",
    "    print(\"No Horror data available or no Horror films rated.\")\n",
    "    \n",
    "# Check and output top-rated films for Film-Noir genre\n",
    "if 'Film-Noir' in merged_df.columns and merged_df['Film-Noir'].sum() > 0:\n",
    "    # Filter the DataFrame for Film-Noir movies\n",
    "    film_noir_movies = merged_df[merged_df['Film-Noir'] == 1]\n",
    "    \n",
    "    # Sort these movies by their ratings in descending order\n",
    "    top_film_noir = film_noir_movies.sort_values(by='rating', ascending=False)\n",
    "    \n",
    "    # Remove duplicate movie titles\n",
    "    top_film_noir = top_film_noir.drop_duplicates(subset='title')\n",
    "    \n",
    "    # Select the top 5 highest-rated Film-Noir movies\n",
    "    top_film_noir = top_film_noir.head(5)\n",
    "\n",
    "    # Print the titles of these top 5 highest-rated Film-Noir movies\n",
    "    print(\"\\nTop 5 Highest-Rated Film-Noir Films:\")\n",
    "    for index, row in top_film_noir.iterrows():\n",
    "        print(f\"{row['title']} - Rating: {row['rating']}\")\n",
    "else:\n",
    "    print(\"No Film-Noir data available or no Film-Noir films rated.\")\n"
   ]
  },
  {
   "cell_type": "markdown",
   "id": "e44825a5-7e8a-454d-ab59-762e89843cde",
   "metadata": {},
   "source": [
    "# Model Building\n",
    "Three models were built to create movie reccomendations. SVD, SVD with Grid Search, and LightFM\n",
    "\n",
    "To prepare the dataset for modeling, we defined a reader object to parse the ratings on a scale from 0.5 to 5.0. The dataset was then loaded into Surprise's Dataset object.\n",
    "\n",
    "We first used the Singular Value Decomposition (SVD) algorithm for collaborative filtering-based recommendation. The algorithm was evaluated using cross-validation with 5 folds, measuring Normazlized Discounted Cumulative Gain (NDCG).\n",
    "\n",
    "All three models were trained on the entire dataset to generate 5 movie recommendations per user.\n"
   ]
  },
  {
   "cell_type": "markdown",
   "id": "919254a8-c95e-4ce7-b121-9dbfe0a50349",
   "metadata": {},
   "source": [
    "## Modeling SVD\n",
    "\n",
    "Performance of the SVD Model for movie rating prediction:\n",
    "\n",
    "## Recommendation System Performance Summary\n",
    "\n",
    "| Metric       | Training Score | Testing Score |\n",
    "|--------------|----------------|---------------|\n",
    "| NDCG         | 0.891          | 0.801         |\n",
    "| RMSE         | 0.635          | 0.873         |\n",
    "| MAE          | 0.493          | 0.671         |\n",
    "| Precision@5  | 0.983          | 0.847         |\n",
    "| Recall@5     | 0.132          | 0.251         |\n",
    "| F1 Score     | 0.214          | 0.309         |\n",
    "\n",
    "### Evaluation Summary\n",
    "\n",
    "Our system demonstrates commendable performance across various metrics, both in training and testing:\n",
    "\n",
    "- **RMSE and MAE**: The model has decent performance in terms of RMSE (0.635 in training, 0.873 in testing) and MAE (0.493 in training, 0.671 in testing), indicating that, on average, the system's rating predictions are about 0.983 and 0.847 points away from users' actual ratings, respectively. While these scores are decent, there is room for improvement.\n",
    "- \n",
    "- **NDCG**: Our model achieves a high NDCG score of 0.891 during training and maintains a strong performance of 0.801 during testing. This score indicates our system's ability to not only recommend relevant items but also prioritize highly-rated ones, aligning well with our goal of delivering top-quality recommendations.\n",
    "\n",
    "- **Precision@5**: With a Precision@5 score of 0.983 in training and 0.847 in testing, this model is highly likely to reccommend relevant movies to users. \n",
    "\n",
    "- **Recall@5**: The recall training score of (0.132) compared to testing (0.251), indicates our model does not have strong recall.\n",
    " \n",
    "- **F1 Score**: Our system achieves an F1 Score of 0.214 during training and 0.309 during testing, reflecting the balance between precision and recall. While these scores indicate an ok balance. \n",
    "\n",
    "### Impact of Rating Distribution\n",
    "\n",
    "The skewed distribution of ratings in our dataset, predominantly towards positive ratings, poses a notable challenge. With fewer ratings falling below 3, our system may encounter difficulties in diversifying recommendations, especially for movies with lower ratings. While highly-rated movies are generally well-received, our recommendation system strives to cater to individual tastes, potentially overlooking hidden gems that cater to diverse preferences. Addressing this imbalance is crucial for ensuring a more comprehensive and personalized recommendation experience.\n"
   ]
  },
  {
   "cell_type": "code",
   "execution_count": 48,
   "id": "51bb6180-417f-4a10-9e49-e75dc428c1f1",
   "metadata": {},
   "outputs": [
    {
     "name": "stdout",
     "output_type": "stream",
     "text": [
      "Number of users: 610\n",
      "Number of items: 9686\n",
      "Number of ratings: 100781\n"
     ]
    }
   ],
   "source": [
    "# Define the Reader object\n",
    "reader = Reader(rating_scale=(0.5, 5))  \n",
    "\n",
    "# Load dataset into Surprise's Dataset object\n",
    "data = Dataset.load_from_df(merged_df[['userId', 'movieId', 'rating']], reader=reader)\n",
    "\n",
    "# Print information about the dataset\n",
    "print(\"Number of users:\", data.build_full_trainset().n_users)\n",
    "print(\"Number of items:\", data.build_full_trainset().n_items)\n",
    "print(\"Number of ratings:\", data.build_full_trainset().n_ratings)\n"
   ]
  },
  {
   "cell_type": "code",
   "execution_count": 49,
   "id": "68c4613d-f42a-4550-9d3d-95c28405095c",
   "metadata": {},
   "outputs": [
    {
     "name": "stdout",
     "output_type": "stream",
     "text": [
      "Training NDCG: 0.8910461108333202\n",
      "Testing NDCG: 0.8004742085841705\n",
      "Training RMSE: 0.6361604089118286\n",
      "Testing RMSE: 0.873791554722979\n",
      "Training MAE: 0.4941960901085709\n",
      "Testing MAE: 0.6711049627897069\n",
      "Training Precision@5: 0.9841475409836065\n",
      "Testing Precision@5: 0.8552180318895978\n",
      "Training Recall@5: 0.13327264604389516\n",
      "Testing Recall@5: 0.25744009813108903\n",
      "Training F1 Score: 0.214818545264722\n",
      "Testing F1 Score: 0.3182423193240673\n"
     ]
    }
   ],
   "source": [
    "#Creating first SVD Model RMSE is main focus. Scores for training and test to be printed out for NDCG, RMSE, MAE, RECALL, F1, Percsion\n",
    "from surprise import Dataset, Reader, SVD\n",
    "from surprise.model_selection import KFold\n",
    "import numpy as np\n",
    "from collections import defaultdict\n",
    "from surprise import accuracy\n",
    "\n",
    "def ndcg_at_k(predictions, k=10):\n",
    "    # Map predictions to each user\n",
    "    user_est_true = defaultdict(list)\n",
    "    for uid, _, true_r, est, _ in predictions:\n",
    "        user_est_true[uid].append((true_r, est))\n",
    "\n",
    "    # Compute NDCG for each user and average them\n",
    "    ndcg_scores = []\n",
    "    for uid, user_ratings in user_est_true.items():\n",
    "        # Sort ratings by estimated score\n",
    "        user_ratings.sort(key=lambda x: x[1], reverse=True)\n",
    "\n",
    "        # Compute DCG\n",
    "        dcg = sum((2 ** r - 1) / np.log2(i + 2) for i, (r, _) in enumerate(user_ratings[:k]))\n",
    "        # Compute IDCG\n",
    "        idcg = sum((2 ** r - 1) / np.log2(i + 2) for i, (r, _) in enumerate(sorted(user_ratings, key=lambda x: x[0], reverse=True)[:k]))\n",
    "\n",
    "        # Compute NDCG for the user\n",
    "        ndcg = dcg / idcg if idcg != 0 else 0\n",
    "        ndcg_scores.append(ndcg)\n",
    "\n",
    "    # Return the mean NDCG score across all users\n",
    "    return np.mean(ndcg_scores)\n",
    "\n",
    "def precision_recall_at_k(predictions, k=10, threshold=3.5):\n",
    "    '''Return precision and recall at k metrics for each user.'''\n",
    "    \n",
    "    # First map the predictions to each user.\n",
    "    user_est_true = defaultdict(list)\n",
    "    for uid, _, true_r, est, _ in predictions:\n",
    "        user_est_true[uid].append((est, true_r))\n",
    "\n",
    "    precisions = dict()\n",
    "    recalls = dict()\n",
    "    for uid, user_ratings in user_est_true.items():\n",
    "        # Sort user ratings by estimated value\n",
    "        user_ratings.sort(key=lambda x: x[0], reverse=True)\n",
    "\n",
    "        # Number of relevant items\n",
    "        n_rel = sum((true_r >= threshold) for (_, true_r) in user_ratings)\n",
    "\n",
    "        # Number of recommended items in top k\n",
    "        n_rec_k = sum((est >= threshold) for (est, _) in user_ratings[:k])\n",
    "\n",
    "        # Number of relevant and recommended items in top k\n",
    "        n_rel_and_rec_k = sum(((true_r >= threshold) and (est >= threshold))\n",
    "                              for (est, true_r) in user_ratings[:k])\n",
    "\n",
    "        # Precision@K: Proportion of recommended items that are relevant\n",
    "        precisions[uid] = n_rel_and_rec_k / n_rec_k if n_rec_k != 0 else 1\n",
    "\n",
    "        # Recall@K: Proportion of relevant items that are recommended\n",
    "        recalls[uid] = n_rel_and_rec_k / n_rel if n_rel != 0 else 1\n",
    "\n",
    "    return precisions, recalls\n",
    "\n",
    "# Define a Reader object to parse the ratings\n",
    "reader = Reader(rating_scale=(0.5, 5.0))\n",
    "\n",
    "# Load the dataset\n",
    "data = Dataset.load_from_df(merged_df[['userId', 'movieId', 'rating']], reader=reader)\n",
    "\n",
    "# Define the SVD algorithm\n",
    "svd = SVD()\n",
    "\n",
    "# Initialize KFold\n",
    "kf = KFold(n_splits=5, random_state=42)\n",
    "\n",
    "# Initialize variables to store total scores\n",
    "total_ndcg_train = 0\n",
    "total_ndcg_test = 0\n",
    "total_rmse_train = 0\n",
    "total_rmse_test = 0\n",
    "total_mae_train = 0\n",
    "total_mae_test = 0\n",
    "\n",
    "total_precision_train = 0\n",
    "total_recall_train = 0\n",
    "total_f1_train = 0\n",
    "total_precision_test = 0\n",
    "total_recall_test = 0\n",
    "total_f1_test = 0\n",
    "\n",
    "# Perform cross-validation manually\n",
    "for trainset, testset in kf.split(data):\n",
    "    # Train the algorithm\n",
    "    svd.fit(trainset)\n",
    "    \n",
    "    # Make predictions for training set\n",
    "    train_predictions = svd.test(trainset.build_testset())\n",
    "    \n",
    "    # Compute NDCG for training set\n",
    "    fold_ndcg_train = ndcg_at_k(train_predictions)\n",
    "    total_ndcg_train += fold_ndcg_train\n",
    "    \n",
    "    # Calculate RMSE and MAE for training set\n",
    "    train_rmse = accuracy.rmse(train_predictions, verbose=False)\n",
    "    train_mae = accuracy.mae(train_predictions, verbose=False)\n",
    "    total_rmse_train += train_rmse\n",
    "    total_mae_train += train_mae\n",
    "    \n",
    "    # Compute precision, recall, and F1 score for training set\n",
    "    precisions_train, recalls_train = precision_recall_at_k(train_predictions, k=5, threshold=4)\n",
    "    precision_mean_train = np.mean(list(precisions_train.values()))\n",
    "    recall_mean_train = np.mean(list(recalls_train.values()))\n",
    "    f1_scores_train = {uid: 2 * (precisions_train[uid] * recalls_train[uid]) / (precisions_train[uid] + recalls_train[uid])\n",
    "                       if (precisions_train[uid] + recalls_train[uid]) != 0 else 0\n",
    "                       for uid in precisions_train}\n",
    "    f1_mean_train = np.mean(list(f1_scores_train.values()))\n",
    "    total_precision_train += precision_mean_train\n",
    "    total_recall_train += recall_mean_train\n",
    "    total_f1_train += f1_mean_train\n",
    "    \n",
    "    # Make predictions for testing set\n",
    "    test_predictions = svd.test(testset)\n",
    "    \n",
    "    # Compute NDCG for testing set\n",
    "    fold_ndcg_test = ndcg_at_k(test_predictions)\n",
    "    total_ndcg_test += fold_ndcg_test\n",
    "    \n",
    "    # Calculate RMSE and MAE for testing set\n",
    "    test_rmse = accuracy.rmse(test_predictions, verbose=False)\n",
    "    test_mae = accuracy.mae(test_predictions, verbose=False)\n",
    "    total_rmse_test += test_rmse\n",
    "    total_mae_test += test_mae\n",
    "    \n",
    "    # Compute precision, recall, and F1 score for testing set\n",
    "    precisions_test, recalls_test = precision_recall_at_k(test_predictions, k=5, threshold=4)\n",
    "    precision_mean_test = np.mean(list(precisions_test.values()))\n",
    "    recall_mean_test = np.mean(list(recalls_test.values()))\n",
    "    f1_scores_test = {uid: 2 * (precisions_test[uid] * recalls_test[uid]) / (precisions_test[uid] + recalls_test[uid])\n",
    "                      if (precisions_test[uid] + recalls_test[uid]) != 0 else 0\n",
    "                      for uid in precisions_test}\n",
    "    f1_mean_test = np.mean(list(f1_scores_test.values()))\n",
    "    total_precision_test += precision_mean_test\n",
    "    total_recall_test += recall_mean_test\n",
    "    total_f1_test += f1_mean_test\n",
    "\n",
    "# Calculate and print the average scores\n",
    "average_ndcg_train = total_ndcg_train / kf.n_splits\n",
    "average_ndcg_test = total_ndcg_test / kf.n_splits\n",
    "average_rmse_train = total_rmse_train / kf.n_splits\n",
    "average_rmse_test = total_rmse_test / kf.n_splits\n",
    "average_mae_train = total_mae_train / kf.n_splits\n",
    "average_mae_test = total_mae_test / kf.n_splits\n",
    "average_precision_train = total_precision_train / kf.n_splits\n",
    "average_recall_train = total_recall_train / kf.n_splits\n",
    "average_f1_train = total_f1_train / kf.n_splits\n",
    "average_precision_test = total_precision_test / kf.n_splits\n",
    "average_recall_test = total_recall_test / kf.n_splits\n",
    "average_f1_test = total_f1_test / kf.n_splits\n",
    "\n",
    "print(\"Training NDCG:\", average_ndcg_train)\n",
    "print(\"Testing NDCG:\", average_ndcg_test)\n",
    "print(\"Training RMSE:\", average_rmse_train)\n",
    "print(\"Testing RMSE:\", average_rmse_test)\n",
    "print(\"Training MAE:\", average_mae_train)\n",
    "print(\"Testing MAE:\", average_mae_test)\n",
    "print(\"Training Precision@5:\", average_precision_train)\n",
    "print(\"Testing Precision@5:\", average_precision_test)\n",
    "print(\"Training Recall@5:\", average_recall_train)\n",
    "print(\"Testing Recall@5:\", average_recall_test)\n",
    "print(\"Training F1 Score:\", average_f1_train)\n",
    "print(\"Testing F1 Score:\", average_f1_test)\n",
    "\n"
   ]
  },
  {
   "cell_type": "markdown",
   "id": "9b7a29f1-720b-4083-aa10-bf89b7955fe6",
   "metadata": {},
   "source": [
    "#### Example of how the model recommends movies"
   ]
  },
  {
   "cell_type": "code",
   "execution_count": 86,
   "id": "bef56001-2df8-4403-ab5e-76a79f2b5e10",
   "metadata": {},
   "outputs": [
    {
     "name": "stdout",
     "output_type": "stream",
     "text": [
      "User 1 recommendations:\n",
      "1. Inside Job (2010)\n",
      "2. Warrior (2011)\n",
      "3. Wolf of Wall Street, The (2013)\n",
      "4. Mad Max: Fury Road (2015)\n",
      "5. Escape from L.A. (1996)\n",
      "\n",
      "User 2 recommendations:\n",
      "1. Bottle Rocket (1996)\n",
      "2. Billy Madison (1995)\n",
      "3. Dumb & Dumber (Dumb and Dumber) (1994)\n",
      "4. Star Wars: Episode IV - A New Hope (1977)\n",
      "5. Jungle Book, The (1994)\n",
      "\n",
      "User 93 recommendations:\n",
      "1. Usual Suspects, The (1995)\n",
      "2. Bottle Rocket (1996)\n",
      "3. Rob Roy (1995)\n",
      "4. Canadian Bacon (1995)\n",
      "5. Desperado (1995)\n",
      "\n",
      "User 100 recommendations:\n",
      "1. Seven (a.k.a. Se7en) (1995)\n",
      "2. Usual Suspects, The (1995)\n",
      "3. Bottle Rocket (1996)\n",
      "4. Rob Roy (1995)\n",
      "5. Dumb & Dumber (Dumb and Dumber) (1994)\n",
      "\n"
     ]
    }
   ],
   "source": [
    "from surprise import Dataset, Reader\n",
    "from surprise import SVD\n",
    "import pandas as pd\n",
    "\n",
    "# Define a Reader object to parse the ratings\n",
    "reader = Reader(rating_scale=(0.5, 5.0))\n",
    "\n",
    "# Load the dataset\n",
    "data = Dataset.load_from_df(merged_df[['userId', 'movieId', 'rating']], reader)\n",
    "\n",
    "# Define the SVD algorithm\n",
    "svd = SVD()\n",
    "\n",
    "# Train the SVD algorithm on the whole dataset\n",
    "trainset = data.build_full_trainset()\n",
    "svd.fit(trainset)\n",
    "\n",
    "# Function to get top N recommendations for a user\n",
    "def get_top_n_recommendations(user_id, n=5):\n",
    "    user_movies = merged_df[merged_df['userId'] == user_id]['movieId']\n",
    "    movies_to_recommend = merged_df[~merged_df['movieId'].isin(user_movies)]['movieId'].unique()\n",
    "    predictions = [(movie_id, svd.predict(user_id, movie_id).est) for movie_id in movies_to_recommend]\n",
    "    top_n_recommendations = sorted(predictions, key=lambda x: x[1], reverse=True)[:n]\n",
    "    return top_n_recommendations\n",
    "\n",
    "# Define the list of users\n",
    "users_to_recommend = [1, 2, 93, 100]\n",
    "\n",
    "# Print top 5 recommendations for each user\n",
    "for user_id in users_to_recommend:\n",
    "    recommendations = get_top_n_recommendations(user_id)\n",
    "    movie_titles = [dfs['movies'][dfs['movies']['movieId'] == movie_id]['title'].values[0] for movie_id, _ in recommendations]\n",
    "    print(f\"User {user_id} recommendations:\")\n",
    "    for idx, movie_title in enumerate(movie_titles, start=1):\n",
    "        print(f\"{idx}. {movie_title}\")\n",
    "    print()\n",
    "\n"
   ]
  },
  {
   "cell_type": "code",
   "execution_count": 84,
   "id": "a26088fc-69cb-4745-8f69-a32e9a600922",
   "metadata": {},
   "outputs": [
    {
     "name": "stdout",
     "output_type": "stream",
     "text": [
      "Top 5 rated films by user 93:\n",
      "1. jumanji 1995 - Rating: 5.0\n",
      "2. saving private ryan 1998 - Rating: 5.0\n",
      "3. men in black aka mib 1997 - Rating: 5.0\n",
      "4. good will hunting 1997 - Rating: 5.0\n",
      "5. titanic 1997 - Rating: 5.0\n"
     ]
    }
   ],
   "source": [
    "#User 93 top rated movies\n",
    "\n",
    "# Function to print top rated films by a user\n",
    "def print_top_rated_films(user_id, n=5):\n",
    "    # Filter the data for the specific user\n",
    "    user_ratings = merged_df[merged_df['userId'] == user_id][['title', 'rating']]\n",
    "    # Sort the ratings in descending order and get the top n results\n",
    "    top_rated_films = user_ratings.sort_values(by='rating', ascending=False).head(n)\n",
    "    print(f\"Top {n} rated films by user {user_id}:\")\n",
    "    for idx, (title, rating) in enumerate(top_rated_films.itertuples(index=False), start=1):\n",
    "        print(f\"{idx}. {title} - Rating: {rating}\")\n",
    "\n",
    "# Specify the user ID\n",
    "user_id = 93\n",
    "\n",
    "# Print top 5 rated films for user 93\n",
    "print_top_rated_films(user_id)\n"
   ]
  },
  {
   "cell_type": "markdown",
   "id": "c035c926-3c0e-4c21-843b-71d31ec7895d",
   "metadata": {},
   "source": [
    "## MODELING WITH SVD GRID-SEARCH\n",
    "\n",
    "### Hyperparameter Tuning\n",
    "A parameter grid was created to explore a wide range of combinations, aiming to find the best model based on Root Mean Square Error (RMSE) and Mean Absolute Error (MAE).\n",
    "\n",
    "The grid search was used to evaluate across 5-fold cross-validation to ensure reliability of the modeling.\n",
    "\n",
    "\n",
    "| Metric       | Training Score | Testing Score |\n",
    "|--------------|----------------|---------------|\n",
    "| RMSE         | 0.643          | 0.853         |\n",
    "| MAE          | 0.502          | 0.657         |\n",
    "| NDCG         | 1.000          | 0.937         |\n",
    "| Precision    | 0.967          | 0.809         |\n",
    "| Recall       | 0.315          | 0.532         |\n",
    "| F1 Score     | 0.550          | 0.650         |\n",
    "\n",
    "\n",
    "\n",
    "  \n",
    "Evaluation Summary\n",
    "The optimized SVD model shows significant improvement in several key areas. The MAE and Root RMSE remain similar to the initial model, with scores around 0.853 and 0.657, respectively. These values suggest a marginal decrease from the first model, indicating a higher likelihood that the model's predictions align closely with user ratings.\n",
    "\n",
    "Notably, the NDCG was higher, indicating that the model is  effective in ranking highly rated movies at the top of the list, which is crucial for user satisfaction.\n",
    "\n",
    "Precision is strong at 0.809, suggesting that the majority of recommendations made by the model are indeed relevant to the users. Additionally, the improvement in recall to 0.532, which surpasses the first model's performance, indicates that this model is less likely to miss out on movies that users would rate highly. Nonetheless, a significant number of relevant movies might still be omitted. This issue may persist due to the skewness of movie ratings in the dataset.\n",
    "\n",
    "The F1 Score at 0.650 represents a balanced measure of the model's precision and recall, showing that it maintains a good balance between both metrics. This F1 score out performs the first model, indicating that this model is more balanced. "
   ]
  },
  {
   "cell_type": "markdown",
   "id": "664a235e-6bc1-43df-98f2-f1f7c7268144",
   "metadata": {},
   "source": [
    "#### Best Parameters for RMSE \n",
    "\n",
    "The best parameters ('n_factors': 20, 'reg_all': 0.02, 'lr_all': 0.01, 'n_epochs': 30)\n",
    "\n",
    "The model printed out NDCG, RMSE, MAE, Percision, Recall, and F1 values for both the train and testing sets."
   ]
  },
  {
   "cell_type": "code",
   "execution_count": 52,
   "id": "5c94b8b2-16a4-42af-afe5-5853ce6b8d7c",
   "metadata": {},
   "outputs": [
    {
     "name": "stdout",
     "output_type": "stream",
     "text": [
      "Best RMSE score attained:  0.8636612493873018\n",
      "Best parameters for RMSE:  {'n_factors': 100, 'reg_all': 0.1, 'lr_all': 0.01, 'n_epochs': 30}\n"
     ]
    }
   ],
   "source": [
    "from surprise import Dataset, Reader, SVD\n",
    "from surprise.model_selection import GridSearchCV, train_test_split\n",
    "import numpy as np\n",
    "from collections import defaultdict\n",
    "from surprise import accuracy\n",
    "\n",
    "# Define the Reader object\n",
    "reader = Reader(rating_scale=(0.5, 5))\n",
    "\n",
    "# Load the dataset\n",
    "data = Dataset.load_from_df(merged_df[['userId', 'movieId', 'rating']], reader)\n",
    "\n",
    "# Define the parameter grid to search\n",
    "param_grid = {\n",
    "    'n_factors': [20, 50, 100],  # Number of factors\n",
    "    'reg_all': [0.02, 0.1, 0.2],  # Regularization term\n",
    "    'lr_all': [0.002, 0.005, 0.01],  # Learning rate\n",
    "    'n_epochs': [10, 20, 30]  # Number of epoch\n",
    "}\n",
    "\n",
    "# Setup GridSearchCV\n",
    "gs = GridSearchCV(SVD, param_grid, measures=['rmse'], cv=3)\n",
    "\n",
    "# Fit GridSearchCV\n",
    "gs.fit(data)\n",
    "\n",
    "# Best RMSE score\n",
    "print(\"Best RMSE score attained: \", gs.best_score['rmse'])\n",
    "\n",
    "# Best parameters for RMSE\n",
    "print(\"Best parameters for RMSE: \", gs.best_params['rmse'])\n"
   ]
  },
  {
   "cell_type": "code",
   "execution_count": 53,
   "id": "390e5466-2d0c-4264-8c9c-5201df8c3013",
   "metadata": {},
   "outputs": [
    {
     "name": "stdout",
     "output_type": "stream",
     "text": [
      "Training Set Metrics:\n",
      "RMSE: 0.6423229986931799\n",
      "MAE: 0.5012772841452878\n",
      "NDCG: 1.0\n",
      "Precision: 0.9670023419203748\n",
      "Recall: 0.3146430666482571\n",
      "F1 Score: 0.47479682021828123\n",
      "\n",
      "Test Set Metrics:\n",
      "RMSE: 0.85838544584526\n",
      "MAE: 0.6572532502728594\n",
      "NDCG: 0.9363792118010483\n",
      "Precision: 0.7970554122031955\n",
      "Recall: 0.5500430956797319\n",
      "F1 Score: 0.6509024006648693\n"
     ]
    }
   ],
   "source": [
    "from surprise import Dataset, Reader, SVD, accuracy\n",
    "from surprise.model_selection import train_test_split\n",
    "from collections import defaultdict\n",
    "import numpy as np\n",
    "\n",
    "# Define the Reader object with the appropriate rating scale\n",
    "reader = Reader(rating_scale=(0.5, 5))\n",
    "\n",
    "# Load the dataset from a DataFrame\n",
    "data = Dataset.load_from_df(merged_df[['userId', 'movieId', 'rating']], reader)\n",
    "\n",
    "# Split the dataset into training and testing sets\n",
    "trainset, testset = train_test_split(data, test_size=0.2)\n",
    "\n",
    "# Initialize the SVD algorithm with optimized parameters\n",
    "algo = SVD(n_factors=100, reg_all=0.1, lr_all=0.01, n_epochs=30)\n",
    "\n",
    "# Train the algorithm on the trainset\n",
    "algo.fit(trainset)\n",
    "\n",
    "# Predict on the training set\n",
    "train_predictions = algo.test(trainset.build_testset())\n",
    "\n",
    "# Predict on the test set\n",
    "test_predictions = algo.test(testset)\n",
    "\n",
    "# Define a function to calculate RMSE\n",
    "def evaluate_rmse(predictions):\n",
    "    return accuracy.rmse(predictions, verbose=False)\n",
    "\n",
    "# Define a function to calculate MAE\n",
    "def evaluate_mae(predictions):\n",
    "    return accuracy.mae(predictions, verbose=False)\n",
    "\n",
    "# Define a function to calculate NDCG\n",
    "def ndcg(predictions, k=10, threshold=3.50):\n",
    "    predictions.sort(key=lambda x: x.est, reverse=True)\n",
    "    dcg = sum((1 if pred.r_ui >= threshold else 0) / np.log2(i + 2) for i, pred in enumerate(predictions[:k]))\n",
    "    idcg = sum((1 / np.log2(i + 2)) for i in range(k))\n",
    "    return dcg / idcg if idcg > 0 else 0\n",
    "\n",
    "# Define a function for calculating precision, recall, and F1\n",
    "def precision_recall_f1_at_k(predictions, k=10, threshold=3.5):\n",
    "    user_est_true = defaultdict(list)\n",
    "    for uid, _, true_r, est, _ in predictions:\n",
    "        user_est_true[uid].append((est, true_r))\n",
    "\n",
    "    precisions, recalls = dict(), dict()\n",
    "    for uid, user_ratings in user_est_true.items():\n",
    "        user_ratings.sort(key=lambda x: x[0], reverse=True)\n",
    "        n_rel = sum((true_r >= threshold) for (_, true_r) in user_ratings)\n",
    "        n_rec_k = sum((est >= threshold) for (est, _) in user_ratings[:k])\n",
    "        n_rel_and_rec_k = sum(((true_r >= threshold) and (est >= threshold)) for (est, true_r) in user_ratings[:k])\n",
    "\n",
    "        precisions[uid] = n_rel_and_rec_k / n_rec_k if n_rec_k != 0 else 1\n",
    "        recalls[uid] = n_rel_and_rec_k / n_rel if n_rel != 0 else 1\n",
    "\n",
    "    precision_avg = np.mean(list(precisions.values()))\n",
    "    recall_avg = np.mean(list(recalls.values()))\n",
    "    f1_avg = 2 * (precision_avg * recall_avg) / (precision_avg + recall_avg) if (precision_avg + recall_avg) > 0 else 0\n",
    "\n",
    "    return precision_avg, recall_avg, f1_avg\n",
    "\n",
    "# Evaluate metrics for training set\n",
    "train_rmse = evaluate_rmse(train_predictions)\n",
    "train_mae = evaluate_mae(train_predictions)\n",
    "train_ndcg = ndcg(train_predictions)\n",
    "precision_train, recall_train, f1_train = precision_recall_f1_at_k(train_predictions)\n",
    "\n",
    "# Evaluate metrics for test set\n",
    "test_rmse = evaluate_rmse(test_predictions)\n",
    "test_mae = evaluate_mae(test_predictions)\n",
    "test_ndcg = ndcg(test_predictions)\n",
    "precision_test, recall_test, f1_test = precision_recall_f1_at_k(test_predictions)\n",
    "\n",
    "# Print the metrics for training and test sets\n",
    "print(\"Training Set Metrics:\")\n",
    "print(f\"RMSE: {train_rmse}\")\n",
    "print(f\"MAE: {train_mae}\")\n",
    "print(f\"NDCG: {train_ndcg}\")\n",
    "print(f\"Precision: {precision_train}\")\n",
    "print(f\"Recall: {recall_train}\")\n",
    "print(f\"F1 Score: {f1_train}\")\n",
    "\n",
    "print(\"\\nTest Set Metrics:\")\n",
    "print(f\"RMSE: {test_rmse}\")\n",
    "print(f\"MAE: {test_mae}\")\n",
    "print(f\"NDCG: {test_ndcg}\")\n",
    "print(f\"Precision: {precision_test}\")\n",
    "print(f\"Recall: {recall_test}\")\n",
    "print(f\"F1 Score: {f1_test}\")\n",
    "\n"
   ]
  },
  {
   "cell_type": "markdown",
   "id": "7666b960-ea8d-454c-98ee-c397c1e28452",
   "metadata": {},
   "source": [
    "### Example of How Second Model Would Recommend Movies to Users"
   ]
  },
  {
   "cell_type": "code",
   "execution_count": 85,
   "id": "c1efa4a3-9a96-4240-ae80-614785a942d5",
   "metadata": {},
   "outputs": [
    {
     "name": "stdout",
     "output_type": "stream",
     "text": [
      "Top 5 recommendations for User ID 93:\n",
      "Movie Title: seven aka se7en 1995, Estimated Rating: 5\n",
      "Movie Title: rob roy 1995, Estimated Rating: 5\n",
      "Movie Title: desperado 1995, Estimated Rating: 5\n",
      "Movie Title: jungle book the 1994, Estimated Rating: 5\n",
      "Movie Title: pinocchio 1940, Estimated Rating: 5\n",
      "\n",
      "\n",
      "Top 5 recommendations for User ID 502:\n",
      "Movie Title: usual suspects the 1995, Estimated Rating: 5\n",
      "Movie Title: dumb  dumber dumb and dumber 1994, Estimated Rating: 5\n",
      "Movie Title: star wars episode iv  a new hope 1977, Estimated Rating: 5\n",
      "Movie Title: tommy boy 1995, Estimated Rating: 5\n",
      "Movie Title: jungle book the 1994, Estimated Rating: 5\n",
      "\n",
      "\n"
     ]
    }
   ],
   "source": [
    "from surprise import Dataset, Reader, SVD\n",
    "\n",
    "reader = Reader(rating_scale=(0.5, 5))\n",
    "data = Dataset.load_from_df(merged_df[['userId', 'movieId', 'rating']], reader)\n",
    "\n",
    "# Build the full dataset to train on\n",
    "trainset = data.build_full_trainset()\n",
    "\n",
    "# Define the SVD algorithm with the best parameters\n",
    "svd = SVD(n_factors=100, reg_all=0.2)\n",
    "svd.fit(trainset)\n",
    "\n",
    "# Function to get top N recommendations for a user\n",
    "def get_top_n_recommendations(user_id, n=5):\n",
    "    internal_user_id = trainset.to_inner_uid(user_id)\n",
    "    all_movies = set(trainset.all_items())\n",
    "    rated_movies = set([iid for (iid, _) in trainset.ur[internal_user_id]])\n",
    "    unrated_movies = all_movies - rated_movies\n",
    "\n",
    "    # Generate predictions for all unrated movies\n",
    "    predictions = [(trainset.to_raw_iid(iid), svd.predict(user_id, trainset.to_raw_iid(iid)).est) for iid in unrated_movies]\n",
    "\n",
    "    # Sort the predictions by estimated rating in descending order\n",
    "    predictions.sort(key=lambda x: x[1], reverse=True)\n",
    "\n",
    "    # Fetch the movie titles and return them with the ratings\n",
    "    top_n_predictions = [(merged_df[merged_df['movieId'] == int(movie_id)]['title'].values[0], est) for movie_id, est in predictions[:n]]\n",
    "    return top_n_predictions\n",
    "\n",
    "# Specified user IDs\n",
    "user_ids = [93, 502]\n",
    "\n",
    "# Print top 5 recommendations for each of the specified users\n",
    "for user_id in user_ids:\n",
    "    print(f\"Top 5 recommendations for User ID {user_id}:\")\n",
    "    top_recs = get_top_n_recommendations(user_id)\n",
    "    for title, est_rating in top_recs:\n",
    "        print(f\"Movie Title: {title}, Estimated Rating: {est_rating}\")\n",
    "    print(\"\\n\")  \n",
    "\n",
    "\n"
   ]
  },
  {
   "cell_type": "markdown",
   "id": "647b71e4-9e5e-4d9a-a63f-f9ccb0ee0591",
   "metadata": {},
   "source": [
    "## Modeling with Lightfm"
   ]
  },
  {
   "cell_type": "markdown",
   "id": "69d580ea-dcd0-4888-beb4-1255acc7d7cd",
   "metadata": {},
   "source": [
    "LightFM is a hybrid machine learning model, used for making recommendations by learning from both user and item features. This means it doesn't just rely on past interactions between users and items but also considers additional details, like user preferences and item characteristics, to make smarter recommendations.  \n",
    "\n",
    "After applying the LightFM model to our movie recommendation system, we evaluated its performance based on several key metrics. The dataset used for this evaluation consists of user IDs, movie IDs, and ratings, used to predict how well the model recommends movies to users. \n",
    "\n",
    "The LightFM model demonstrates shows an ability to distinguish between positive and negative movie ratings, as evidenced by the high AUC scores of 0.964 in training and in testing the model has a score of and 0.924 in testing. This indicates the model has a strong ability to distinguish between positive and negative movie ratings.\n",
    "\n",
    "However, when looking at the Precision@k and Recall@k, there are notable differences between training and testing performances. While the training precision is high at a modest 0.484, it drops significantly to 0.107 in testing, suggesting overfitting during training or that the model's generalizability may need improvement. Similarly, Recall@k is low in both training and testing, indicating that while the items the model is confident about are generally correct, it fails to capture a larger proportion of relevant items within the top-k recommendations.\n",
    "\n"
   ]
  },
  {
   "cell_type": "markdown",
   "id": "ae234c24-2d0b-4eb8-b3e7-22d752a608da",
   "metadata": {},
   "source": [
    "## Performance Metrics Summary for LightFM\n",
    "\n",
    "### LightFM Model Performance Summary\n",
    "\n",
    "| Metric           | Training Score      | Testing Score       |\n",
    "|------------------|---------------------|---------------------|\n",
    "| Recall@k         | 0.040               | 0.035              |\n",
    "| Precision@k      | 0.484               | 0.107              |\n",
    "| AUC              | 0.964               | 0.924              |\n",
    "\n",
    "\n"
   ]
  },
  {
   "cell_type": "code",
   "execution_count": 55,
   "id": "78e19c3f-870a-4908-b4d0-fef003d60703",
   "metadata": {},
   "outputs": [
    {
     "name": "stdout",
     "output_type": "stream",
     "text": [
      "Index(['userId', 'movieId', 'rating', 'timestamp', 'title', 'year', 'tag',\n",
      "       'decade', 'Action', 'Adventure', 'Animation', 'Children', 'Comedy',\n",
      "       'Crime', 'Documentary', 'Drama', 'Fantasy', 'Film-Noir', 'Horror',\n",
      "       'IMAX', 'Musical', 'Mystery', 'Romance', 'Sci-Fi', 'Thriller', 'War',\n",
      "       'Western'],\n",
      "      dtype='object')\n"
     ]
    }
   ],
   "source": [
    "# Print out the column names of the merged_df DataFrame\n",
    "print(merged_df.columns)\n"
   ]
  },
  {
   "cell_type": "code",
   "execution_count": 56,
   "id": "1f4abd2e-7ca0-4c78-b0c1-35aaf55f0529",
   "metadata": {},
   "outputs": [
    {
     "name": "stderr",
     "output_type": "stream",
     "text": [
      "/Users/jguzzo522/anaconda3/envs/learn-env/lib/python3.8/site-packages/lightfm/_lightfm_fast.py:9: UserWarning: LightFM was compiled without OpenMP support. Only a single thread will be used.\n",
      "  warnings.warn(\n"
     ]
    }
   ],
   "source": [
    "from lightfm import LightFM\n",
    "from lightfm.data import Dataset\n",
    "import numpy as np\n",
    "\n",
    "# Create a dataset\n",
    "dataset = Dataset()\n",
    "dataset.fit(users=(x for x in merged_df['userId']),\n",
    "            items=(x for x in merged_df['movieId']))\n",
    "\n",
    "# Build the interaction matrix\n",
    "(interactions, weights) = dataset.build_interactions(((row['userId'], row['movieId'], row['rating']) for index, row in merged_df.iterrows()))\n",
    "\n"
   ]
  },
  {
   "cell_type": "code",
   "execution_count": 57,
   "id": "39866aa5-afc2-4b6d-8458-80d44f01091b",
   "metadata": {},
   "outputs": [
    {
     "data": {
      "text/plain": [
       "<lightfm.lightfm.LightFM at 0x7fbe87690700>"
      ]
     },
     "execution_count": 57,
     "metadata": {},
     "output_type": "execute_result"
    }
   ],
   "source": [
    "model = LightFM(loss='warp')\n",
    "model.fit(interactions, sample_weight=weights, epochs=30)\n",
    "\n"
   ]
  },
  {
   "cell_type": "code",
   "execution_count": 58,
   "id": "d8e9d618-84aa-41b3-8b88-cc2ebbf25f32",
   "metadata": {},
   "outputs": [],
   "source": [
    "def make_recommendations_with_titles(model, data, user_ids, merged_df, num_items=5):\n",
    "    # Mapping from dataset\n",
    "    user_id_map, user_feature_map, item_id_map, item_feature_map = data.mapping()\n",
    "    \n",
    "    # Reverse the item_id_map to find item IDs based on internal indices\n",
    "    item_id_inverse_map = {v: k for k, v in item_id_map.items()}\n",
    "    \n",
    "    for user_id in user_ids:\n",
    "        # Get the internal ID of the user\n",
    "        user_internal_id = user_id_map.get(user_id)\n",
    "        if user_internal_id is None:\n",
    "            print(f\"User ID {user_id} not found.\")\n",
    "            continue\n",
    "        \n",
    "        # Predict the scores\n",
    "        scores = model.predict(user_internal_id, np.arange(len(item_id_map)))\n",
    "        \n",
    "        # Rank the items\n",
    "        top_items_indices = np.argsort(-scores)[:num_items]\n",
    "        \n",
    "        # Convert the indices back to item IDs\n",
    "        top_item_ids = [item_id_inverse_map[x] for x in top_items_indices]\n",
    "        \n",
    "        # Get the corresponding titles\n",
    "        top_movie_titles = merged_df[merged_df['movieId'].isin(top_item_ids)]['title'].unique().tolist()\n",
    "        \n",
    "        print(f\"\\nTop {num_items} recommendations for user {user_id}:\")\n",
    "        for title in top_movie_titles:\n",
    "            print(f\"   {title}\")\n",
    "\n"
   ]
  },
  {
   "cell_type": "markdown",
   "id": "cc451ee4-a635-46a4-b120-6b29337a90f0",
   "metadata": {},
   "source": [
    "### Example of How LightFM Model Would Recommend Movies to Users"
   ]
  },
  {
   "cell_type": "code",
   "execution_count": 59,
   "id": "0ca514ee-7ac7-48f0-ba0a-038d98f859e1",
   "metadata": {},
   "outputs": [
    {
     "name": "stdout",
     "output_type": "stream",
     "text": [
      "\n",
      "Top 5 recommendations for user 1:\n",
      "   star wars episode iv  a new hope 1977\n",
      "   star wars episode v  the empire strikes back 1980\n",
      "   princess bride the 1987\n",
      "   back to the future 1985\n",
      "   matrix the 1999\n",
      "\n",
      "Top 5 recommendations for user 2:\n",
      "   dark knight the 2008\n",
      "   inglourious basterds 2009\n",
      "   inception 2010\n",
      "   interstellar 2014\n",
      "   iron man 2008\n",
      "\n",
      "Top 5 recommendations for user 3:\n",
      "   star wars episode iv  a new hope 1977\n",
      "   stargate 1994\n",
      "   batman 1989\n",
      "   star trek iii the search for spock 1984\n",
      "   star trek first contact 1996\n",
      "\n",
      "Top 5 recommendations for user 4:\n",
      "   schindlers list 1993\n",
      "   fargo 1996\n",
      "   casablanca 1942\n",
      "   amadeus 1984\n",
      "   shakespeare in love 1998\n",
      "\n",
      "Top 5 recommendations for user 5:\n",
      "   pulp fiction 1994\n",
      "   forrest gump 1994\n",
      "   dances with wolves 1990\n",
      "   apollo 13 1995\n",
      "   firm the 1993\n"
     ]
    }
   ],
   "source": [
    "\n",
    "first_5_user_ids = merged_df['userId'].unique()[:5]\n",
    "\n",
    "# Call the recommendation function\n",
    "make_recommendations_with_titles(model, dataset, user_ids=first_5_user_ids, merged_df=merged_df)\n"
   ]
  },
  {
   "cell_type": "markdown",
   "id": "d6aa2023-28ae-4076-9012-827e7b7aa864",
   "metadata": {},
   "source": [
    "### Creating Movie Recommendations for Each Genre Using LighFm"
   ]
  },
  {
   "cell_type": "code",
   "execution_count": 60,
   "id": "90f6b98c-22d5-4da9-8660-663bff8912be",
   "metadata": {},
   "outputs": [
    {
     "name": "stdout",
     "output_type": "stream",
     "text": [
      "\n",
      "Top 3 Action Movies:\n",
      "- fight club 1999 (Rating: 4.27)\n",
      "- dark knight the 2008 (Rating: 4.24)\n",
      "- princess bride the 1987 (Rating: 4.23)\n",
      "\n",
      "Top 3 Adventure Movies:\n",
      "- princess bride the 1987 (Rating: 4.23)\n",
      "- star wars episode iv  a new hope 1977 (Rating: 4.23)\n",
      "- star wars episode v  the empire strikes back 1980 (Rating: 4.22)\n",
      "\n",
      "Top 3 Animation Movies:\n",
      "- spirited away sen to chihiro no kamikakushi 2001 (Rating: 4.16)\n",
      "- toy story 3 2010 (Rating: 4.11)\n",
      "- walle 2008 (Rating: 4.06)\n",
      "\n",
      "Top 3 Children Movies:\n",
      "- toy story 3 2010 (Rating: 4.11)\n",
      "- walle 2008 (Rating: 4.06)\n",
      "- wallace  gromit the wrong trousers 1993 (Rating: 4.04)\n",
      "\n",
      "Top 3 Comedy Movies:\n",
      "- dr strangelove or how i learned to stop worrying and love the bomb 1964 (Rating: 4.27)\n",
      "- princess bride the 1987 (Rating: 4.23)\n",
      "- pulp fiction 1994 (Rating: 4.20)\n",
      "\n",
      "Top 3 Crime Movies:\n",
      "- shawshank redemption the 1994 (Rating: 4.43)\n",
      "- godfather the 1972 (Rating: 4.29)\n",
      "- fight club 1999 (Rating: 4.27)\n",
      "\n",
      "Top 3 Documentary Movies:\n",
      "- bowling for columbine 2002 (Rating: 3.78)\n",
      "- super size me 2004 (Rating: 3.51)\n",
      "\n",
      "Top 3 Drama Movies:\n",
      "- shawshank redemption the 1994 (Rating: 4.43)\n",
      "- godfather the 1972 (Rating: 4.29)\n",
      "- fight club 1999 (Rating: 4.27)\n",
      "\n",
      "Top 3 Fantasy Movies:\n",
      "- princess bride the 1987 (Rating: 4.23)\n",
      "- brazil 1985 (Rating: 4.18)\n",
      "- monty python and the holy grail 1975 (Rating: 4.16)\n",
      "\n",
      "Top 3 Film-Noir Movies:\n",
      "- chinatown 1974 (Rating: 4.21)\n",
      "- la confidential 1997 (Rating: 4.06)\n",
      "- sin city 2005 (Rating: 3.86)\n",
      "\n",
      "Top 3 Horror Movies:\n",
      "- silence of the lambs the 1991 (Rating: 4.16)\n",
      "- shining the 1980 (Rating: 4.08)\n",
      "- army of darkness 1993 (Rating: 4.04)\n",
      "\n",
      "Top 3 IMAX Movies:\n",
      "- dark knight the 2008 (Rating: 4.24)\n",
      "- toy story 3 2010 (Rating: 4.11)\n",
      "- inception 2010 (Rating: 4.07)\n",
      "\n",
      "Top 3 Musical Movies:\n",
      "- lion king the 1994 (Rating: 3.94)\n",
      "- sound of music the 1965 (Rating: 3.94)\n",
      "- mary poppins 1964 (Rating: 3.89)\n",
      "\n",
      "Top 3 Mystery Movies:\n",
      "- rear window 1954 (Rating: 4.26)\n",
      "- usual suspects the 1995 (Rating: 4.24)\n",
      "- chinatown 1974 (Rating: 4.21)\n",
      "\n",
      "Top 3 Romance Movies:\n",
      "- casablanca 1942 (Rating: 4.24)\n",
      "- princess bride the 1987 (Rating: 4.23)\n",
      "- north by northwest 1959 (Rating: 4.18)\n",
      "\n",
      "Top 3 Sci-Fi Movies:\n",
      "- star wars episode iv  a new hope 1977 (Rating: 4.23)\n",
      "- star wars episode v  the empire strikes back 1980 (Rating: 4.22)\n",
      "- matrix the 1999 (Rating: 4.19)\n",
      "\n",
      "Top 3 Thriller Movies:\n",
      "- fight club 1999 (Rating: 4.27)\n",
      "- rear window 1954 (Rating: 4.26)\n",
      "- departed the 2006 (Rating: 4.25)\n",
      "\n",
      "Top 3 War Movies:\n",
      "- dr strangelove or how i learned to stop worrying and love the bomb 1964 (Rating: 4.27)\n",
      "- schindlers list 1993 (Rating: 4.22)\n",
      "- apocalypse now 1979 (Rating: 4.22)\n",
      "\n",
      "Top 3 Western Movies:\n",
      "- good the bad and the ugly the buono il brutto il cattivo il 1966 (Rating: 4.15)\n",
      "- django unchained 2012 (Rating: 3.94)\n",
      "- butch cassidy and the sundance kid 1969 (Rating: 3.94)\n"
     ]
    }
   ],
   "source": [
    "import pandas as pd\n",
    "\n",
    "# First, we aggregate the ratings for each movie and calculate the average rating and rating count\n",
    "movie_ratings = merged_df.groupby('movieId').agg(\n",
    "    average_rating=pd.NamedAgg(column='rating', aggfunc='mean'),\n",
    "    rating_count=pd.NamedAgg(column='rating', aggfunc='count')\n",
    ").reset_index()\n",
    "\n",
    "# Merge back with merged_df to get genre information for each movie\n",
    "movie_info = pd.merge(movie_ratings, merged_df.drop_duplicates('movieId'), on='movieId')\n",
    "\n",
    "# Filter movies with at least 50 ratings to ensure popularity\n",
    "popular_movies = movie_info.query('rating_count >= 50')\n",
    "\n",
    "# For each genre, find the top 3 movies based on average rating\n",
    "genre_columns = ['Action', 'Adventure', 'Animation', 'Children', 'Comedy', 'Crime', 'Documentary', 'Drama',\n",
    "                 'Fantasy', 'Film-Noir', 'Horror', 'IMAX', 'Musical', 'Mystery', 'Romance', 'Sci-Fi',\n",
    "                 'Thriller', 'War', 'Western']\n",
    "\n",
    "top_movies_by_genre = {}\n",
    "for genre in genre_columns:\n",
    "    top_movies = popular_movies[popular_movies[genre] == 1].sort_values(by='average_rating', ascending=False).head(3)\n",
    "    top_movies_by_genre[genre] = top_movies[['title', 'average_rating']]\n",
    "\n",
    "# Display top 3 movies for a selection of genres\n",
    "for genre, movies in top_movies_by_genre.items():\n",
    "    if not movies.empty:\n",
    "        print(f\"\\nTop 3 {genre} Movies:\")\n",
    "        for _, row in movies.iterrows():\n",
    "            print(f\"- {row['title']} (Rating: {row['average_rating']:.2f})\")\n"
   ]
  },
  {
   "cell_type": "code",
   "execution_count": 61,
   "id": "237a1e69-48cd-4118-89a6-9f6180886883",
   "metadata": {},
   "outputs": [],
   "source": [
    "from lightfm.cross_validation import random_train_test_split\n",
    "\n",
    "train_interactions, test_interactions = random_train_test_split(interactions, test_percentage=0.2, random_state=np.random.RandomState(2024))\n"
   ]
  },
  {
   "cell_type": "code",
   "execution_count": 62,
   "id": "09269fd9-2c11-43dc-81e8-d654eec95020",
   "metadata": {},
   "outputs": [
    {
     "data": {
      "text/plain": [
       "<lightfm.lightfm.LightFM at 0x7fbe88342940>"
      ]
     },
     "execution_count": 62,
     "metadata": {},
     "output_type": "execute_result"
    }
   ],
   "source": [
    "model = LightFM(loss='warp')\n",
    "\n",
    "model.fit(train_interactions, epochs=30)\n",
    "\n"
   ]
  },
  {
   "cell_type": "code",
   "execution_count": 63,
   "id": "a1d39872-7f26-46d6-813a-85c1434ce08d",
   "metadata": {},
   "outputs": [
    {
     "name": "stdout",
     "output_type": "stream",
     "text": [
      "Model fit time: 3.371170997619629 seconds\n"
     ]
    }
   ],
   "source": [
    "import time\n",
    "from lightfm import LightFM\n",
    "from lightfm.cross_validation import random_train_test_split\n",
    "from lightfm.evaluation import precision_at_k, auc_score\n",
    "\n",
    "# Splitting the interaction data\n",
    "train_interactions, test_interactions = random_train_test_split(interactions, test_percentage=0.2, random_state=np.random.RandomState(2024))\n",
    "\n",
    "# Initializing the model\n",
    "model = LightFM(loss='warp')\n",
    "\n",
    "# Start timing\n",
    "fit_start_time = time.time()\n",
    "\n",
    "# Fit the model\n",
    "model.fit(train_interactions, epochs=30)\n",
    "\n",
    "# Calculate and print the fit time\n",
    "fit_time = time.time() - fit_start_time\n",
    "print(f\"Model fit time: {fit_time} seconds\")\n"
   ]
  },
  {
   "cell_type": "code",
   "execution_count": 64,
   "id": "35c2d10a-592e-402b-805f-ce0967d99404",
   "metadata": {},
   "outputs": [
    {
     "name": "stdout",
     "output_type": "stream",
     "text": [
      "Train Recall@k: 0.03938027145433317\n",
      "Test Recall@k: 0.03452026281494393\n"
     ]
    }
   ],
   "source": [
    "def recall_at_k(model, interactions, k=5, user_features=None, item_features=None):\n",
    "    \"\"\"\n",
    "    Compute the mean recall at k for all users.\n",
    "    \"\"\"\n",
    "    recall_list = []\n",
    "\n",
    "    # Convert interactions to COO matrix\n",
    "    interactions_coo = interactions.tocoo()\n",
    "    \n",
    "    n_items = interactions.shape[1]\n",
    "    item_ids = np.arange(n_items)\n",
    "\n",
    "    for user_id in set(interactions_coo.row):\n",
    "        # Create arrays for user_ids and item_ids\n",
    "        user_id_array = np.full(n_items, user_id, dtype=np.int32)  # Repeat user_id for each item\n",
    "        \n",
    "        # Predict scores for all items for this user\n",
    "        scores = model.predict(user_id_array, item_ids, user_features=user_features, item_features=item_features)\n",
    "        \n",
    "        # Rank items by predicted scores\n",
    "        top_items = np.argsort(-scores)[:k]\n",
    "        \n",
    "        # Items that are positives in the test set for this user\n",
    "        known_positives = interactions.tocsr()[user_id].indices\n",
    "        \n",
    "        # Calculate recall\n",
    "        recall = np.isin(top_items, known_positives).sum() / len(known_positives) if len(known_positives) > 0 else 0\n",
    "        recall_list.append(recall)\n",
    "    \n",
    "    return np.mean(recall_list)\n",
    "\n",
    "# Now you can compute recall for train and test sets without triggering the AssertionError\n",
    "train_recall = recall_at_k(model, train_interactions.tocoo(), k=5)\n",
    "test_recall = recall_at_k(model, test_interactions.tocoo(), k=5)\n",
    "\n",
    "print(f\"Train Recall@k: {train_recall}\")\n",
    "print(f\"Test Recall@k: {test_recall}\")\n"
   ]
  },
  {
   "cell_type": "code",
   "execution_count": 65,
   "id": "d6ae7ba5-ecd1-4322-96ab-76971794aca4",
   "metadata": {},
   "outputs": [
    {
     "name": "stdout",
     "output_type": "stream",
     "text": [
      "Train Precision@k: 0.4866\n",
      "Test Precision@k: 0.0961\n",
      "Precision evaluation time: 2.1060 seconds\n",
      "Train AUC: 0.9644\n",
      "Test AUC: 0.9248\n",
      "AUC evaluation time: 1.8054 seconds\n",
      "Train Recall@k: 0.0394\n",
      "Test Recall@k: 0.0345\n",
      "Recall evaluation time: 7.9218 seconds\n"
     ]
    }
   ],
   "source": [
    "import time\n",
    "from lightfm import LightFM\n",
    "from lightfm.cross_validation import random_train_test_split\n",
    "from lightfm.evaluation import precision_at_k, auc_score\n",
    "\n",
    "# Start timing for precision\n",
    "precision_start_time = time.time()\n",
    "# Calculate precision at k\n",
    "train_precision = precision_at_k(model, train_interactions, k=5).mean()\n",
    "test_precision = precision_at_k(model, test_interactions, k=5).mean()\n",
    "# Calculate and print the time taken to evaluate precision\n",
    "precision_time = time.time() - precision_start_time\n",
    "print(f\"Train Precision@k: {train_precision:.4f}\")\n",
    "print(f\"Test Precision@k: {test_precision:.4f}\")\n",
    "print(f\"Precision evaluation time: {precision_time:.4f} seconds\")\n",
    "\n",
    "# Start timing for AUC\n",
    "auc_start_time = time.time()\n",
    "# Calculate AUC\n",
    "train_auc = auc_score(model, train_interactions).mean()\n",
    "test_auc = auc_score(model, test_interactions).mean()\n",
    "# Calculate and print the time taken to evaluate AUC\n",
    "auc_time = time.time() - auc_start_time\n",
    "print(f\"Train AUC: {train_auc:.4f}\")\n",
    "print(f\"Test AUC: {test_auc:.4f}\")\n",
    "print(f\"AUC evaluation time: {auc_time:.4f} seconds\")\n",
    "\n",
    "# Start timing for recall\n",
    "recall_start_time = time.time()\n",
    "# Calculate recall at k using your recall_at_k function\n",
    "train_recall = recall_at_k(model, train_interactions, k=5) \n",
    "test_recall = recall_at_k(model, test_interactions, k=5)  \n",
    "# Calculate and print the time taken to evaluate recall\n",
    "recall_time = time.time() - recall_start_time\n",
    "print(f\"Train Recall@k: {train_recall:.4f}\")\n",
    "print(f\"Test Recall@k: {test_recall:.4f}\")\n",
    "print(f\"Recall evaluation time: {recall_time:.4f} seconds\")\n",
    "\n"
   ]
  },
  {
   "cell_type": "markdown",
   "id": "6ea4a3c7-3765-421a-9cd7-0808d271fa5a",
   "metadata": {},
   "source": [
    "## Comparing the Models"
   ]
  },
  {
   "cell_type": "markdown",
   "id": "e3361a5e-d53c-4eba-951f-8c0ad8a56b24",
   "metadata": {},
   "source": [
    "In order to decide which model performed the best at recommedning 5 movies to each user, we evaluated three models. The SVD, The SVD Grid Search, and LightFM."
   ]
  },
  {
   "cell_type": "markdown",
   "id": "a17bf6c8-6acc-46fa-88e0-f78e5e7ec15b",
   "metadata": {},
   "source": [
    "| Metric          | SVD (Model 1) Training | SVD (Model 1) Testing | Grid Search SVD (Model 2) Training | Grid Search SVD (Model 2) Testing | LightFM Training | LightFM Testing |\n",
    "|-----------------|------------------------|-----------------------|-----------------------------------|----------------------------------|------------------|-----------------|\n",
    "| NDCG            | 0.891                  | 0.801                 | 1.000                             | 0.900                              | -                | -               |\n",
    "| RMSE            | 0.635                  | 0.873                 | 0.643                             | 0.853                           | -                | -               |\n",
    "| MAE             | 0.493                  | 0.671                 | 0.502                             | 0.657                           | -                | -               |\n",
    "| Precision@5     | 0.983                  | 0.847                 | 0.967                             | 0.809                           | -                | -               |\n",
    "| Recall@5        | 0.132                  | 0.251                 | 0.315                             | 0.532                           | -                | -               |\n",
    "| F1 Score        | 0.214                  | 0.308                 | 0.475                             | 0.642                           | -                | -               |\n",
    "| Recall@k        | -                      | -                     | -                                 | -                                | 0.040           | 0.035          |\n",
    "| Precision@k     | -                      | -                     | -                                 | -                                | 0.484           | 0.107         |\n",
    "| AUC             | -                      | -                     | -                                 | -                                | 0.964           | 0.924          |\n",
    "|"
   ]
  },
  {
   "cell_type": "markdown",
   "id": "c073a891-446a-4861-9e68-0c9f2cd98eca",
   "metadata": {},
   "source": [
    "# SVD Grid Search Should Be Used to Make Movie Recommendations\n",
    "\n",
    "\n",
    "- **RMSE and MAE**: While the Grid Search SVD model demonstrates slightly lower RMSE and MAE values. This indicates the Grid model is a closer representation to what we can expect the user will rate the movies.\n",
    "\n",
    "- **NDCG**: The Grid Search SVD model excels in NDCG, achieving the highest scores across both training and testing sets. With NDCG being a critical metric for assessing recommendation list quality, this indicates that the Grid Search SVD model consistently provides more relevant and higher-ranked movie recommendations to users.\n",
    "\n",
    "\n",
    "- **Precision and Recall**: In terms of precision and recall, the Grid Search SVD model has better scores than both SVD and LightFM models. Its higher average precision and recall values imply more accurate recommendations of movies that users are likely to enjoy, while also ensuring that relevant items are not missed. This means there is a higher chance of a niche movie being recommended to a user, than in the other two models.\n",
    "\n",
    "- **F1 Score**: The Grid Search SVD model outperforms the basic SVD model in terms of F1 Score, achieving a more balanced performance between precision and recall. This model should reduce the likelihood of recommending irrelevant movies while minimizing the risk of missing out on good recommendations.\n",
    "\n",
    "### Conclusion\n",
    "The Grid Search SVD model's performed better in RMSE, MAE and NDCG, combined with its competitive performance in other key metrics, positions it as the top choice for making movie recommendations. Its ability to outperform or closely match other models in critical areas, while maintaining computational efficiency, underscores its effectiveness and versatility in recommendation systems."
   ]
  },
  {
   "cell_type": "markdown",
   "id": "d112679c-5123-45ab-b5e7-1f560ba15154",
   "metadata": {},
   "source": [
    "# Cold Start problem\n",
    "The cold start problem occurs when new users join the streaming service. Since they are new users to the service, the streaming service does not have any historical user data. This makes it challenging to personalize movie recommendations effectively. This issue is important to address because of the competition in the streaming service business. Since there are many streaming options available to a given user, it is important to provide recommendations to the new user that are useful."
   ]
  },
  {
   "cell_type": "markdown",
   "id": "c943c9bf-0b6e-4d10-8fee-b7bbfe1dcbd3",
   "metadata": {},
   "source": [
    "## Recommending Popular Movies\n",
    "\n",
    "One of the simplest strategies to address the cold start problem is by recommending highly rated movies to new users. This method leans on the assumption that movies with high average ratings and a significant number of ratings are likely to be enjoyed by a broad audience, making them safe recommendations for new users.\n",
    "\n",
    "### Starting with Popular Movies\n",
    "To find the most popular movies in the dataset, ratings were focused on. There was also a threshold created where atleast 50 users had to rate the movies. The highest rated movies in the entire dataset are listed below. These movies all had atleast 50 user ratings.\n",
    "\n",
    "## Results\n",
    "\n",
    "Based on the data from the known users, new users should be recommended the most popular movies such as 'Shawshank Redemption', 'The God Father, 'Fight Club', 'Cool Hand Luke' , and 'Dr. Strangelove or: How I Learned to Stop Worrying and Love the Bomb'.\n",
    "\n"
   ]
  },
  {
   "cell_type": "code",
   "execution_count": 66,
   "id": "8cde1c5c-19c2-4f22-a2ea-d37668f320ed",
   "metadata": {},
   "outputs": [
    {
     "name": "stdout",
     "output_type": "stream",
     "text": [
      "Index(['userId', 'movieId', 'rating', 'timestamp', 'title', 'year', 'tag',\n",
      "       'decade', 'Action', 'Adventure', 'Animation', 'Children', 'Comedy',\n",
      "       'Crime', 'Documentary', 'Drama', 'Fantasy', 'Film-Noir', 'Horror',\n",
      "       'IMAX', 'Musical', 'Mystery', 'Romance', 'Sci-Fi', 'Thriller', 'War',\n",
      "       'Western'],\n",
      "      dtype='object')\n"
     ]
    }
   ],
   "source": [
    "print(merged_df.columns)\n"
   ]
  },
  {
   "cell_type": "code",
   "execution_count": 67,
   "id": "c90dd46d-ffe2-419b-82cd-18ba8f27bc54",
   "metadata": {},
   "outputs": [
    {
     "name": "stdout",
     "output_type": "stream",
     "text": [
      "Popular Movies for New Users:\n",
      "- shawshank redemption the 1994\n",
      "- godfather the 1972\n",
      "- fight club 1999\n",
      "- cool hand luke 1967\n",
      "- dr strangelove or how i learned to stop worrying and love the bomb 1964\n",
      "- rear window 1954\n",
      "- godfather part ii the 1974\n",
      "- departed the 2006\n",
      "- goodfellas 1990\n",
      "- casablanca 1942\n"
     ]
    }
   ],
   "source": [
    "# cold start problem\n",
    "## Starting with popular movies\n",
    "popular_movies = merged_df.groupby('movieId').agg(\n",
    "    average_rating=pd.NamedAgg(column='rating', aggfunc='mean'),\n",
    "    rating_count=pd.NamedAgg(column='rating', aggfunc='count')\n",
    ").query('rating_count >= 50').sort_values(by='average_rating', ascending=False).head(20)\n",
    "\n",
    "# Map movie IDs to titles\n",
    "movie_id_to_title = merged_df[['movieId', 'title']].drop_duplicates().set_index('movieId')['title'].to_dict()\n",
    "\n",
    "# Print top 10 popular movies as initial recommendation\n",
    "print(\"Popular Movies for New Users:\")\n",
    "\n",
    "for movie_id in popular_movies.index[:10]:\n",
    "    print(f\"- {movie_id_to_title[movie_id]}\")\n"
   ]
  },
  {
   "cell_type": "markdown",
   "id": "4a24a046-a439-4517-bd40-11301ab297ab",
   "metadata": {},
   "source": [
    "## Further investigation into Popular Movies by Genre"
   ]
  },
  {
   "cell_type": "markdown",
   "id": "caefa269-8a79-41b3-95a5-fc2c1b44320e",
   "metadata": {},
   "source": [
    "This model identifies movies within each genre that have at least 50 ratings and then selects the top 3 highest-rated movies for each genre. It focuses on recommending the top-rated movies within each genre based on user ratings. This approach ensures that users are presented with the most highly regarded movies across various genres, enhancing their selection options without needing to specify their preferred genre in advance.\n"
   ]
  },
  {
   "cell_type": "code",
   "execution_count": 68,
   "id": "d038a9b9-31c0-452b-b1bc-fb04b1888df1",
   "metadata": {},
   "outputs": [
    {
     "name": "stdout",
     "output_type": "stream",
     "text": [
      "\n",
      "Top 3 Action Movies:\n",
      "- fight club 1999 (Rating: 4.27)\n",
      "- dark knight the 2008 (Rating: 4.24)\n",
      "- princess bride the 1987 (Rating: 4.23)\n",
      "\n",
      "Top 3 Adventure Movies:\n",
      "- princess bride the 1987 (Rating: 4.23)\n",
      "- star wars episode iv  a new hope 1977 (Rating: 4.23)\n",
      "- star wars episode v  the empire strikes back 1980 (Rating: 4.22)\n",
      "\n",
      "Top 3 Animation Movies:\n",
      "- spirited away sen to chihiro no kamikakushi 2001 (Rating: 4.16)\n",
      "- toy story 3 2010 (Rating: 4.11)\n",
      "- walle 2008 (Rating: 4.06)\n",
      "\n",
      "Top 3 Children Movies:\n",
      "- toy story 3 2010 (Rating: 4.11)\n",
      "- walle 2008 (Rating: 4.06)\n",
      "- wallace  gromit the wrong trousers 1993 (Rating: 4.04)\n",
      "\n",
      "Top 3 Comedy Movies:\n",
      "- dr strangelove or how i learned to stop worrying and love the bomb 1964 (Rating: 4.27)\n",
      "- princess bride the 1987 (Rating: 4.23)\n",
      "- pulp fiction 1994 (Rating: 4.20)\n",
      "\n",
      "Top 3 Crime Movies:\n",
      "- shawshank redemption the 1994 (Rating: 4.43)\n",
      "- godfather the 1972 (Rating: 4.29)\n",
      "- fight club 1999 (Rating: 4.27)\n",
      "\n",
      "Top 3 Documentary Movies:\n",
      "- bowling for columbine 2002 (Rating: 3.78)\n",
      "- super size me 2004 (Rating: 3.51)\n",
      "\n",
      "Top 3 Drama Movies:\n",
      "- shawshank redemption the 1994 (Rating: 4.43)\n",
      "- godfather the 1972 (Rating: 4.29)\n",
      "- fight club 1999 (Rating: 4.27)\n",
      "\n",
      "Top 3 Fantasy Movies:\n",
      "- princess bride the 1987 (Rating: 4.23)\n",
      "- brazil 1985 (Rating: 4.18)\n",
      "- monty python and the holy grail 1975 (Rating: 4.16)\n",
      "\n",
      "Top 3 Film-Noir Movies:\n",
      "- chinatown 1974 (Rating: 4.21)\n",
      "- la confidential 1997 (Rating: 4.06)\n",
      "- sin city 2005 (Rating: 3.86)\n",
      "\n",
      "Top 3 Horror Movies:\n",
      "- silence of the lambs the 1991 (Rating: 4.16)\n",
      "- shining the 1980 (Rating: 4.08)\n",
      "- army of darkness 1993 (Rating: 4.04)\n",
      "\n",
      "Top 3 IMAX Movies:\n",
      "- dark knight the 2008 (Rating: 4.24)\n",
      "- toy story 3 2010 (Rating: 4.11)\n",
      "- inception 2010 (Rating: 4.07)\n",
      "\n",
      "Top 3 Musical Movies:\n",
      "- lion king the 1994 (Rating: 3.94)\n",
      "- sound of music the 1965 (Rating: 3.94)\n",
      "- mary poppins 1964 (Rating: 3.89)\n",
      "\n",
      "Top 3 Mystery Movies:\n",
      "- rear window 1954 (Rating: 4.26)\n",
      "- usual suspects the 1995 (Rating: 4.24)\n",
      "- chinatown 1974 (Rating: 4.21)\n",
      "\n",
      "Top 3 Romance Movies:\n",
      "- casablanca 1942 (Rating: 4.24)\n",
      "- princess bride the 1987 (Rating: 4.23)\n",
      "- north by northwest 1959 (Rating: 4.18)\n",
      "\n",
      "Top 3 Sci-Fi Movies:\n",
      "- star wars episode iv  a new hope 1977 (Rating: 4.23)\n",
      "- star wars episode v  the empire strikes back 1980 (Rating: 4.22)\n",
      "- matrix the 1999 (Rating: 4.19)\n",
      "\n",
      "Top 3 Thriller Movies:\n",
      "- fight club 1999 (Rating: 4.27)\n",
      "- rear window 1954 (Rating: 4.26)\n",
      "- departed the 2006 (Rating: 4.25)\n",
      "\n",
      "Top 3 War Movies:\n",
      "- dr strangelove or how i learned to stop worrying and love the bomb 1964 (Rating: 4.27)\n",
      "- schindlers list 1993 (Rating: 4.22)\n",
      "- apocalypse now 1979 (Rating: 4.22)\n",
      "\n",
      "Top 3 Western Movies:\n",
      "- good the bad and the ugly the buono il brutto il cattivo il 1966 (Rating: 4.15)\n",
      "- django unchained 2012 (Rating: 3.94)\n",
      "- butch cassidy and the sundance kid 1969 (Rating: 3.94)\n"
     ]
    }
   ],
   "source": [
    "import pandas as pd\n",
    "\n",
    "# aggregate the ratings for each movie and calculate the average rating and rating count\n",
    "movie_ratings = merged_df.groupby('movieId').agg(\n",
    "    average_rating=pd.NamedAgg(column='rating', aggfunc='mean'),\n",
    "    rating_count=pd.NamedAgg(column='rating', aggfunc='count')\n",
    ").reset_index()\n",
    "\n",
    "# Merge back with merged_df to get genre information for each movie\n",
    "movie_info = pd.merge(movie_ratings, merged_df.drop_duplicates('movieId'), on='movieId')\n",
    "\n",
    "# Filter movies with at least 50 ratings to ensure popularity\n",
    "# Correction here: added the missing closing quote around the query string.\n",
    "popular_movies = movie_info.query('rating_count >= 50')\n",
    "\n",
    "# For each genre, find the top 3 movies based on average rating\n",
    "genre_columns = ['Action', 'Adventure', 'Animation', 'Children', 'Comedy', 'Crime', 'Documentary', 'Drama',\n",
    "                 'Fantasy', 'Film-Noir', 'Horror', 'IMAX', 'Musical', 'Mystery', 'Romance', 'Sci-Fi',\n",
    "                 'Thriller', 'War', 'Western']\n",
    "\n",
    "top_movies_by_genre = {}\n",
    "for genre in genre_columns:\n",
    "    top_movies = popular_movies[popular_movies[genre] == 1].sort_values(by='average_rating', ascending=False).head(3)\n",
    "    top_movies_by_genre[genre] = top_movies[['title', 'average_rating']]\n",
    "\n",
    "# Display top 3 movies for a selection of genres\n",
    "for genre, movies in top_movies_by_genre.items():\n",
    "    if not movies.empty:\n",
    "        print(f\"\\nTop 3 {genre} Movies:\")\n",
    "        for _, row in movies.iterrows():\n",
    "            print(f\"- {row['title']} (Rating: {row['average_rating']:.2f})\")\n",
    "\n"
   ]
  },
  {
   "cell_type": "markdown",
   "id": "0d2e25d0-f3cb-49f8-807e-7fa67fde4b21",
   "metadata": {},
   "source": [
    "## Kmeans Modeling for Cold Start Problem\n"
   ]
  },
  {
   "cell_type": "markdown",
   "id": "5a046bc8-c47b-4973-bb62-93179ca3856a",
   "metadata": {},
   "source": [
    "## Movie Clustering Analysis\n",
    "In this analysis, clustering techniques are applied to group movies based on their genre features. This approach can be useful for various purposes, such as understanding movie similarities, and grouping them together.\n",
    "\n",
    "\n",
    "KMeans Clustering: The KMeans algorithm is employed to cluster movies into different groups based on their genre features. Initially, 10 clusters are created.\n",
    "\n",
    "Data Preparation and Clustering\n",
    "\n",
    "Data Extraction: Genre features are extracted from the dataset, representing whether each movie belongs to specific genres.\n",
    "Sparse Matrix Conversion: Genre features are converted into a sparse matrix format suitable for clustering algorithms.\n",
    "\n",
    "Cluster Analysis\n",
    "Initial Clustering: The movies are initially clustered into 10 groups. Visualization techniques like PCA are used to analyze and visualize the clusters in a 2D space. Based on the graph there seemed to be some overlap. A technique called the elbow method was used to reduce clustering, and to find the optimal amount of clusters for this database. \n",
    "\n",
    "## Elbow Method\n",
    "The elbow method was used to determine the optimal number of clusters. A plot is generated showing the within-cluster sum of squares for different numbers of clusters. Based on the graph the optimal amount of clusters should be around 4-6.\n",
    "\n",
    "Updated Clustering: Based on the elbow method analysis, the number of clusters is updated to 4, and the clustering process is repeated.\n",
    "\n",
    "Interpretation and Visualization\n",
    "Cluster Interpretation: Top movies within each cluster are identified based on average ratings from the entire dataset. These movies serve as representatives of each cluster.\n",
    "\n",
    "Cluster Visualization: The final clusters are visualized in a 2D space using PCA, providing insights into the distribution and separation of movies in different clusters.\n",
    "\n",
    "Results and Recommendations\n",
    "The clustering analysis reveals distinct groups of movies based on their genre features.\n",
    "Recommendations for new users can be tailored based on the identified clusters, suggesting movies similar to those already popular within each cluster.\n"
   ]
  },
  {
   "cell_type": "code",
   "execution_count": 69,
   "id": "b952ee95-ef5d-4aeb-b9b4-668c91ebeb9f",
   "metadata": {},
   "outputs": [],
   "source": [
    "import copy\n",
    "from scipy.sparse import csr_matrix\n",
    "from sklearn.cluster import KMeans\n",
    "import pandas as pd  # If not imported already\n",
    "import matplotlib.pyplot as plt  \n",
    "\n"
   ]
  },
  {
   "cell_type": "code",
   "execution_count": 70,
   "id": "ca83bcec-1e50-4d15-ad9e-128936e78e60",
   "metadata": {},
   "outputs": [
    {
     "name": "stderr",
     "output_type": "stream",
     "text": [
      "/Users/jguzzo522/anaconda3/envs/learn-env/lib/python3.8/site-packages/sklearn/cluster/_kmeans.py:1416: FutureWarning: The default value of `n_init` will change from 10 to 'auto' in 1.4. Set the value of `n_init` explicitly to suppress the warning\n",
      "  super()._check_params_vs_input(X, default_n_init=10)\n"
     ]
    },
    {
     "name": "stdout",
     "output_type": "stream",
     "text": [
      "                      title  cluster\n",
      "6      seven aka se7en 1995        8\n",
      "9   usual suspects the 1995        8\n",
      "16       bottle rocket 1996        1\n",
      "29             rob roy 1995        4\n",
      "30      canadian bacon 1995        2\n"
     ]
    }
   ],
   "source": [
    "import copy\n",
    "from scipy.sparse import csr_matrix\n",
    "from sklearn.cluster import KMeans\n",
    "import pandas as pd\n",
    "import matplotlib.pyplot as plt\n",
    "\n",
    "\n",
    "# Save the original DataFrame\n",
    "original_merged_df = copy.deepcopy(merged_df)\n",
    "\n",
    "# Filter out movies with fewer than 50 ratings\n",
    "merged_df = merged_df[merged_df['rating'] >= 5]\n",
    "\n",
    "# Deep copy 'merged_df' to 'original_merged_df'\n",
    "original_merged_df = copy.deepcopy(merged_df)\n",
    "\n",
    "# Extract genre features and convert them to a sparse matrix\n",
    "genre_features = original_merged_df.loc[:, 'Action':'Western']\n",
    "genre_features_sparse = csr_matrix(genre_features.values)\n",
    "\n",
    "# Initialize and fit KMeans\n",
    "kmeans = KMeans(n_clusters=10, random_state=42)\n",
    "clusters = kmeans.fit_predict(genre_features_sparse)\n",
    "\n",
    "# Assign cluster labels back to the original DataFrame\n",
    "original_merged_df['cluster'] = clusters\n",
    "\n",
    "print(original_merged_df[['title', 'cluster']].head())\n",
    "\n"
   ]
  },
  {
   "cell_type": "code",
   "execution_count": 71,
   "id": "d9f22c7b-d9c7-4d39-90a0-056a85d42451",
   "metadata": {},
   "outputs": [
    {
     "name": "stderr",
     "output_type": "stream",
     "text": [
      "/Users/jguzzo522/anaconda3/envs/learn-env/lib/python3.8/site-packages/sklearn/cluster/_kmeans.py:1416: FutureWarning: The default value of `n_init` will change from 10 to 'auto' in 1.4. Set the value of `n_init` explicitly to suppress the warning\n",
      "  super()._check_params_vs_input(X, default_n_init=10)\n"
     ]
    },
    {
     "name": "stdout",
     "output_type": "stream",
     "text": [
      "                      title  cluster\n",
      "6      seven aka se7en 1995        8\n",
      "9   usual suspects the 1995        8\n",
      "16       bottle rocket 1996        1\n",
      "29             rob roy 1995        4\n",
      "30      canadian bacon 1995        2\n"
     ]
    }
   ],
   "source": [
    "import copy\n",
    "from scipy.sparse import csr_matrix\n",
    "from sklearn.cluster import KMeans\n",
    "\n",
    "#deep copy 'merged_df' to 'original_merged_df'\n",
    "original_merged_df = copy.deepcopy(merged_df)\n",
    "\n",
    "# Extract genre features and convert them to a sparse matrix\n",
    "genre_features = original_merged_df.loc[:, 'Action':'Western']\n",
    "genre_features_sparse = csr_matrix(genre_features.values)\n",
    "\n",
    "# Initialize and fit KMeans\n",
    "kmeans = KMeans(n_clusters=10, random_state=42)\n",
    "clusters = kmeans.fit_predict(genre_features_sparse)\n",
    "\n",
    "# Assign cluster labels back to the original DataFrame\n",
    "original_merged_df['cluster'] = clusters\n",
    "\n",
    "\n",
    "print(original_merged_df[['title', 'cluster']].head())\n",
    "\n",
    "\n"
   ]
  },
  {
   "cell_type": "code",
   "execution_count": 72,
   "id": "3168bc59-aac6-4b4b-9752-b2ce67281a91",
   "metadata": {},
   "outputs": [
    {
     "name": "stderr",
     "output_type": "stream",
     "text": [
      "/Users/jguzzo522/anaconda3/envs/learn-env/lib/python3.8/site-packages/sklearn/cluster/_kmeans.py:1416: FutureWarning: The default value of `n_init` will change from 10 to 'auto' in 1.4. Set the value of `n_init` explicitly to suppress the warning\n",
      "  super()._check_params_vs_input(X, default_n_init=10)\n"
     ]
    },
    {
     "name": "stdout",
     "output_type": "stream",
     "text": [
      "Top 5 Movies in Cluster 0:\n",
      "- babe 1995 (Rating: 5.00)\n",
      "- amadeus 1984 (Rating: 5.00)\n",
      "- requiem for a dream 2000 (Rating: 5.00)\n",
      "- green mile the 1999 (Rating: 5.00)\n",
      "- sixth sense the 1999 (Rating: 5.00)\n"
     ]
    },
    {
     "name": "stderr",
     "output_type": "stream",
     "text": [
      "/var/folders/6j/s4t4t49n5ns3bwtzvg_ys6xw0000gn/T/ipykernel_54606/3018543615.py:18: SettingWithCopyWarning: \n",
      "A value is trying to be set on a copy of a slice from a DataFrame.\n",
      "Try using .loc[row_indexer,col_indexer] = value instead\n",
      "\n",
      "See the caveats in the documentation: https://pandas.pydata.org/pandas-docs/stable/user_guide/indexing.html#returning-a-view-versus-a-copy\n",
      "  filtered_df['cluster'] = clusters\n"
     ]
    }
   ],
   "source": [
    "\n",
    "# First, filter out movies with fewer than 20 ratings\n",
    "movie_ratings_count = merged_df.groupby('movieId').size()\n",
    "movies_with_enough_ratings = movie_ratings_count[movie_ratings_count >= 20].index\n",
    "\n",
    "# Filter your original DataFrame to include only movies with at least 20 ratings\n",
    "filtered_df = merged_df[merged_df['movieId'].isin(movies_with_enough_ratings)]\n",
    "\n",
    "\n",
    "# Extract genre features from the filtered DataFrame and convert them to a sparse matrix\n",
    "genre_features = filtered_df.loc[:, 'Action':'Western']\n",
    "genre_features_sparse = csr_matrix(genre_features.values)\n",
    "\n",
    "# Initialize and fit KMeans with the sparse matrix of genres\n",
    "kmeans = KMeans(n_clusters=10, random_state=42)\n",
    "clusters = kmeans.fit_predict(genre_features_sparse)\n",
    "\n",
    "# Assign cluster labels back to the filtered DataFrame\n",
    "filtered_df['cluster'] = clusters\n",
    "\n",
    "# Group by movieId and cluster, then calculate the average rating\n",
    "avg_rating_df = filtered_df.groupby(['movieId', 'cluster']).rating.mean().reset_index()\n",
    "avg_rating_df.columns = ['movieId', 'cluster', 'average_rating']\n",
    "\n",
    "# Choose a cluster to analyze\n",
    "selected_cluster = 0\n",
    "top_movies_in_cluster = avg_rating_df[avg_rating_df['cluster'] == selected_cluster].sort_values(\n",
    "    by='average_rating', ascending=False\n",
    ").head(5)\n",
    "\n",
    "print(f\"Top 5 Movies in Cluster {selected_cluster}:\")\n",
    "for _, row in top_movies_in_cluster.iterrows():\n",
    "    movie_title = movie_id_to_title.get(row['movieId'], \"Unknown Title\")\n",
    "    print(f\"- {movie_title} (Rating: {row['average_rating']:.2f})\")\n"
   ]
  },
  {
   "cell_type": "code",
   "execution_count": 73,
   "id": "3c46fcb9-8ecb-43f5-8d82-fec2375498f0",
   "metadata": {},
   "outputs": [
    {
     "name": "stderr",
     "output_type": "stream",
     "text": [
      "/Users/jguzzo522/anaconda3/envs/learn-env/lib/python3.8/site-packages/sklearn/cluster/_kmeans.py:1416: FutureWarning: The default value of `n_init` will change from 10 to 'auto' in 1.4. Set the value of `n_init` explicitly to suppress the warning\n",
      "  super()._check_params_vs_input(X, default_n_init=10)\n"
     ]
    },
    {
     "data": {
      "image/png": "[encoded data removed]",
      "text/plain": [
       "<Figure size 1000x800 with 1 Axes>"
      ]
     },
     "metadata": {},
     "output_type": "display_data"
    }
   ],
   "source": [
    "# Calculate the within-cluster sum of squares for different numbers of clusters\n",
    "inertia = []\n",
    "for n_clusters in range(1, 20):\n",
    "    kmeans = KMeans(n_clusters=n_clusters, random_state=42)\n",
    "    kmeans.fit(genre_features_sparse)\n",
    "    inertia.append(kmeans.inertia_)\n",
    "\n",
    "# Plot the elbow curve\n",
    "plt.figure(figsize=(10, 8))\n",
    "plt.plot(range(1, 20), inertia, marker='o')\n",
    "plt.title('Elbow Method For Optimal k')\n",
    "plt.xlabel('Number of clusters')\n",
    "plt.ylabel('Within-cluster sum of squares (Inertia)')\n",
    "plt.xticks(range(1, 20))\n",
    "plt.grid(True)\n",
    "plt.show()"
   ]
  },
  {
   "cell_type": "code",
   "execution_count": 74,
   "id": "f0cc8dfe-1205-4551-911b-d6a0cf373255",
   "metadata": {},
   "outputs": [],
   "source": [
    "# Re-create the sparse matrix from the original DataFrame\n",
    "genre_features_sparse = csr_matrix(original_merged_df.loc[:, 'Action':'Western'].values)\n",
    "\n",
    "# Now run KMeans with the updated number of clusters\n",
    "kmeans_updated = KMeans(n_clusters=4, random_state=42)\n",
    "clusters_updated = kmeans_updated.fit_predict(genre_features_sparse)\n",
    "\n",
    "# Update the cluster labels in the original DataFrame\n",
    "original_merged_df['cluster'] = clusters_updated\n"
   ]
  },
  {
   "cell_type": "code",
   "execution_count": 87,
   "id": "3e40d25e-0383-4409-99fa-1f86795005c9",
   "metadata": {},
   "outputs": [
    {
     "data": {
      "image/png": "[encoded data removed]",
      "text/plain": [
       "<Figure size 1000x800 with 1 Axes>"
      ]
     },
     "metadata": {},
     "output_type": "display_data"
    }
   ],
   "source": [
    "from sklearn.decomposition import PCA\n",
    "import matplotlib.pyplot as plt\n",
    "import numpy as np\n",
    "\n",
    "pca = PCA(n_components=2)\n",
    "reduced_features = pca.fit_transform(genre_features_sparse.toarray())\n",
    "\n",
    "# Plot the reduced features colored by their cluster\n",
    "plt.figure(figsize=(10, 8))\n",
    "\n",
    "for cluster in np.unique(clusters_updated):\n",
    "    cluster_indices = np.where(clusters_updated == cluster)[0]\n",
    "    plt.scatter(reduced_features[cluster_indices, 0], reduced_features[cluster_indices, 1], label=f'Cluster {cluster}', alpha=0.5, edgecolor='k')\n",
    "\n",
    "plt.xlabel('Genre')\n",
    "plt.ylabel('Rating')\n",
    "plt.title('Movie Clusters Based on Genres (4 Clusters)')\n",
    "plt.legend()\n",
    "plt.tight_layout()\n",
    "plt.show()\n"
   ]
  },
  {
   "cell_type": "markdown",
   "id": "e61d90fe-765b-4cdb-b09e-d2fed6afae89",
   "metadata": {},
   "source": [
    "## Exploring the 4 Movie Clusters \n",
    "\n",
    "Centroid values indicate the strength of association in a cluster. High values closer to 1 represent a strong association. \n",
    "\n",
    "Cluster 0: Adventure Child Friendly Movies\n",
    "\n",
    "This cluster is strongly associated with Adventure (0.73) and Children (0.73) movies. The cluster also has strong connections with Fantasy (0.60), Animation (0.58) and Comedy(0.56) genres. \n",
    "\n",
    "\n",
    "Cluster 1: Dramatic Movies\n",
    "\n",
    "This cluster is strongly associated with Drama (0.82). It has a smaller association with Thrillers (0.35), and Crime (0.25)\n",
    "\n",
    "Cluster 2: Comedy and Romance\n",
    "\n",
    "This cluster has a very strong association with Comedies (0.99). This cluster also as an association with Romance (0.33), and Drama (0.29).\n",
    "\n",
    "\n",
    "Cluster 3: Thrilling Action Movies\n",
    "\n",
    "This Cluster has a strong association with Action (0.92) movies. It also has a strong connection to Adventure (0.52), Sci-Fi (0.52), and Thriller (0.51).\n"
   ]
  },
  {
   "cell_type": "code",
   "execution_count": 76,
   "id": "0515855b-770d-4b7e-a18c-816aa699de6c",
   "metadata": {},
   "outputs": [
    {
     "name": "stdout",
     "output_type": "stream",
     "text": [
      "     Action  Adventure  Animation  Children    Comedy     Crime  Documentary  \\\n",
      "0  0.052326   0.133721   0.156712  0.160148  0.960888  0.101744     0.006342   \n",
      "1  0.122974   0.071778   0.035503  0.055055  0.000000  0.187291     0.032930   \n",
      "2  0.726381   0.842297   0.089753  0.087209  0.169331  0.018169     0.000363   \n",
      "3  0.386691   0.016906   0.002518  0.000360  0.117626  0.548201     0.000000   \n",
      "\n",
      "      Drama   Fantasy  Film-Noir    Horror      IMAX   Musical   Mystery  \\\n",
      "0  0.311575  0.162791   0.000793  0.027220  0.017178  0.105444  0.012949   \n",
      "1  0.933625  0.041935   0.011320  0.040906  0.039105  0.032930  0.045536   \n",
      "2  0.118459  0.250727   0.002544  0.062137  0.092297  0.019985  0.030887   \n",
      "3  0.437050  0.017626   0.045324  0.121942  0.031295  0.000719  0.293885   \n",
      "\n",
      "    Romance    Sci-Fi  Thriller       War   Western  \n",
      "0  0.332452  0.018763  0.014271  0.067389  0.008192  \n",
      "1  0.199125  0.040134  0.010548  0.171083  0.041420  \n",
      "2  0.082485  0.495640  0.174782  0.022529  0.033430  \n",
      "3  0.044964  0.211871  0.967626  0.011871  0.003957  \n"
     ]
    }
   ],
   "source": [
    "#centroids of the clusters\n",
    "centroids = kmeans_updated.cluster_centers_\n",
    "\n",
    "#  genre distribution of the centroids:\n",
    "centroid_genre_distribution = pd.DataFrame(centroids, columns=genre_features.columns)\n",
    "print(centroid_genre_distribution)\n",
    "\n"
   ]
  },
  {
   "cell_type": "code",
   "execution_count": 77,
   "id": "7b35b2db-9c35-4aaf-beeb-bbfae165eb6d",
   "metadata": {},
   "outputs": [
    {
     "name": "stdout",
     "output_type": "stream",
     "text": [
      "Top Movies in Cluster 0:\n",
      "title\n",
      "zoolander 2001                                              5.0\n",
      "george carlin its bad for ya 2008                           5.0\n",
      "girl who leapt through time the toki o kakeru shôjo 2006    5.0\n",
      "girl next door the 2004                                     5.0\n",
      "ghostbusters ii 1989                                        5.0\n",
      "ghost world 2001                                            5.0\n",
      "ghost graduation 2012                                       5.0\n",
      "ghost 1990                                                  5.0\n",
      "get smart 2008                                              5.0\n",
      "get low 2009                                                5.0\n",
      "Name: rating, dtype: float64\n",
      "\n",
      "Top Movies in Cluster 1:\n",
      "title\n",
      "zulu 1964                                   5.0\n",
      "gangs of new york 2002                      5.0\n",
      "gallipoli 1981                              5.0\n",
      "funny girl 1968                             5.0\n",
      "full metal jacket 1987                      5.0\n",
      "front of the class 2008                     5.0\n",
      "from here to eternity 1953                  5.0\n",
      "friday the 13th part vi jason lives 1986    5.0\n",
      "freedom writers 2007                        5.0\n",
      "frankenstein 1931                           5.0\n",
      "Name: rating, dtype: float64\n",
      "\n",
      "Top Movies in Cluster 2:\n",
      "title\n",
      "zootopia 2016                                                                            5.0\n",
      "firewalker 1986                                                                          5.0\n",
      "first strike police story 4 first strike ging chaat goo si 4 ji gaan daan yam mo 1996    5.0\n",
      "fistful of dollars a per un pugno di dollari 1964                                        5.0\n",
      "flash gordon 1980                                                                        5.0\n",
      "flipper 1996                                                                             5.0\n",
      "fly away home 1996                                                                       5.0\n",
      "for your eyes only 1981                                                                  5.0\n",
      "from russia with love 1963                                                               5.0\n",
      "galaxy of terror quest 1981                                                              5.0\n",
      "Name: rating, dtype: float64\n",
      "\n",
      "Top Movies in Cluster 3:\n",
      "title\n",
      "zodiac 2007                      5.0\n",
      "fly the 1986                     5.0\n",
      "eyes wide shut 1999              5.0\n",
      "faceoff 1997                     5.0\n",
      "fallen 1998                      5.0\n",
      "fan the 1996                     5.0\n",
      "fargo 1996                       5.0\n",
      "fast and the furious the 2001    5.0\n",
      "fatal attraction 1987            5.0\n",
      "fear 1996                        5.0\n",
      "Name: rating, dtype: float64\n",
      "\n"
     ]
    }
   ],
   "source": [
    "\n",
    "if 'cluster' in original_merged_df.columns and 'rating' in original_merged_df.columns and 'title' in original_merged_df.columns:\n",
    "    # Find top-rated movies in each cluster\n",
    "    for cluster_num in range(kmeans_updated.n_clusters):\n",
    "        # Filter the DataFrame for the current cluster\n",
    "        top_movies = original_merged_df[original_merged_df['cluster'] == cluster_num]\n",
    "\n",
    "        # Group by title, calculate the mean rating, and sort the movies by rating\n",
    "        top_movies = top_movies.groupby('title')['rating'].mean().sort_values(ascending=False).head(10)\n",
    "        \n",
    "        print(f\"Top Movies in Cluster {cluster_num}:\\n{top_movies}\\n\")\n",
    "else:\n",
    "    print(\"One or more required columns are missing in the DataFrame. Please check the DataFrame structure.\")\n",
    "\n",
    "\n"
   ]
  },
  {
   "cell_type": "code",
   "execution_count": 78,
   "id": "e162dd7e-bb31-47a5-8ff5-f5166e4faff5",
   "metadata": {},
   "outputs": [
    {
     "data": {
      "image/png": "[encoded data removed]",
      "text/plain": [
       "<Figure size 1000x600 with 1 Axes>"
      ]
     },
     "metadata": {},
     "output_type": "display_data"
    },
    {
     "data": {
      "image/png": "[encoded data removed]",
      "text/plain": [
       "<Figure size 1000x600 with 1 Axes>"
      ]
     },
     "metadata": {},
     "output_type": "display_data"
    },
    {
     "data": {
      "image/png": "[encoded data removed]",
      "text/plain": [
       "<Figure size 1000x600 with 1 Axes>"
      ]
     },
     "metadata": {},
     "output_type": "display_data"
    },
    {
     "data": {
      "image/png": "[encoded data removed]",
      "text/plain": [
       "<Figure size 1000x600 with 1 Axes>"
      ]
     },
     "metadata": {},
     "output_type": "display_data"
    }
   ],
   "source": [
    "import seaborn as sns\n",
    "import matplotlib.pyplot as plt\n",
    "\n",
    "for cluster_num in range(kmeans_updated.n_clusters):\n",
    "    plt.figure(figsize=(10, 6))\n",
    "    sns.barplot(x=centroid_genre_distribution.columns, y=centroid_genre_distribution.iloc[cluster_num], palette=\"viridis\")\n",
    "    plt.title(f'Genre distribution for Cluster {cluster_num}')\n",
    "    plt.xticks(rotation=90)\n",
    "    plt.ylabel('Average')\n",
    "    plt.show()\n"
   ]
  },
  {
   "cell_type": "markdown",
   "id": "dbf04493-e1bf-43c1-b609-fb1ee6bfd7ad",
   "metadata": {},
   "source": [
    "# Conclusions"
   ]
  },
  {
   "cell_type": "markdown",
   "id": "81ed7c67-e373-41e1-b288-21a4433d22da",
   "metadata": {},
   "source": [
    "## Model Evaluation\n",
    "The streaming service should leverage the SVD Grid Search methodology for making movie recommendations to existing users. This approach has demonstrated the optimal balance between precision and recall, ensuring that the model recommends movies that users are likely to enjoy while avoiding the mistake of suggesting poorly rated movies under the assumption that they would be highly rated. The SVD Grid Search model exhibits higher accuracy compared to the basic SVD model, and most importantly the Grid Search has the best NDCG rating. This rating indicates that the Grid Search model provides the most relevant, and highly-ranked movies for top recommendations. \n",
    "\n",
    "To address the cold start problem, the streaming service should also consider K-Means Clustering as a powerful resource. Given that the cold start problem primarily affects new users for whom there is limited or no prior rating information available, K-Means clustering enables movie recommendations on multiple fronts. Each cluster has different types of movies, and genres but are all falling in a similar cluster. The User themselves, can select which cluster they prefer, and then choose a movie of their liking. By clustering movies based on various features, the system can offer initial recommendations to new users based on the characteristics of similar groups of movies. This approach effectively mitigates the cold start problem by providing relevant recommendations even in the absence of explicit user ratings.\n",
    "\n",
    "Additionally, alongside K-Means clustering, the streaming service could implement a 'Popularity-Based Method' to offer popular movies to new users. By creating a list of the highest-rated movies from the dataset, known as the 'Highest Rated Movies' list, new users can explore and select movies of interest. Also, using this method, the service can easily create subcategories to recommend popular movies by genre. This approach allows users to discover movies across different genres and select the ones that align with their preferences, even without prior knowledge of their favorite genres.\n",
    "\n",
    "Overall, by integrating both the SVD Grid Search methodology and K-Means clustering along with a Popularity-Based Method, the streaming service can provide comprehensive and tailored movie recommendations to both existing and new users, enhancing the overall user experience."
   ]
  },
  {
   "cell_type": "raw",
   "id": "1a5836a4-3906-4aa5-8713-27d659317feb",
   "metadata": {},
   "source": [
    "### Limitations and Next Steps\n",
    "\n",
    "The SVD Grid Search method has several limitations. One such drawback is the significant time required for data analysis. The initial grid search process can be extremely time-consuming as it explores various parameter combinations to determine the optimal parameters for the SVD model. However, once the initial grid search is completed and the optimal parameters are selected, the model's performance is comparable to that of the regular SVD model.\n",
    "\n",
    "Due to these limitations, certain features such as 'tags' or 'decade' were not fully analyzed. This data set also had no information about specific user data. One potential area of interest could be age, which was not considered in the analysis. Incorporating demographic information could be crucial, as user preferences may vary based on factors such as age. For instance, younger users may prefer children's movies, whereas older users without young children may prefer dramas or action movies.\n",
    "\n",
    "Additionally, limitations for the clustering analysis for the cold start problem include solely analyzing genre and movie rating data. Furthermore, some movies have multiple genres, and only the most relevant genre was assigned to each movie during the analysis, which could impact clustering results. Further analysis could involve combining tags and genres to provide more in-depth insights into the types of movies within each cluster. Similarly, similar to the limitations of the SVD Grid Search method, gathering information about new users such as age, marital status, children status, and occupation could enhance the clustering analysis by providing additional context for movie recommendations. "
   ]
  },
  {
   "cell_type": "markdown",
   "id": "5fc69233-1ca8-4ab0-a24d-33c0fcd46639",
   "metadata": {},
   "source": [
    "# Recommendations"
   ]
  },
  {
   "cell_type": "markdown",
   "id": "3fb62bb5-a934-4c67-8b56-f230763dd574",
   "metadata": {},
   "source": [
    "To effectively produce movie recommendations that users will enjoy, the streaming service  should use SVD Grid Search modeling. This approach focuses on NDCG, while also analyzing RMSE and MAE as key metrics to fine-tune the recommendation accuracy, which should allow for users to enjoy the movies, and the streaming service.\n",
    "\n",
    "To address the challenge of recommending movies to new users with no prior viewing history (the cold start problem), it is recommended to implement a 'Popularity-Based Method' initially. This method involves suggesting highly-rated movies to new users, increasing the likelihood that they will enjoy their initial selections. Additionally, implementing movie clustering can further aid in tackling the cold start problem by grouping similar movies together, thereby offering relevant recommendations based on popular or trending movie clusters.  \n",
    "\n",
    "Once the new user starts watching these movie recommendations, it is important to follow up and adjust the recommendations based on their individual preferences. Switching them from the K-Means or popularity based method, to the Grid search method. "
   ]
  },
  {
   "cell_type": "markdown",
   "id": "4b4c3732-770b-44b4-8cae-6c1b27899ad4",
   "metadata": {},
   "source": [
    "# Repo Structure\n",
    "├── gitgnore\n",
    "\n",
    "├── [README.md](README.md)\n",
    "\n",
    "├── [movierec notebook](movierecnotebook.ipynb).\n",
    "\n",
    "└── [movierecslides.pdf](https://github.com/jguzzo522/movierec/blob/main/movierecslides.pdf)"
   ]
  },
  {
   "cell_type": "code",
   "execution_count": null,
   "id": "93f07374-0224-4dfa-a094-23fd76f881c3",
   "metadata": {},
   "outputs": [],
   "source": []
  }
 ],
 "metadata": {
  "kernelspec": {
   "display_name": "Python 3 (ipykernel)",
   "language": "python",
   "name": "python3"
  },
  "language_info": {
   "codemirror_mode": {
    "name": "ipython",
    "version": 3
   },
   "file_extension": ".py",
   "mimetype": "text/x-python",
   "name": "python",
   "nbconvert_exporter": "python",
   "pygments_lexer": "ipython3",
   "version": "3.8.18"
  }
 },
 "nbformat": 4,
 "nbformat_minor": 5
}
