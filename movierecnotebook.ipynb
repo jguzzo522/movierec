{
 "cells": [
  {
   "cell_type": "markdown",
   "id": "eac12876-6503-4ddd-814a-ec7227bcd01d",
   "metadata": {},
   "source": [
    "# Business Understanding\n"
   ]
  },
  {
   "cell_type": "markdown",
   "id": "c1ced891-2be2-4ebe-9064-0ee947b42096",
   "metadata": {},
   "source": [
    "# Data Understanding"
   ]
  },
  {
   "cell_type": "code",
   "execution_count": 4,
   "id": "ca26e06e-bdcf-42c5-8588-8034b1290205",
   "metadata": {},
   "outputs": [
    {
     "name": "stdout",
     "output_type": "stream",
     "text": [
      "DataFrame: movies, Number of Rows: 9742\n",
      "   movieId                               title  \\\n",
      "0        1                    Toy Story (1995)   \n",
      "1        2                      Jumanji (1995)   \n",
      "2        3             Grumpier Old Men (1995)   \n",
      "3        4            Waiting to Exhale (1995)   \n",
      "4        5  Father of the Bride Part II (1995)   \n",
      "\n",
      "                                        genres  \n",
      "0  Adventure|Animation|Children|Comedy|Fantasy  \n",
      "1                   Adventure|Children|Fantasy  \n",
      "2                               Comedy|Romance  \n",
      "3                         Comedy|Drama|Romance  \n",
      "4                                       Comedy  \n",
      "\n",
      "\n",
      "DataFrame: links, Number of Rows: 9742\n",
      "   movieId  imdbId   tmdbId\n",
      "0        1  114709    862.0\n",
      "1        2  113497   8844.0\n",
      "2        3  113228  15602.0\n",
      "3        4  114885  31357.0\n",
      "4        5  113041  11862.0\n",
      "\n",
      "\n",
      "DataFrame: ratings, Number of Rows: 100836\n",
      "   userId  movieId  rating  timestamp\n",
      "0       1        1     4.0  964982703\n",
      "1       1        3     4.0  964981247\n",
      "2       1        6     4.0  964982224\n",
      "3       1       47     5.0  964983815\n",
      "4       1       50     5.0  964982931\n",
      "\n",
      "\n",
      "DataFrame: tags, Number of Rows: 3683\n",
      "   userId  movieId              tag   timestamp\n",
      "0       2    60756            funny  1445714994\n",
      "1       2    60756  Highly quotable  1445714996\n",
      "2       2    60756     will ferrell  1445714992\n",
      "3       2    89774     Boxing story  1445715207\n",
      "4       2    89774              MMA  1445715200\n",
      "\n",
      "\n"
     ]
    }
   ],
   "source": [
    "import os\n",
    "import pandas as pd\n",
    "\n",
    "# Define the folder path for the \"movierec\" folder on your desktop\n",
    "folder_path = os.path.join(os.path.expanduser(\"~\"), \"Desktop\", \"movierec\")\n",
    "\n",
    "# Define file paths for each CSV file\n",
    "file_paths = {\n",
    "    'movies': os.path.join(folder_path, 'movies.csv'),\n",
    "    'links': os.path.join(folder_path, 'links.csv'),\n",
    "    'ratings': os.path.join(folder_path, 'ratings.csv'),\n",
    "    'tags': os.path.join(folder_path, 'tags.csv')\n",
    "}\n",
    "\n",
    "# Create an empty dictionary to store DataFrames\n",
    "dfs = {}\n",
    "\n",
    "# Read each CSV file into a DataFrame and store it in the dictionary\n",
    "for key, path in file_paths.items():\n",
    "    dfs[key] = pd.read_csv(path)\n",
    "\n",
    "# Check the number of rows in each DataFrame and display the first few rows with column names\n",
    "for key, df in dfs.items():\n",
    "    print(f\"DataFrame: {key}, Number of Rows: {df.shape[0]}\")\n",
    "    print(df.head())  # Display the first few rows of the DataFrame with column names\n",
    "    print(\"\\n\")\n"
   ]
  },
  {
   "cell_type": "code",
   "execution_count": 5,
   "id": "64641914-6350-4efe-9723-30bd91c11574",
   "metadata": {},
   "outputs": [
    {
     "name": "stdout",
     "output_type": "stream",
     "text": [
      "   movieId             title                                       genres  \\\n",
      "0        1  Toy Story (1995)  Adventure|Animation|Children|Comedy|Fantasy   \n",
      "1        1  Toy Story (1995)  Adventure|Animation|Children|Comedy|Fantasy   \n",
      "2        1  Toy Story (1995)  Adventure|Animation|Children|Comedy|Fantasy   \n",
      "3        1  Toy Story (1995)  Adventure|Animation|Children|Comedy|Fantasy   \n",
      "4        1  Toy Story (1995)  Adventure|Animation|Children|Comedy|Fantasy   \n",
      "\n",
      "   userId_x  rating  timestamp_x  userId_y    tag  timestamp_y  imdbId  tmdbId  \n",
      "0         1     4.0    964982703       336  pixar   1139045764  114709   862.0  \n",
      "1         1     4.0    964982703       474  pixar   1137206825  114709   862.0  \n",
      "2         1     4.0    964982703       567    fun   1525286013  114709   862.0  \n",
      "3         5     4.0    847434962       336  pixar   1139045764  114709   862.0  \n",
      "4         5     4.0    847434962       474  pixar   1137206825  114709   862.0  \n"
     ]
    }
   ],
   "source": [
    "# Merge 'movies' DataFrame with 'ratings' DataFrame on 'movieId'\n",
    "merged_df = pd.merge(dfs['movies'], dfs['ratings'], on='movieId', how='inner')\n",
    "\n",
    "# Merge 'merged_df' with 'tags' DataFrame on 'movieId'\n",
    "merged_df = pd.merge(merged_df, dfs['tags'], on='movieId', how='inner')\n",
    "\n",
    "# Merge 'merged_df' with 'links' DataFrame on 'movieId'\n",
    "merged_df = pd.merge(merged_df, dfs['links'], on='movieId', how='inner')\n",
    "\n",
    "# Display the first few rows of the merged DataFrame\n",
    "print(merged_df.head())\n"
   ]
  },
  {
   "cell_type": "code",
   "execution_count": 6,
   "id": "ba6b0adc-2436-4d19-bda7-791d492a76a0",
   "metadata": {},
   "outputs": [
    {
     "name": "stdout",
     "output_type": "stream",
     "text": [
      "Index(['movieId', 'title', 'genres', 'userId_x', 'rating', 'timestamp_x',\n",
      "       'userId_y', 'tag', 'timestamp_y', 'imdbId', 'tmdbId'],\n",
      "      dtype='object')\n"
     ]
    }
   ],
   "source": [
    "# Print all the columns of the merged DataFrame\n",
    "print(merged_df.columns)\n"
   ]
  },
  {
   "cell_type": "markdown",
   "id": "6e432584-d9dc-414a-90ba-c6175703145d",
   "metadata": {},
   "source": [
    "| Column                | Description                                                    |\n",
    "|-----------------------|----------------------------------------------------------------|\n",
    "| movieId               | Unique identifier for each movie                               |\n",
    "| title                 | Title of the movie along with the release year                 |\n",
    "| genres                | Genres associated with the movie, separated by '|'            |\n",
    "| userId_x              | User ID of the user who provided the rating                    |\n",
    "| rating                | Rating given to the movie by the user                          |\n",
    "| timestamp_x           | Timestamp when the rating was given by the user                |\n",
    "| userId_y              | User ID of the user who applied the tag                        |\n",
    "| tag                   | Tag applied to the movie by the user                           |\n",
    "| timestamp_y           | Timestamp when the tag was applied by the user                 |\n",
    "| imdbId                | IMDb ID of the movie                                            |\n",
    "| tmdbId                | TMDb ID of the movie                                            |\n"
   ]
  },
  {
   "cell_type": "markdown",
   "id": "4be61a6e-d594-4dcb-a486-635578ca755f",
   "metadata": {},
   "source": [
    "# Data Preperation "
   ]
  },
  {
   "cell_type": "code",
   "execution_count": null,
   "id": "0c90564b-99ee-4ef4-ab6a-2c5907e8b1df",
   "metadata": {},
   "outputs": [],
   "source": []
  },
  {
   "cell_type": "code",
   "execution_count": null,
   "id": "d228e973-700f-4d61-b0f3-220143ff3333",
   "metadata": {},
   "outputs": [],
   "source": []
  },
  {
   "cell_type": "markdown",
   "id": "24fc9259-ce21-4b10-9b88-b8494e5b51e6",
   "metadata": {},
   "source": [
    "# Exploratory Data Analysis"
   ]
  },
  {
   "cell_type": "markdown",
   "id": "0196ec68-6d30-45d2-b96a-5baf8116c588",
   "metadata": {},
   "source": []
  },
  {
   "cell_type": "markdown",
   "id": "e4a4ae6a-d433-4e52-b9f9-ccc5d49e7926",
   "metadata": {},
   "source": [
    "# Modeling"
   ]
  },
  {
   "cell_type": "markdown",
   "id": "eb054ba0-2190-4b70-ab23-469645cae221",
   "metadata": {},
   "source": []
  },
  {
   "cell_type": "markdown",
   "id": "dbf04493-e1bf-43c1-b609-fb1ee6bfd7ad",
   "metadata": {},
   "source": [
    "# Conclusions"
   ]
  },
  {
   "cell_type": "markdown",
   "id": "93b2f750-1445-4706-9fa4-4ee1bb0c58d6",
   "metadata": {},
   "source": []
  },
  {
   "cell_type": "markdown",
   "id": "5fc69233-1ca8-4ab0-a24d-33c0fcd46639",
   "metadata": {},
   "source": [
    "# Recommendations"
   ]
  }
 ],
 "metadata": {
  "kernelspec": {
   "display_name": "Python 3 (ipykernel)",
   "language": "python",
   "name": "python3"
  },
  "language_info": {
   "codemirror_mode": {
    "name": "ipython",
    "version": 3
   },
   "file_extension": ".py",
   "mimetype": "text/x-python",
   "name": "python",
   "nbconvert_exporter": "python",
   "pygments_lexer": "ipython3",
   "version": "3.8.16"
  }
 },
 "nbformat": 4,
 "nbformat_minor": 5
}
